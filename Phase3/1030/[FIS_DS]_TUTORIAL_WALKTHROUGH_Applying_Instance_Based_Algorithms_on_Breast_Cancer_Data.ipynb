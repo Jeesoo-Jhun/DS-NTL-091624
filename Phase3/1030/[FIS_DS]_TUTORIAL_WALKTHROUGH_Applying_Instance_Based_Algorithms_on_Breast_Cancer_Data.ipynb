{
  "cells": [
    {
      "cell_type": "markdown",
      "metadata": {
        "id": "FI5JkcQwOYE7"
      },
      "source": [
        "---\n",
        "---\n",
        "---"
      ]
    },
    {
      "cell_type": "markdown",
      "metadata": {
        "id": "ixq3BGi-QUfM"
      },
      "source": [
        "# 💠 **TUTORIAL**: Applying Instance-Based Algorithms on Breast Cancer Data 💠"
      ]
    },
    {
      "cell_type": "markdown",
      "metadata": {
        "id": "Rihc6PqOQbxD"
      },
      "source": [
        "---"
      ]
    },
    {
      "cell_type": "markdown",
      "metadata": {
        "id": "DQ3ldiewQciG"
      },
      "source": [
        "In your very first machine learning tutorial, you'll be extending your conceptual learning of two core instance-based algorithms across a new dataset.\n",
        "\n",
        "The two specific algorithms you'll be constructing, training, fitting, and testing are the **k-Nearest Neighbors Algorithm** and the **Support Vector Machine Algorithm**."
      ]
    },
    {
      "cell_type": "code",
      "execution_count": 1,
      "metadata": {
        "id": "Y2khrfuy1epl"
      },
      "outputs": [],
      "source": [
        "import numpy as np\n",
        "import pandas as pd\n",
        "import matplotlib.pyplot as plt\n",
        "import seaborn as sns\n",
        "\n",
        "#import sklearn -> don't import the whole library\n",
        "\n",
        "from sklearn.model_selection import train_test_split\n",
        "from sklearn.metrics import confusion_matrix, classification_report, accuracy_score\n",
        "\n",
        "from sklearn.neighbors import KNeighborsClassifier\n",
        "from sklearn.svm import SVC"
      ]
    },
    {
      "cell_type": "code",
      "execution_count": 2,
      "metadata": {
        "colab": {
          "base_uri": "https://localhost:8080/"
        },
        "id": "dyY4aS0o0BLt",
        "outputId": "d99237d8-f34c-47a1-ff76-86e9bdaf15ae"
      },
      "outputs": [
        {
          "name": "stdout",
          "output_type": "stream",
          "text": [
            "Collecting ucimlrepo\n",
            "  Downloading ucimlrepo-0.0.7-py3-none-any.whl.metadata (5.5 kB)\n",
            "Requirement already satisfied: pandas>=1.0.0 in /opt/anaconda3/envs/Cohort_Env/lib/python3.8/site-packages (from ucimlrepo) (2.0.3)\n",
            "Requirement already satisfied: certifi>=2020.12.5 in /opt/anaconda3/envs/Cohort_Env/lib/python3.8/site-packages (from ucimlrepo) (2024.8.30)\n",
            "Requirement already satisfied: python-dateutil>=2.8.2 in /opt/anaconda3/envs/Cohort_Env/lib/python3.8/site-packages (from pandas>=1.0.0->ucimlrepo) (2.9.0.post0)\n",
            "Requirement already satisfied: pytz>=2020.1 in /opt/anaconda3/envs/Cohort_Env/lib/python3.8/site-packages (from pandas>=1.0.0->ucimlrepo) (2024.1)\n",
            "Requirement already satisfied: tzdata>=2022.1 in /opt/anaconda3/envs/Cohort_Env/lib/python3.8/site-packages (from pandas>=1.0.0->ucimlrepo) (2023.3)\n",
            "Requirement already satisfied: numpy>=1.20.3 in /opt/anaconda3/envs/Cohort_Env/lib/python3.8/site-packages (from pandas>=1.0.0->ucimlrepo) (1.24.3)\n",
            "Requirement already satisfied: six>=1.5 in /opt/anaconda3/envs/Cohort_Env/lib/python3.8/site-packages (from python-dateutil>=2.8.2->pandas>=1.0.0->ucimlrepo) (1.16.0)\n",
            "Downloading ucimlrepo-0.0.7-py3-none-any.whl (8.0 kB)\n",
            "Installing collected packages: ucimlrepo\n",
            "Successfully installed ucimlrepo-0.0.7\n"
          ]
        }
      ],
      "source": [
        "!pip install ucimlrepo"
      ]
    },
    {
      "cell_type": "markdown",
      "metadata": {
        "id": "YCnu2QjC0W3j"
      },
      "source": [
        "In order to work on this tutorial, we'll need access to a popular and powerful dataset useful for machine learning analysis.\n",
        "\n",
        "Thankfully, when learning machine learning and deep learning, there exists several repositories and open-source stores with accessible and preprocessed data readily available for modeling.\n",
        "\n",
        "Many such datasets is available via the **UCI Machine Learning Repository**, which is one of the most popular access points for accessing machine learning data alongside **Kaggle**, **GitHub**, and **Google Datasets**.\n",
        "\n",
        "The specific dataset that we'll be working with today is the **[Wisconsin Breast Cancer Dataset](https://archive.ics.uci.edu/ml/datasets/Breast+Cancer+Wisconsin+%28Diagnostic%29)**."
      ]
    },
    {
      "cell_type": "code",
      "execution_count": 3,
      "metadata": {
        "id": "oQ6pQrG3z5Mt"
      },
      "outputs": [],
      "source": [
        "from ucimlrepo import fetch_ucirepo\n",
        "\n",
        "data = fetch_ucirepo(id=17).data"
      ]
    },
    {
      "cell_type": "markdown",
      "metadata": {
        "id": "eCWPNryEOlhc"
      },
      "source": [
        "---\n",
        "---"
      ]
    },
    {
      "cell_type": "markdown",
      "metadata": {
        "id": "kutgKqzq30Dx"
      },
      "source": [
        "Even though we're now operating in the world of machine learning, we must never forget where we came from.\n",
        "\n",
        "In this case, we're referring to the practices of exploratory data analysis, wrangling, processing, and sanitization that are mandated to ensure the integrity and reliability of our data.\n",
        "\n",
        "As always, we can start by taking a peek at our dataset itself."
      ]
    },
    {
      "cell_type": "code",
      "execution_count": 4,
      "metadata": {
        "colab": {
          "base_uri": "https://localhost:8080/",
          "height": 193
        },
        "id": "cXbn4mgZ2uLQ",
        "outputId": "7205c69f-a7c9-4e70-bf16-070101a03d71"
      },
      "outputs": [
        {
          "data": {
            "text/html": [
              "<div>\n",
              "<style scoped>\n",
              "    .dataframe tbody tr th:only-of-type {\n",
              "        vertical-align: middle;\n",
              "    }\n",
              "\n",
              "    .dataframe tbody tr th {\n",
              "        vertical-align: top;\n",
              "    }\n",
              "\n",
              "    .dataframe thead th {\n",
              "        text-align: right;\n",
              "    }\n",
              "</style>\n",
              "<table border=\"1\" class=\"dataframe\">\n",
              "  <thead>\n",
              "    <tr style=\"text-align: right;\">\n",
              "      <th></th>\n",
              "      <th>radius1</th>\n",
              "      <th>texture1</th>\n",
              "      <th>perimeter1</th>\n",
              "      <th>area1</th>\n",
              "      <th>smoothness1</th>\n",
              "      <th>compactness1</th>\n",
              "      <th>concavity1</th>\n",
              "      <th>concave_points1</th>\n",
              "      <th>symmetry1</th>\n",
              "      <th>fractal_dimension1</th>\n",
              "      <th>...</th>\n",
              "      <th>radius3</th>\n",
              "      <th>texture3</th>\n",
              "      <th>perimeter3</th>\n",
              "      <th>area3</th>\n",
              "      <th>smoothness3</th>\n",
              "      <th>compactness3</th>\n",
              "      <th>concavity3</th>\n",
              "      <th>concave_points3</th>\n",
              "      <th>symmetry3</th>\n",
              "      <th>fractal_dimension3</th>\n",
              "    </tr>\n",
              "  </thead>\n",
              "  <tbody>\n",
              "    <tr>\n",
              "      <th>0</th>\n",
              "      <td>17.99</td>\n",
              "      <td>10.38</td>\n",
              "      <td>122.8</td>\n",
              "      <td>1001.0</td>\n",
              "      <td>0.11840</td>\n",
              "      <td>0.27760</td>\n",
              "      <td>0.3001</td>\n",
              "      <td>0.14710</td>\n",
              "      <td>0.2419</td>\n",
              "      <td>0.07871</td>\n",
              "      <td>...</td>\n",
              "      <td>25.38</td>\n",
              "      <td>17.33</td>\n",
              "      <td>184.6</td>\n",
              "      <td>2019.0</td>\n",
              "      <td>0.1622</td>\n",
              "      <td>0.6656</td>\n",
              "      <td>0.7119</td>\n",
              "      <td>0.2654</td>\n",
              "      <td>0.4601</td>\n",
              "      <td>0.11890</td>\n",
              "    </tr>\n",
              "    <tr>\n",
              "      <th>1</th>\n",
              "      <td>20.57</td>\n",
              "      <td>17.77</td>\n",
              "      <td>132.9</td>\n",
              "      <td>1326.0</td>\n",
              "      <td>0.08474</td>\n",
              "      <td>0.07864</td>\n",
              "      <td>0.0869</td>\n",
              "      <td>0.07017</td>\n",
              "      <td>0.1812</td>\n",
              "      <td>0.05667</td>\n",
              "      <td>...</td>\n",
              "      <td>24.99</td>\n",
              "      <td>23.41</td>\n",
              "      <td>158.8</td>\n",
              "      <td>1956.0</td>\n",
              "      <td>0.1238</td>\n",
              "      <td>0.1866</td>\n",
              "      <td>0.2416</td>\n",
              "      <td>0.1860</td>\n",
              "      <td>0.2750</td>\n",
              "      <td>0.08902</td>\n",
              "    </tr>\n",
              "    <tr>\n",
              "      <th>2</th>\n",
              "      <td>19.69</td>\n",
              "      <td>21.25</td>\n",
              "      <td>130.0</td>\n",
              "      <td>1203.0</td>\n",
              "      <td>0.10960</td>\n",
              "      <td>0.15990</td>\n",
              "      <td>0.1974</td>\n",
              "      <td>0.12790</td>\n",
              "      <td>0.2069</td>\n",
              "      <td>0.05999</td>\n",
              "      <td>...</td>\n",
              "      <td>23.57</td>\n",
              "      <td>25.53</td>\n",
              "      <td>152.5</td>\n",
              "      <td>1709.0</td>\n",
              "      <td>0.1444</td>\n",
              "      <td>0.4245</td>\n",
              "      <td>0.4504</td>\n",
              "      <td>0.2430</td>\n",
              "      <td>0.3613</td>\n",
              "      <td>0.08758</td>\n",
              "    </tr>\n",
              "  </tbody>\n",
              "</table>\n",
              "<p>3 rows × 30 columns</p>\n",
              "</div>"
            ],
            "text/plain": [
              "   radius1  texture1  perimeter1   area1  smoothness1  compactness1  \\\n",
              "0    17.99     10.38       122.8  1001.0      0.11840       0.27760   \n",
              "1    20.57     17.77       132.9  1326.0      0.08474       0.07864   \n",
              "2    19.69     21.25       130.0  1203.0      0.10960       0.15990   \n",
              "\n",
              "   concavity1  concave_points1  symmetry1  fractal_dimension1  ...  radius3  \\\n",
              "0      0.3001          0.14710     0.2419             0.07871  ...    25.38   \n",
              "1      0.0869          0.07017     0.1812             0.05667  ...    24.99   \n",
              "2      0.1974          0.12790     0.2069             0.05999  ...    23.57   \n",
              "\n",
              "   texture3  perimeter3   area3  smoothness3  compactness3  concavity3  \\\n",
              "0     17.33       184.6  2019.0       0.1622        0.6656      0.7119   \n",
              "1     23.41       158.8  1956.0       0.1238        0.1866      0.2416   \n",
              "2     25.53       152.5  1709.0       0.1444        0.4245      0.4504   \n",
              "\n",
              "   concave_points3  symmetry3  fractal_dimension3  \n",
              "0           0.2654     0.4601             0.11890  \n",
              "1           0.1860     0.2750             0.08902  \n",
              "2           0.2430     0.3613             0.08758  \n",
              "\n",
              "[3 rows x 30 columns]"
            ]
          },
          "execution_count": 4,
          "metadata": {},
          "output_type": "execute_result"
        }
      ],
      "source": [
        "data.features.head(3)"
      ]
    },
    {
      "cell_type": "code",
      "execution_count": 5,
      "metadata": {
        "colab": {
          "base_uri": "https://localhost:8080/",
          "height": 143
        },
        "id": "xE51D4aB0cPZ",
        "outputId": "15a4bfe0-6fe2-46d6-a530-008da1ba4d1d"
      },
      "outputs": [
        {
          "data": {
            "text/html": [
              "<div>\n",
              "<style scoped>\n",
              "    .dataframe tbody tr th:only-of-type {\n",
              "        vertical-align: middle;\n",
              "    }\n",
              "\n",
              "    .dataframe tbody tr th {\n",
              "        vertical-align: top;\n",
              "    }\n",
              "\n",
              "    .dataframe thead th {\n",
              "        text-align: right;\n",
              "    }\n",
              "</style>\n",
              "<table border=\"1\" class=\"dataframe\">\n",
              "  <thead>\n",
              "    <tr style=\"text-align: right;\">\n",
              "      <th></th>\n",
              "      <th>Diagnosis</th>\n",
              "    </tr>\n",
              "  </thead>\n",
              "  <tbody>\n",
              "    <tr>\n",
              "      <th>0</th>\n",
              "      <td>M</td>\n",
              "    </tr>\n",
              "    <tr>\n",
              "      <th>1</th>\n",
              "      <td>M</td>\n",
              "    </tr>\n",
              "    <tr>\n",
              "      <th>2</th>\n",
              "      <td>M</td>\n",
              "    </tr>\n",
              "  </tbody>\n",
              "</table>\n",
              "</div>"
            ],
            "text/plain": [
              "  Diagnosis\n",
              "0         M\n",
              "1         M\n",
              "2         M"
            ]
          },
          "execution_count": 5,
          "metadata": {},
          "output_type": "execute_result"
        }
      ],
      "source": [
        "data.targets.head(3)"
      ]
    },
    {
      "cell_type": "code",
      "execution_count": 6,
      "metadata": {
        "colab": {
          "base_uri": "https://localhost:8080/",
          "height": 193
        },
        "id": "oTl_LM-mKI4N",
        "outputId": "064b00ab-a540-438e-ec8c-7d4f164200ea"
      },
      "outputs": [
        {
          "data": {
            "text/html": [
              "<div>\n",
              "<style scoped>\n",
              "    .dataframe tbody tr th:only-of-type {\n",
              "        vertical-align: middle;\n",
              "    }\n",
              "\n",
              "    .dataframe tbody tr th {\n",
              "        vertical-align: top;\n",
              "    }\n",
              "\n",
              "    .dataframe thead th {\n",
              "        text-align: right;\n",
              "    }\n",
              "</style>\n",
              "<table border=\"1\" class=\"dataframe\">\n",
              "  <thead>\n",
              "    <tr style=\"text-align: right;\">\n",
              "      <th></th>\n",
              "      <th>radius1</th>\n",
              "      <th>texture1</th>\n",
              "      <th>perimeter1</th>\n",
              "      <th>area1</th>\n",
              "      <th>smoothness1</th>\n",
              "      <th>compactness1</th>\n",
              "      <th>concavity1</th>\n",
              "      <th>concave_points1</th>\n",
              "      <th>symmetry1</th>\n",
              "      <th>fractal_dimension1</th>\n",
              "      <th>...</th>\n",
              "      <th>texture3</th>\n",
              "      <th>perimeter3</th>\n",
              "      <th>area3</th>\n",
              "      <th>smoothness3</th>\n",
              "      <th>compactness3</th>\n",
              "      <th>concavity3</th>\n",
              "      <th>concave_points3</th>\n",
              "      <th>symmetry3</th>\n",
              "      <th>fractal_dimension3</th>\n",
              "      <th>Diagnosis</th>\n",
              "    </tr>\n",
              "  </thead>\n",
              "  <tbody>\n",
              "    <tr>\n",
              "      <th>0</th>\n",
              "      <td>17.99</td>\n",
              "      <td>10.38</td>\n",
              "      <td>122.8</td>\n",
              "      <td>1001.0</td>\n",
              "      <td>0.11840</td>\n",
              "      <td>0.27760</td>\n",
              "      <td>0.3001</td>\n",
              "      <td>0.14710</td>\n",
              "      <td>0.2419</td>\n",
              "      <td>0.07871</td>\n",
              "      <td>...</td>\n",
              "      <td>17.33</td>\n",
              "      <td>184.6</td>\n",
              "      <td>2019.0</td>\n",
              "      <td>0.1622</td>\n",
              "      <td>0.6656</td>\n",
              "      <td>0.7119</td>\n",
              "      <td>0.2654</td>\n",
              "      <td>0.4601</td>\n",
              "      <td>0.11890</td>\n",
              "      <td>M</td>\n",
              "    </tr>\n",
              "    <tr>\n",
              "      <th>1</th>\n",
              "      <td>20.57</td>\n",
              "      <td>17.77</td>\n",
              "      <td>132.9</td>\n",
              "      <td>1326.0</td>\n",
              "      <td>0.08474</td>\n",
              "      <td>0.07864</td>\n",
              "      <td>0.0869</td>\n",
              "      <td>0.07017</td>\n",
              "      <td>0.1812</td>\n",
              "      <td>0.05667</td>\n",
              "      <td>...</td>\n",
              "      <td>23.41</td>\n",
              "      <td>158.8</td>\n",
              "      <td>1956.0</td>\n",
              "      <td>0.1238</td>\n",
              "      <td>0.1866</td>\n",
              "      <td>0.2416</td>\n",
              "      <td>0.1860</td>\n",
              "      <td>0.2750</td>\n",
              "      <td>0.08902</td>\n",
              "      <td>M</td>\n",
              "    </tr>\n",
              "    <tr>\n",
              "      <th>2</th>\n",
              "      <td>19.69</td>\n",
              "      <td>21.25</td>\n",
              "      <td>130.0</td>\n",
              "      <td>1203.0</td>\n",
              "      <td>0.10960</td>\n",
              "      <td>0.15990</td>\n",
              "      <td>0.1974</td>\n",
              "      <td>0.12790</td>\n",
              "      <td>0.2069</td>\n",
              "      <td>0.05999</td>\n",
              "      <td>...</td>\n",
              "      <td>25.53</td>\n",
              "      <td>152.5</td>\n",
              "      <td>1709.0</td>\n",
              "      <td>0.1444</td>\n",
              "      <td>0.4245</td>\n",
              "      <td>0.4504</td>\n",
              "      <td>0.2430</td>\n",
              "      <td>0.3613</td>\n",
              "      <td>0.08758</td>\n",
              "      <td>M</td>\n",
              "    </tr>\n",
              "  </tbody>\n",
              "</table>\n",
              "<p>3 rows × 31 columns</p>\n",
              "</div>"
            ],
            "text/plain": [
              "   radius1  texture1  perimeter1   area1  smoothness1  compactness1  \\\n",
              "0    17.99     10.38       122.8  1001.0      0.11840       0.27760   \n",
              "1    20.57     17.77       132.9  1326.0      0.08474       0.07864   \n",
              "2    19.69     21.25       130.0  1203.0      0.10960       0.15990   \n",
              "\n",
              "   concavity1  concave_points1  symmetry1  fractal_dimension1  ...  texture3  \\\n",
              "0      0.3001          0.14710     0.2419             0.07871  ...     17.33   \n",
              "1      0.0869          0.07017     0.1812             0.05667  ...     23.41   \n",
              "2      0.1974          0.12790     0.2069             0.05999  ...     25.53   \n",
              "\n",
              "   perimeter3   area3  smoothness3  compactness3  concavity3  concave_points3  \\\n",
              "0       184.6  2019.0       0.1622        0.6656      0.7119           0.2654   \n",
              "1       158.8  1956.0       0.1238        0.1866      0.2416           0.1860   \n",
              "2       152.5  1709.0       0.1444        0.4245      0.4504           0.2430   \n",
              "\n",
              "   symmetry3  fractal_dimension3  Diagnosis  \n",
              "0     0.4601             0.11890          M  \n",
              "1     0.2750             0.08902          M  \n",
              "2     0.3613             0.08758          M  \n",
              "\n",
              "[3 rows x 31 columns]"
            ]
          },
          "execution_count": 6,
          "metadata": {},
          "output_type": "execute_result"
        }
      ],
      "source": [
        "dataset = data.features.join(data.targets)\n",
        "\n",
        "dataset.head(3)"
      ]
    },
    {
      "cell_type": "markdown",
      "metadata": {
        "id": "BOmjsM9twzQT"
      },
      "source": [
        "To take a quick walkthrough into our dataset and not burn too much time on data analysis and cleaning, let's take an immediate look into the distribution of null values across our data."
      ]
    },
    {
      "cell_type": "code",
      "execution_count": 7,
      "metadata": {
        "colab": {
          "base_uri": "https://localhost:8080/",
          "height": 1000
        },
        "id": "1oN_bxe42vYa",
        "outputId": "8473bbb0-7c4f-4d8d-d4a4-866529868c98"
      },
      "outputs": [
        {
          "data": {
            "text/plain": [
              "radius1               0\n",
              "texture1              0\n",
              "perimeter1            0\n",
              "area1                 0\n",
              "smoothness1           0\n",
              "compactness1          0\n",
              "concavity1            0\n",
              "concave_points1       0\n",
              "symmetry1             0\n",
              "fractal_dimension1    0\n",
              "radius2               0\n",
              "texture2              0\n",
              "perimeter2            0\n",
              "area2                 0\n",
              "smoothness2           0\n",
              "compactness2          0\n",
              "concavity2            0\n",
              "concave_points2       0\n",
              "symmetry2             0\n",
              "fractal_dimension2    0\n",
              "radius3               0\n",
              "texture3              0\n",
              "perimeter3            0\n",
              "area3                 0\n",
              "smoothness3           0\n",
              "compactness3          0\n",
              "concavity3            0\n",
              "concave_points3       0\n",
              "symmetry3             0\n",
              "fractal_dimension3    0\n",
              "Diagnosis             0\n",
              "dtype: int64"
            ]
          },
          "execution_count": 7,
          "metadata": {},
          "output_type": "execute_result"
        }
      ],
      "source": [
        "dataset.isna().sum()"
      ]
    },
    {
      "cell_type": "markdown",
      "metadata": {
        "id": "ipi8p3lTxO95"
      },
      "source": [
        "Now that our dataset is cleaned of null values, let's take a closer look at our generalized descriptive statistics to observe any interesting qualities, anomalies, and/or ideosyncracies about our data."
      ]
    },
    {
      "cell_type": "code",
      "execution_count": 8,
      "metadata": {
        "colab": {
          "base_uri": "https://localhost:8080/",
          "height": 350
        },
        "id": "g_6l_B4x289Q",
        "outputId": "3ff25341-043a-4980-bdd5-fcbfa0ba66ed"
      },
      "outputs": [
        {
          "data": {
            "text/html": [
              "<div>\n",
              "<style scoped>\n",
              "    .dataframe tbody tr th:only-of-type {\n",
              "        vertical-align: middle;\n",
              "    }\n",
              "\n",
              "    .dataframe tbody tr th {\n",
              "        vertical-align: top;\n",
              "    }\n",
              "\n",
              "    .dataframe thead th {\n",
              "        text-align: right;\n",
              "    }\n",
              "</style>\n",
              "<table border=\"1\" class=\"dataframe\">\n",
              "  <thead>\n",
              "    <tr style=\"text-align: right;\">\n",
              "      <th></th>\n",
              "      <th>radius1</th>\n",
              "      <th>texture1</th>\n",
              "      <th>perimeter1</th>\n",
              "      <th>area1</th>\n",
              "      <th>smoothness1</th>\n",
              "      <th>compactness1</th>\n",
              "      <th>concavity1</th>\n",
              "      <th>concave_points1</th>\n",
              "      <th>symmetry1</th>\n",
              "      <th>fractal_dimension1</th>\n",
              "      <th>...</th>\n",
              "      <th>radius3</th>\n",
              "      <th>texture3</th>\n",
              "      <th>perimeter3</th>\n",
              "      <th>area3</th>\n",
              "      <th>smoothness3</th>\n",
              "      <th>compactness3</th>\n",
              "      <th>concavity3</th>\n",
              "      <th>concave_points3</th>\n",
              "      <th>symmetry3</th>\n",
              "      <th>fractal_dimension3</th>\n",
              "    </tr>\n",
              "  </thead>\n",
              "  <tbody>\n",
              "    <tr>\n",
              "      <th>count</th>\n",
              "      <td>569.000000</td>\n",
              "      <td>569.000000</td>\n",
              "      <td>569.000000</td>\n",
              "      <td>569.000000</td>\n",
              "      <td>569.000000</td>\n",
              "      <td>569.000000</td>\n",
              "      <td>569.000000</td>\n",
              "      <td>569.000000</td>\n",
              "      <td>569.000000</td>\n",
              "      <td>569.000000</td>\n",
              "      <td>...</td>\n",
              "      <td>569.000000</td>\n",
              "      <td>569.000000</td>\n",
              "      <td>569.000000</td>\n",
              "      <td>569.000000</td>\n",
              "      <td>569.000000</td>\n",
              "      <td>569.000000</td>\n",
              "      <td>569.000000</td>\n",
              "      <td>569.000000</td>\n",
              "      <td>569.000000</td>\n",
              "      <td>569.000000</td>\n",
              "    </tr>\n",
              "    <tr>\n",
              "      <th>mean</th>\n",
              "      <td>14.127292</td>\n",
              "      <td>19.289649</td>\n",
              "      <td>91.969033</td>\n",
              "      <td>654.889104</td>\n",
              "      <td>0.096360</td>\n",
              "      <td>0.104341</td>\n",
              "      <td>0.088799</td>\n",
              "      <td>0.048919</td>\n",
              "      <td>0.181162</td>\n",
              "      <td>0.062798</td>\n",
              "      <td>...</td>\n",
              "      <td>16.269190</td>\n",
              "      <td>25.677223</td>\n",
              "      <td>107.261213</td>\n",
              "      <td>880.583128</td>\n",
              "      <td>0.132369</td>\n",
              "      <td>0.254265</td>\n",
              "      <td>0.272188</td>\n",
              "      <td>0.114606</td>\n",
              "      <td>0.290076</td>\n",
              "      <td>0.083946</td>\n",
              "    </tr>\n",
              "    <tr>\n",
              "      <th>std</th>\n",
              "      <td>3.524049</td>\n",
              "      <td>4.301036</td>\n",
              "      <td>24.298981</td>\n",
              "      <td>351.914129</td>\n",
              "      <td>0.014064</td>\n",
              "      <td>0.052813</td>\n",
              "      <td>0.079720</td>\n",
              "      <td>0.038803</td>\n",
              "      <td>0.027414</td>\n",
              "      <td>0.007060</td>\n",
              "      <td>...</td>\n",
              "      <td>4.833242</td>\n",
              "      <td>6.146258</td>\n",
              "      <td>33.602542</td>\n",
              "      <td>569.356993</td>\n",
              "      <td>0.022832</td>\n",
              "      <td>0.157336</td>\n",
              "      <td>0.208624</td>\n",
              "      <td>0.065732</td>\n",
              "      <td>0.061867</td>\n",
              "      <td>0.018061</td>\n",
              "    </tr>\n",
              "    <tr>\n",
              "      <th>min</th>\n",
              "      <td>6.981000</td>\n",
              "      <td>9.710000</td>\n",
              "      <td>43.790000</td>\n",
              "      <td>143.500000</td>\n",
              "      <td>0.052630</td>\n",
              "      <td>0.019380</td>\n",
              "      <td>0.000000</td>\n",
              "      <td>0.000000</td>\n",
              "      <td>0.106000</td>\n",
              "      <td>0.049960</td>\n",
              "      <td>...</td>\n",
              "      <td>7.930000</td>\n",
              "      <td>12.020000</td>\n",
              "      <td>50.410000</td>\n",
              "      <td>185.200000</td>\n",
              "      <td>0.071170</td>\n",
              "      <td>0.027290</td>\n",
              "      <td>0.000000</td>\n",
              "      <td>0.000000</td>\n",
              "      <td>0.156500</td>\n",
              "      <td>0.055040</td>\n",
              "    </tr>\n",
              "    <tr>\n",
              "      <th>25%</th>\n",
              "      <td>11.700000</td>\n",
              "      <td>16.170000</td>\n",
              "      <td>75.170000</td>\n",
              "      <td>420.300000</td>\n",
              "      <td>0.086370</td>\n",
              "      <td>0.064920</td>\n",
              "      <td>0.029560</td>\n",
              "      <td>0.020310</td>\n",
              "      <td>0.161900</td>\n",
              "      <td>0.057700</td>\n",
              "      <td>...</td>\n",
              "      <td>13.010000</td>\n",
              "      <td>21.080000</td>\n",
              "      <td>84.110000</td>\n",
              "      <td>515.300000</td>\n",
              "      <td>0.116600</td>\n",
              "      <td>0.147200</td>\n",
              "      <td>0.114500</td>\n",
              "      <td>0.064930</td>\n",
              "      <td>0.250400</td>\n",
              "      <td>0.071460</td>\n",
              "    </tr>\n",
              "    <tr>\n",
              "      <th>50%</th>\n",
              "      <td>13.370000</td>\n",
              "      <td>18.840000</td>\n",
              "      <td>86.240000</td>\n",
              "      <td>551.100000</td>\n",
              "      <td>0.095870</td>\n",
              "      <td>0.092630</td>\n",
              "      <td>0.061540</td>\n",
              "      <td>0.033500</td>\n",
              "      <td>0.179200</td>\n",
              "      <td>0.061540</td>\n",
              "      <td>...</td>\n",
              "      <td>14.970000</td>\n",
              "      <td>25.410000</td>\n",
              "      <td>97.660000</td>\n",
              "      <td>686.500000</td>\n",
              "      <td>0.131300</td>\n",
              "      <td>0.211900</td>\n",
              "      <td>0.226700</td>\n",
              "      <td>0.099930</td>\n",
              "      <td>0.282200</td>\n",
              "      <td>0.080040</td>\n",
              "    </tr>\n",
              "    <tr>\n",
              "      <th>75%</th>\n",
              "      <td>15.780000</td>\n",
              "      <td>21.800000</td>\n",
              "      <td>104.100000</td>\n",
              "      <td>782.700000</td>\n",
              "      <td>0.105300</td>\n",
              "      <td>0.130400</td>\n",
              "      <td>0.130700</td>\n",
              "      <td>0.074000</td>\n",
              "      <td>0.195700</td>\n",
              "      <td>0.066120</td>\n",
              "      <td>...</td>\n",
              "      <td>18.790000</td>\n",
              "      <td>29.720000</td>\n",
              "      <td>125.400000</td>\n",
              "      <td>1084.000000</td>\n",
              "      <td>0.146000</td>\n",
              "      <td>0.339100</td>\n",
              "      <td>0.382900</td>\n",
              "      <td>0.161400</td>\n",
              "      <td>0.317900</td>\n",
              "      <td>0.092080</td>\n",
              "    </tr>\n",
              "    <tr>\n",
              "      <th>max</th>\n",
              "      <td>28.110000</td>\n",
              "      <td>39.280000</td>\n",
              "      <td>188.500000</td>\n",
              "      <td>2501.000000</td>\n",
              "      <td>0.163400</td>\n",
              "      <td>0.345400</td>\n",
              "      <td>0.426800</td>\n",
              "      <td>0.201200</td>\n",
              "      <td>0.304000</td>\n",
              "      <td>0.097440</td>\n",
              "      <td>...</td>\n",
              "      <td>36.040000</td>\n",
              "      <td>49.540000</td>\n",
              "      <td>251.200000</td>\n",
              "      <td>4254.000000</td>\n",
              "      <td>0.222600</td>\n",
              "      <td>1.058000</td>\n",
              "      <td>1.252000</td>\n",
              "      <td>0.291000</td>\n",
              "      <td>0.663800</td>\n",
              "      <td>0.207500</td>\n",
              "    </tr>\n",
              "  </tbody>\n",
              "</table>\n",
              "<p>8 rows × 30 columns</p>\n",
              "</div>"
            ],
            "text/plain": [
              "          radius1    texture1  perimeter1        area1  smoothness1  \\\n",
              "count  569.000000  569.000000  569.000000   569.000000   569.000000   \n",
              "mean    14.127292   19.289649   91.969033   654.889104     0.096360   \n",
              "std      3.524049    4.301036   24.298981   351.914129     0.014064   \n",
              "min      6.981000    9.710000   43.790000   143.500000     0.052630   \n",
              "25%     11.700000   16.170000   75.170000   420.300000     0.086370   \n",
              "50%     13.370000   18.840000   86.240000   551.100000     0.095870   \n",
              "75%     15.780000   21.800000  104.100000   782.700000     0.105300   \n",
              "max     28.110000   39.280000  188.500000  2501.000000     0.163400   \n",
              "\n",
              "       compactness1  concavity1  concave_points1   symmetry1  \\\n",
              "count    569.000000  569.000000       569.000000  569.000000   \n",
              "mean       0.104341    0.088799         0.048919    0.181162   \n",
              "std        0.052813    0.079720         0.038803    0.027414   \n",
              "min        0.019380    0.000000         0.000000    0.106000   \n",
              "25%        0.064920    0.029560         0.020310    0.161900   \n",
              "50%        0.092630    0.061540         0.033500    0.179200   \n",
              "75%        0.130400    0.130700         0.074000    0.195700   \n",
              "max        0.345400    0.426800         0.201200    0.304000   \n",
              "\n",
              "       fractal_dimension1  ...     radius3    texture3  perimeter3  \\\n",
              "count          569.000000  ...  569.000000  569.000000  569.000000   \n",
              "mean             0.062798  ...   16.269190   25.677223  107.261213   \n",
              "std              0.007060  ...    4.833242    6.146258   33.602542   \n",
              "min              0.049960  ...    7.930000   12.020000   50.410000   \n",
              "25%              0.057700  ...   13.010000   21.080000   84.110000   \n",
              "50%              0.061540  ...   14.970000   25.410000   97.660000   \n",
              "75%              0.066120  ...   18.790000   29.720000  125.400000   \n",
              "max              0.097440  ...   36.040000   49.540000  251.200000   \n",
              "\n",
              "             area3  smoothness3  compactness3  concavity3  concave_points3  \\\n",
              "count   569.000000   569.000000    569.000000  569.000000       569.000000   \n",
              "mean    880.583128     0.132369      0.254265    0.272188         0.114606   \n",
              "std     569.356993     0.022832      0.157336    0.208624         0.065732   \n",
              "min     185.200000     0.071170      0.027290    0.000000         0.000000   \n",
              "25%     515.300000     0.116600      0.147200    0.114500         0.064930   \n",
              "50%     686.500000     0.131300      0.211900    0.226700         0.099930   \n",
              "75%    1084.000000     0.146000      0.339100    0.382900         0.161400   \n",
              "max    4254.000000     0.222600      1.058000    1.252000         0.291000   \n",
              "\n",
              "        symmetry3  fractal_dimension3  \n",
              "count  569.000000          569.000000  \n",
              "mean     0.290076            0.083946  \n",
              "std      0.061867            0.018061  \n",
              "min      0.156500            0.055040  \n",
              "25%      0.250400            0.071460  \n",
              "50%      0.282200            0.080040  \n",
              "75%      0.317900            0.092080  \n",
              "max      0.663800            0.207500  \n",
              "\n",
              "[8 rows x 30 columns]"
            ]
          },
          "execution_count": 8,
          "metadata": {},
          "output_type": "execute_result"
        }
      ],
      "source": [
        "dataset.describe()"
      ]
    },
    {
      "cell_type": "markdown",
      "metadata": {
        "id": "kguTvddnOi16"
      },
      "source": [
        "---"
      ]
    },
    {
      "cell_type": "markdown",
      "metadata": {
        "id": "cnstiZHHxZx-"
      },
      "source": [
        "We can also identify correlational patterns across our data that can give us an intuition for which features we can use for predictive analysis."
      ]
    },
    {
      "cell_type": "code",
      "execution_count": 9,
      "metadata": {
        "colab": {
          "base_uri": "https://localhost:8080/"
        },
        "id": "cf_suJLa3CQH",
        "outputId": "1f7eeb61-79d0-4b1c-eaab-a78238a5669f"
      },
      "outputs": [
        {
          "data": {
            "text/html": [
              "<div>\n",
              "<style scoped>\n",
              "    .dataframe tbody tr th:only-of-type {\n",
              "        vertical-align: middle;\n",
              "    }\n",
              "\n",
              "    .dataframe tbody tr th {\n",
              "        vertical-align: top;\n",
              "    }\n",
              "\n",
              "    .dataframe thead th {\n",
              "        text-align: right;\n",
              "    }\n",
              "</style>\n",
              "<table border=\"1\" class=\"dataframe\">\n",
              "  <thead>\n",
              "    <tr style=\"text-align: right;\">\n",
              "      <th></th>\n",
              "      <th>radius1</th>\n",
              "      <th>texture1</th>\n",
              "      <th>perimeter1</th>\n",
              "      <th>area1</th>\n",
              "      <th>smoothness1</th>\n",
              "      <th>compactness1</th>\n",
              "      <th>concavity1</th>\n",
              "      <th>concave_points1</th>\n",
              "      <th>symmetry1</th>\n",
              "      <th>fractal_dimension1</th>\n",
              "      <th>...</th>\n",
              "      <th>radius3</th>\n",
              "      <th>texture3</th>\n",
              "      <th>perimeter3</th>\n",
              "      <th>area3</th>\n",
              "      <th>smoothness3</th>\n",
              "      <th>compactness3</th>\n",
              "      <th>concavity3</th>\n",
              "      <th>concave_points3</th>\n",
              "      <th>symmetry3</th>\n",
              "      <th>fractal_dimension3</th>\n",
              "    </tr>\n",
              "  </thead>\n",
              "  <tbody>\n",
              "    <tr>\n",
              "      <th>radius1</th>\n",
              "      <td>1.000000</td>\n",
              "      <td>0.323782</td>\n",
              "      <td>0.997855</td>\n",
              "      <td>0.987357</td>\n",
              "      <td>0.170581</td>\n",
              "      <td>0.506124</td>\n",
              "      <td>0.676764</td>\n",
              "      <td>0.822529</td>\n",
              "      <td>0.147741</td>\n",
              "      <td>-0.311631</td>\n",
              "      <td>...</td>\n",
              "      <td>0.969539</td>\n",
              "      <td>0.297008</td>\n",
              "      <td>0.965137</td>\n",
              "      <td>0.941082</td>\n",
              "      <td>0.119616</td>\n",
              "      <td>0.413463</td>\n",
              "      <td>0.526911</td>\n",
              "      <td>0.744214</td>\n",
              "      <td>0.163953</td>\n",
              "      <td>0.007066</td>\n",
              "    </tr>\n",
              "    <tr>\n",
              "      <th>texture1</th>\n",
              "      <td>0.323782</td>\n",
              "      <td>1.000000</td>\n",
              "      <td>0.329533</td>\n",
              "      <td>0.321086</td>\n",
              "      <td>-0.023389</td>\n",
              "      <td>0.236702</td>\n",
              "      <td>0.302418</td>\n",
              "      <td>0.293464</td>\n",
              "      <td>0.071401</td>\n",
              "      <td>-0.076437</td>\n",
              "      <td>...</td>\n",
              "      <td>0.352573</td>\n",
              "      <td>0.912045</td>\n",
              "      <td>0.358040</td>\n",
              "      <td>0.343546</td>\n",
              "      <td>0.077503</td>\n",
              "      <td>0.277830</td>\n",
              "      <td>0.301025</td>\n",
              "      <td>0.295316</td>\n",
              "      <td>0.105008</td>\n",
              "      <td>0.119205</td>\n",
              "    </tr>\n",
              "    <tr>\n",
              "      <th>perimeter1</th>\n",
              "      <td>0.997855</td>\n",
              "      <td>0.329533</td>\n",
              "      <td>1.000000</td>\n",
              "      <td>0.986507</td>\n",
              "      <td>0.207278</td>\n",
              "      <td>0.556936</td>\n",
              "      <td>0.716136</td>\n",
              "      <td>0.850977</td>\n",
              "      <td>0.183027</td>\n",
              "      <td>-0.261477</td>\n",
              "      <td>...</td>\n",
              "      <td>0.969476</td>\n",
              "      <td>0.303038</td>\n",
              "      <td>0.970387</td>\n",
              "      <td>0.941550</td>\n",
              "      <td>0.150549</td>\n",
              "      <td>0.455774</td>\n",
              "      <td>0.563879</td>\n",
              "      <td>0.771241</td>\n",
              "      <td>0.189115</td>\n",
              "      <td>0.051019</td>\n",
              "    </tr>\n",
              "    <tr>\n",
              "      <th>area1</th>\n",
              "      <td>0.987357</td>\n",
              "      <td>0.321086</td>\n",
              "      <td>0.986507</td>\n",
              "      <td>1.000000</td>\n",
              "      <td>0.177028</td>\n",
              "      <td>0.498502</td>\n",
              "      <td>0.685983</td>\n",
              "      <td>0.823269</td>\n",
              "      <td>0.151293</td>\n",
              "      <td>-0.283110</td>\n",
              "      <td>...</td>\n",
              "      <td>0.962746</td>\n",
              "      <td>0.287489</td>\n",
              "      <td>0.959120</td>\n",
              "      <td>0.959213</td>\n",
              "      <td>0.123523</td>\n",
              "      <td>0.390410</td>\n",
              "      <td>0.512606</td>\n",
              "      <td>0.722017</td>\n",
              "      <td>0.143570</td>\n",
              "      <td>0.003738</td>\n",
              "    </tr>\n",
              "    <tr>\n",
              "      <th>smoothness1</th>\n",
              "      <td>0.170581</td>\n",
              "      <td>-0.023389</td>\n",
              "      <td>0.207278</td>\n",
              "      <td>0.177028</td>\n",
              "      <td>1.000000</td>\n",
              "      <td>0.659123</td>\n",
              "      <td>0.521984</td>\n",
              "      <td>0.553695</td>\n",
              "      <td>0.557775</td>\n",
              "      <td>0.584792</td>\n",
              "      <td>...</td>\n",
              "      <td>0.213120</td>\n",
              "      <td>0.036072</td>\n",
              "      <td>0.238853</td>\n",
              "      <td>0.206718</td>\n",
              "      <td>0.805324</td>\n",
              "      <td>0.472468</td>\n",
              "      <td>0.434926</td>\n",
              "      <td>0.503053</td>\n",
              "      <td>0.394309</td>\n",
              "      <td>0.499316</td>\n",
              "    </tr>\n",
              "    <tr>\n",
              "      <th>compactness1</th>\n",
              "      <td>0.506124</td>\n",
              "      <td>0.236702</td>\n",
              "      <td>0.556936</td>\n",
              "      <td>0.498502</td>\n",
              "      <td>0.659123</td>\n",
              "      <td>1.000000</td>\n",
              "      <td>0.883121</td>\n",
              "      <td>0.831135</td>\n",
              "      <td>0.602641</td>\n",
              "      <td>0.565369</td>\n",
              "      <td>...</td>\n",
              "      <td>0.535315</td>\n",
              "      <td>0.248133</td>\n",
              "      <td>0.590210</td>\n",
              "      <td>0.509604</td>\n",
              "      <td>0.565541</td>\n",
              "      <td>0.865809</td>\n",
              "      <td>0.816275</td>\n",
              "      <td>0.815573</td>\n",
              "      <td>0.510223</td>\n",
              "      <td>0.687382</td>\n",
              "    </tr>\n",
              "    <tr>\n",
              "      <th>concavity1</th>\n",
              "      <td>0.676764</td>\n",
              "      <td>0.302418</td>\n",
              "      <td>0.716136</td>\n",
              "      <td>0.685983</td>\n",
              "      <td>0.521984</td>\n",
              "      <td>0.883121</td>\n",
              "      <td>1.000000</td>\n",
              "      <td>0.921391</td>\n",
              "      <td>0.500667</td>\n",
              "      <td>0.336783</td>\n",
              "      <td>...</td>\n",
              "      <td>0.688236</td>\n",
              "      <td>0.299879</td>\n",
              "      <td>0.729565</td>\n",
              "      <td>0.675987</td>\n",
              "      <td>0.448822</td>\n",
              "      <td>0.754968</td>\n",
              "      <td>0.884103</td>\n",
              "      <td>0.861323</td>\n",
              "      <td>0.409464</td>\n",
              "      <td>0.514930</td>\n",
              "    </tr>\n",
              "    <tr>\n",
              "      <th>concave_points1</th>\n",
              "      <td>0.822529</td>\n",
              "      <td>0.293464</td>\n",
              "      <td>0.850977</td>\n",
              "      <td>0.823269</td>\n",
              "      <td>0.553695</td>\n",
              "      <td>0.831135</td>\n",
              "      <td>0.921391</td>\n",
              "      <td>1.000000</td>\n",
              "      <td>0.462497</td>\n",
              "      <td>0.166917</td>\n",
              "      <td>...</td>\n",
              "      <td>0.830318</td>\n",
              "      <td>0.292752</td>\n",
              "      <td>0.855923</td>\n",
              "      <td>0.809630</td>\n",
              "      <td>0.452753</td>\n",
              "      <td>0.667454</td>\n",
              "      <td>0.752399</td>\n",
              "      <td>0.910155</td>\n",
              "      <td>0.375744</td>\n",
              "      <td>0.368661</td>\n",
              "    </tr>\n",
              "    <tr>\n",
              "      <th>symmetry1</th>\n",
              "      <td>0.147741</td>\n",
              "      <td>0.071401</td>\n",
              "      <td>0.183027</td>\n",
              "      <td>0.151293</td>\n",
              "      <td>0.557775</td>\n",
              "      <td>0.602641</td>\n",
              "      <td>0.500667</td>\n",
              "      <td>0.462497</td>\n",
              "      <td>1.000000</td>\n",
              "      <td>0.479921</td>\n",
              "      <td>...</td>\n",
              "      <td>0.185728</td>\n",
              "      <td>0.090651</td>\n",
              "      <td>0.219169</td>\n",
              "      <td>0.177193</td>\n",
              "      <td>0.426675</td>\n",
              "      <td>0.473200</td>\n",
              "      <td>0.433721</td>\n",
              "      <td>0.430297</td>\n",
              "      <td>0.699826</td>\n",
              "      <td>0.438413</td>\n",
              "    </tr>\n",
              "    <tr>\n",
              "      <th>fractal_dimension1</th>\n",
              "      <td>-0.311631</td>\n",
              "      <td>-0.076437</td>\n",
              "      <td>-0.261477</td>\n",
              "      <td>-0.283110</td>\n",
              "      <td>0.584792</td>\n",
              "      <td>0.565369</td>\n",
              "      <td>0.336783</td>\n",
              "      <td>0.166917</td>\n",
              "      <td>0.479921</td>\n",
              "      <td>1.000000</td>\n",
              "      <td>...</td>\n",
              "      <td>-0.253691</td>\n",
              "      <td>-0.051269</td>\n",
              "      <td>-0.205151</td>\n",
              "      <td>-0.231854</td>\n",
              "      <td>0.504942</td>\n",
              "      <td>0.458798</td>\n",
              "      <td>0.346234</td>\n",
              "      <td>0.175325</td>\n",
              "      <td>0.334019</td>\n",
              "      <td>0.767297</td>\n",
              "    </tr>\n",
              "    <tr>\n",
              "      <th>radius2</th>\n",
              "      <td>0.679090</td>\n",
              "      <td>0.275869</td>\n",
              "      <td>0.691765</td>\n",
              "      <td>0.732562</td>\n",
              "      <td>0.301467</td>\n",
              "      <td>0.497473</td>\n",
              "      <td>0.631925</td>\n",
              "      <td>0.698050</td>\n",
              "      <td>0.303379</td>\n",
              "      <td>0.000111</td>\n",
              "      <td>...</td>\n",
              "      <td>0.715065</td>\n",
              "      <td>0.194799</td>\n",
              "      <td>0.719684</td>\n",
              "      <td>0.751548</td>\n",
              "      <td>0.141919</td>\n",
              "      <td>0.287103</td>\n",
              "      <td>0.380585</td>\n",
              "      <td>0.531062</td>\n",
              "      <td>0.094543</td>\n",
              "      <td>0.049559</td>\n",
              "    </tr>\n",
              "    <tr>\n",
              "      <th>texture2</th>\n",
              "      <td>-0.097317</td>\n",
              "      <td>0.386358</td>\n",
              "      <td>-0.086761</td>\n",
              "      <td>-0.066280</td>\n",
              "      <td>0.068406</td>\n",
              "      <td>0.046205</td>\n",
              "      <td>0.076218</td>\n",
              "      <td>0.021480</td>\n",
              "      <td>0.128053</td>\n",
              "      <td>0.164174</td>\n",
              "      <td>...</td>\n",
              "      <td>-0.111690</td>\n",
              "      <td>0.409003</td>\n",
              "      <td>-0.102242</td>\n",
              "      <td>-0.083195</td>\n",
              "      <td>-0.073658</td>\n",
              "      <td>-0.092439</td>\n",
              "      <td>-0.068956</td>\n",
              "      <td>-0.119638</td>\n",
              "      <td>-0.128215</td>\n",
              "      <td>-0.045655</td>\n",
              "    </tr>\n",
              "    <tr>\n",
              "      <th>perimeter2</th>\n",
              "      <td>0.674172</td>\n",
              "      <td>0.281673</td>\n",
              "      <td>0.693135</td>\n",
              "      <td>0.726628</td>\n",
              "      <td>0.296092</td>\n",
              "      <td>0.548905</td>\n",
              "      <td>0.660391</td>\n",
              "      <td>0.710650</td>\n",
              "      <td>0.313893</td>\n",
              "      <td>0.039830</td>\n",
              "      <td>...</td>\n",
              "      <td>0.697201</td>\n",
              "      <td>0.200371</td>\n",
              "      <td>0.721031</td>\n",
              "      <td>0.730713</td>\n",
              "      <td>0.130054</td>\n",
              "      <td>0.341919</td>\n",
              "      <td>0.418899</td>\n",
              "      <td>0.554897</td>\n",
              "      <td>0.109930</td>\n",
              "      <td>0.085433</td>\n",
              "    </tr>\n",
              "    <tr>\n",
              "      <th>area2</th>\n",
              "      <td>0.735864</td>\n",
              "      <td>0.259845</td>\n",
              "      <td>0.744983</td>\n",
              "      <td>0.800086</td>\n",
              "      <td>0.246552</td>\n",
              "      <td>0.455653</td>\n",
              "      <td>0.617427</td>\n",
              "      <td>0.690299</td>\n",
              "      <td>0.223970</td>\n",
              "      <td>-0.090170</td>\n",
              "      <td>...</td>\n",
              "      <td>0.757373</td>\n",
              "      <td>0.196497</td>\n",
              "      <td>0.761213</td>\n",
              "      <td>0.811408</td>\n",
              "      <td>0.125389</td>\n",
              "      <td>0.283257</td>\n",
              "      <td>0.385100</td>\n",
              "      <td>0.538166</td>\n",
              "      <td>0.074126</td>\n",
              "      <td>0.017539</td>\n",
              "    </tr>\n",
              "    <tr>\n",
              "      <th>smoothness2</th>\n",
              "      <td>-0.222600</td>\n",
              "      <td>0.006614</td>\n",
              "      <td>-0.202694</td>\n",
              "      <td>-0.166777</td>\n",
              "      <td>0.332375</td>\n",
              "      <td>0.135299</td>\n",
              "      <td>0.098564</td>\n",
              "      <td>0.027653</td>\n",
              "      <td>0.187321</td>\n",
              "      <td>0.401964</td>\n",
              "      <td>...</td>\n",
              "      <td>-0.230691</td>\n",
              "      <td>-0.074743</td>\n",
              "      <td>-0.217304</td>\n",
              "      <td>-0.182195</td>\n",
              "      <td>0.314457</td>\n",
              "      <td>-0.055558</td>\n",
              "      <td>-0.058298</td>\n",
              "      <td>-0.102007</td>\n",
              "      <td>-0.107342</td>\n",
              "      <td>0.101480</td>\n",
              "    </tr>\n",
              "    <tr>\n",
              "      <th>compactness2</th>\n",
              "      <td>0.206000</td>\n",
              "      <td>0.191975</td>\n",
              "      <td>0.250744</td>\n",
              "      <td>0.212583</td>\n",
              "      <td>0.318943</td>\n",
              "      <td>0.738722</td>\n",
              "      <td>0.670279</td>\n",
              "      <td>0.490424</td>\n",
              "      <td>0.421659</td>\n",
              "      <td>0.559837</td>\n",
              "      <td>...</td>\n",
              "      <td>0.204607</td>\n",
              "      <td>0.143003</td>\n",
              "      <td>0.260516</td>\n",
              "      <td>0.199371</td>\n",
              "      <td>0.227394</td>\n",
              "      <td>0.678780</td>\n",
              "      <td>0.639147</td>\n",
              "      <td>0.483208</td>\n",
              "      <td>0.277878</td>\n",
              "      <td>0.590973</td>\n",
              "    </tr>\n",
              "    <tr>\n",
              "      <th>concavity2</th>\n",
              "      <td>0.194204</td>\n",
              "      <td>0.143293</td>\n",
              "      <td>0.228082</td>\n",
              "      <td>0.207660</td>\n",
              "      <td>0.248396</td>\n",
              "      <td>0.570517</td>\n",
              "      <td>0.691270</td>\n",
              "      <td>0.439167</td>\n",
              "      <td>0.342627</td>\n",
              "      <td>0.446630</td>\n",
              "      <td>...</td>\n",
              "      <td>0.186904</td>\n",
              "      <td>0.100241</td>\n",
              "      <td>0.226680</td>\n",
              "      <td>0.188353</td>\n",
              "      <td>0.168481</td>\n",
              "      <td>0.484858</td>\n",
              "      <td>0.662564</td>\n",
              "      <td>0.440472</td>\n",
              "      <td>0.197788</td>\n",
              "      <td>0.439329</td>\n",
              "    </tr>\n",
              "    <tr>\n",
              "      <th>concave_points2</th>\n",
              "      <td>0.376169</td>\n",
              "      <td>0.163851</td>\n",
              "      <td>0.407217</td>\n",
              "      <td>0.372320</td>\n",
              "      <td>0.380676</td>\n",
              "      <td>0.642262</td>\n",
              "      <td>0.683260</td>\n",
              "      <td>0.615634</td>\n",
              "      <td>0.393298</td>\n",
              "      <td>0.341198</td>\n",
              "      <td>...</td>\n",
              "      <td>0.358127</td>\n",
              "      <td>0.086741</td>\n",
              "      <td>0.394999</td>\n",
              "      <td>0.342271</td>\n",
              "      <td>0.215351</td>\n",
              "      <td>0.452888</td>\n",
              "      <td>0.549592</td>\n",
              "      <td>0.602450</td>\n",
              "      <td>0.143116</td>\n",
              "      <td>0.310655</td>\n",
              "    </tr>\n",
              "    <tr>\n",
              "      <th>symmetry2</th>\n",
              "      <td>-0.104321</td>\n",
              "      <td>0.009127</td>\n",
              "      <td>-0.081629</td>\n",
              "      <td>-0.072497</td>\n",
              "      <td>0.200774</td>\n",
              "      <td>0.229977</td>\n",
              "      <td>0.178009</td>\n",
              "      <td>0.095351</td>\n",
              "      <td>0.449137</td>\n",
              "      <td>0.345007</td>\n",
              "      <td>...</td>\n",
              "      <td>-0.128121</td>\n",
              "      <td>-0.077473</td>\n",
              "      <td>-0.103753</td>\n",
              "      <td>-0.110343</td>\n",
              "      <td>-0.012662</td>\n",
              "      <td>0.060255</td>\n",
              "      <td>0.037119</td>\n",
              "      <td>-0.030413</td>\n",
              "      <td>0.389402</td>\n",
              "      <td>0.078079</td>\n",
              "    </tr>\n",
              "    <tr>\n",
              "      <th>fractal_dimension2</th>\n",
              "      <td>-0.042641</td>\n",
              "      <td>0.054458</td>\n",
              "      <td>-0.005523</td>\n",
              "      <td>-0.019887</td>\n",
              "      <td>0.283607</td>\n",
              "      <td>0.507318</td>\n",
              "      <td>0.449301</td>\n",
              "      <td>0.257584</td>\n",
              "      <td>0.331786</td>\n",
              "      <td>0.688132</td>\n",
              "      <td>...</td>\n",
              "      <td>-0.037488</td>\n",
              "      <td>-0.003195</td>\n",
              "      <td>-0.001000</td>\n",
              "      <td>-0.022736</td>\n",
              "      <td>0.170568</td>\n",
              "      <td>0.390159</td>\n",
              "      <td>0.379975</td>\n",
              "      <td>0.215204</td>\n",
              "      <td>0.111094</td>\n",
              "      <td>0.591328</td>\n",
              "    </tr>\n",
              "    <tr>\n",
              "      <th>radius3</th>\n",
              "      <td>0.969539</td>\n",
              "      <td>0.352573</td>\n",
              "      <td>0.969476</td>\n",
              "      <td>0.962746</td>\n",
              "      <td>0.213120</td>\n",
              "      <td>0.535315</td>\n",
              "      <td>0.688236</td>\n",
              "      <td>0.830318</td>\n",
              "      <td>0.185728</td>\n",
              "      <td>-0.253691</td>\n",
              "      <td>...</td>\n",
              "      <td>1.000000</td>\n",
              "      <td>0.359921</td>\n",
              "      <td>0.993708</td>\n",
              "      <td>0.984015</td>\n",
              "      <td>0.216574</td>\n",
              "      <td>0.475820</td>\n",
              "      <td>0.573975</td>\n",
              "      <td>0.787424</td>\n",
              "      <td>0.243529</td>\n",
              "      <td>0.093492</td>\n",
              "    </tr>\n",
              "    <tr>\n",
              "      <th>texture3</th>\n",
              "      <td>0.297008</td>\n",
              "      <td>0.912045</td>\n",
              "      <td>0.303038</td>\n",
              "      <td>0.287489</td>\n",
              "      <td>0.036072</td>\n",
              "      <td>0.248133</td>\n",
              "      <td>0.299879</td>\n",
              "      <td>0.292752</td>\n",
              "      <td>0.090651</td>\n",
              "      <td>-0.051269</td>\n",
              "      <td>...</td>\n",
              "      <td>0.359921</td>\n",
              "      <td>1.000000</td>\n",
              "      <td>0.365098</td>\n",
              "      <td>0.345842</td>\n",
              "      <td>0.225429</td>\n",
              "      <td>0.360832</td>\n",
              "      <td>0.368366</td>\n",
              "      <td>0.359755</td>\n",
              "      <td>0.233027</td>\n",
              "      <td>0.219122</td>\n",
              "    </tr>\n",
              "    <tr>\n",
              "      <th>perimeter3</th>\n",
              "      <td>0.965137</td>\n",
              "      <td>0.358040</td>\n",
              "      <td>0.970387</td>\n",
              "      <td>0.959120</td>\n",
              "      <td>0.238853</td>\n",
              "      <td>0.590210</td>\n",
              "      <td>0.729565</td>\n",
              "      <td>0.855923</td>\n",
              "      <td>0.219169</td>\n",
              "      <td>-0.205151</td>\n",
              "      <td>...</td>\n",
              "      <td>0.993708</td>\n",
              "      <td>0.365098</td>\n",
              "      <td>1.000000</td>\n",
              "      <td>0.977578</td>\n",
              "      <td>0.236775</td>\n",
              "      <td>0.529408</td>\n",
              "      <td>0.618344</td>\n",
              "      <td>0.816322</td>\n",
              "      <td>0.269493</td>\n",
              "      <td>0.138957</td>\n",
              "    </tr>\n",
              "    <tr>\n",
              "      <th>area3</th>\n",
              "      <td>0.941082</td>\n",
              "      <td>0.343546</td>\n",
              "      <td>0.941550</td>\n",
              "      <td>0.959213</td>\n",
              "      <td>0.206718</td>\n",
              "      <td>0.509604</td>\n",
              "      <td>0.675987</td>\n",
              "      <td>0.809630</td>\n",
              "      <td>0.177193</td>\n",
              "      <td>-0.231854</td>\n",
              "      <td>...</td>\n",
              "      <td>0.984015</td>\n",
              "      <td>0.345842</td>\n",
              "      <td>0.977578</td>\n",
              "      <td>1.000000</td>\n",
              "      <td>0.209145</td>\n",
              "      <td>0.438296</td>\n",
              "      <td>0.543331</td>\n",
              "      <td>0.747419</td>\n",
              "      <td>0.209146</td>\n",
              "      <td>0.079647</td>\n",
              "    </tr>\n",
              "    <tr>\n",
              "      <th>smoothness3</th>\n",
              "      <td>0.119616</td>\n",
              "      <td>0.077503</td>\n",
              "      <td>0.150549</td>\n",
              "      <td>0.123523</td>\n",
              "      <td>0.805324</td>\n",
              "      <td>0.565541</td>\n",
              "      <td>0.448822</td>\n",
              "      <td>0.452753</td>\n",
              "      <td>0.426675</td>\n",
              "      <td>0.504942</td>\n",
              "      <td>...</td>\n",
              "      <td>0.216574</td>\n",
              "      <td>0.225429</td>\n",
              "      <td>0.236775</td>\n",
              "      <td>0.209145</td>\n",
              "      <td>1.000000</td>\n",
              "      <td>0.568187</td>\n",
              "      <td>0.518523</td>\n",
              "      <td>0.547691</td>\n",
              "      <td>0.493838</td>\n",
              "      <td>0.617624</td>\n",
              "    </tr>\n",
              "    <tr>\n",
              "      <th>compactness3</th>\n",
              "      <td>0.413463</td>\n",
              "      <td>0.277830</td>\n",
              "      <td>0.455774</td>\n",
              "      <td>0.390410</td>\n",
              "      <td>0.472468</td>\n",
              "      <td>0.865809</td>\n",
              "      <td>0.754968</td>\n",
              "      <td>0.667454</td>\n",
              "      <td>0.473200</td>\n",
              "      <td>0.458798</td>\n",
              "      <td>...</td>\n",
              "      <td>0.475820</td>\n",
              "      <td>0.360832</td>\n",
              "      <td>0.529408</td>\n",
              "      <td>0.438296</td>\n",
              "      <td>0.568187</td>\n",
              "      <td>1.000000</td>\n",
              "      <td>0.892261</td>\n",
              "      <td>0.801080</td>\n",
              "      <td>0.614441</td>\n",
              "      <td>0.810455</td>\n",
              "    </tr>\n",
              "    <tr>\n",
              "      <th>concavity3</th>\n",
              "      <td>0.526911</td>\n",
              "      <td>0.301025</td>\n",
              "      <td>0.563879</td>\n",
              "      <td>0.512606</td>\n",
              "      <td>0.434926</td>\n",
              "      <td>0.816275</td>\n",
              "      <td>0.884103</td>\n",
              "      <td>0.752399</td>\n",
              "      <td>0.433721</td>\n",
              "      <td>0.346234</td>\n",
              "      <td>...</td>\n",
              "      <td>0.573975</td>\n",
              "      <td>0.368366</td>\n",
              "      <td>0.618344</td>\n",
              "      <td>0.543331</td>\n",
              "      <td>0.518523</td>\n",
              "      <td>0.892261</td>\n",
              "      <td>1.000000</td>\n",
              "      <td>0.855434</td>\n",
              "      <td>0.532520</td>\n",
              "      <td>0.686511</td>\n",
              "    </tr>\n",
              "    <tr>\n",
              "      <th>concave_points3</th>\n",
              "      <td>0.744214</td>\n",
              "      <td>0.295316</td>\n",
              "      <td>0.771241</td>\n",
              "      <td>0.722017</td>\n",
              "      <td>0.503053</td>\n",
              "      <td>0.815573</td>\n",
              "      <td>0.861323</td>\n",
              "      <td>0.910155</td>\n",
              "      <td>0.430297</td>\n",
              "      <td>0.175325</td>\n",
              "      <td>...</td>\n",
              "      <td>0.787424</td>\n",
              "      <td>0.359755</td>\n",
              "      <td>0.816322</td>\n",
              "      <td>0.747419</td>\n",
              "      <td>0.547691</td>\n",
              "      <td>0.801080</td>\n",
              "      <td>0.855434</td>\n",
              "      <td>1.000000</td>\n",
              "      <td>0.502528</td>\n",
              "      <td>0.511114</td>\n",
              "    </tr>\n",
              "    <tr>\n",
              "      <th>symmetry3</th>\n",
              "      <td>0.163953</td>\n",
              "      <td>0.105008</td>\n",
              "      <td>0.189115</td>\n",
              "      <td>0.143570</td>\n",
              "      <td>0.394309</td>\n",
              "      <td>0.510223</td>\n",
              "      <td>0.409464</td>\n",
              "      <td>0.375744</td>\n",
              "      <td>0.699826</td>\n",
              "      <td>0.334019</td>\n",
              "      <td>...</td>\n",
              "      <td>0.243529</td>\n",
              "      <td>0.233027</td>\n",
              "      <td>0.269493</td>\n",
              "      <td>0.209146</td>\n",
              "      <td>0.493838</td>\n",
              "      <td>0.614441</td>\n",
              "      <td>0.532520</td>\n",
              "      <td>0.502528</td>\n",
              "      <td>1.000000</td>\n",
              "      <td>0.537848</td>\n",
              "    </tr>\n",
              "    <tr>\n",
              "      <th>fractal_dimension3</th>\n",
              "      <td>0.007066</td>\n",
              "      <td>0.119205</td>\n",
              "      <td>0.051019</td>\n",
              "      <td>0.003738</td>\n",
              "      <td>0.499316</td>\n",
              "      <td>0.687382</td>\n",
              "      <td>0.514930</td>\n",
              "      <td>0.368661</td>\n",
              "      <td>0.438413</td>\n",
              "      <td>0.767297</td>\n",
              "      <td>...</td>\n",
              "      <td>0.093492</td>\n",
              "      <td>0.219122</td>\n",
              "      <td>0.138957</td>\n",
              "      <td>0.079647</td>\n",
              "      <td>0.617624</td>\n",
              "      <td>0.810455</td>\n",
              "      <td>0.686511</td>\n",
              "      <td>0.511114</td>\n",
              "      <td>0.537848</td>\n",
              "      <td>1.000000</td>\n",
              "    </tr>\n",
              "  </tbody>\n",
              "</table>\n",
              "<p>30 rows × 30 columns</p>\n",
              "</div>"
            ],
            "text/plain": [
              "                     radius1  texture1  perimeter1     area1  smoothness1  \\\n",
              "radius1             1.000000  0.323782    0.997855  0.987357     0.170581   \n",
              "texture1            0.323782  1.000000    0.329533  0.321086    -0.023389   \n",
              "perimeter1          0.997855  0.329533    1.000000  0.986507     0.207278   \n",
              "area1               0.987357  0.321086    0.986507  1.000000     0.177028   \n",
              "smoothness1         0.170581 -0.023389    0.207278  0.177028     1.000000   \n",
              "compactness1        0.506124  0.236702    0.556936  0.498502     0.659123   \n",
              "concavity1          0.676764  0.302418    0.716136  0.685983     0.521984   \n",
              "concave_points1     0.822529  0.293464    0.850977  0.823269     0.553695   \n",
              "symmetry1           0.147741  0.071401    0.183027  0.151293     0.557775   \n",
              "fractal_dimension1 -0.311631 -0.076437   -0.261477 -0.283110     0.584792   \n",
              "radius2             0.679090  0.275869    0.691765  0.732562     0.301467   \n",
              "texture2           -0.097317  0.386358   -0.086761 -0.066280     0.068406   \n",
              "perimeter2          0.674172  0.281673    0.693135  0.726628     0.296092   \n",
              "area2               0.735864  0.259845    0.744983  0.800086     0.246552   \n",
              "smoothness2        -0.222600  0.006614   -0.202694 -0.166777     0.332375   \n",
              "compactness2        0.206000  0.191975    0.250744  0.212583     0.318943   \n",
              "concavity2          0.194204  0.143293    0.228082  0.207660     0.248396   \n",
              "concave_points2     0.376169  0.163851    0.407217  0.372320     0.380676   \n",
              "symmetry2          -0.104321  0.009127   -0.081629 -0.072497     0.200774   \n",
              "fractal_dimension2 -0.042641  0.054458   -0.005523 -0.019887     0.283607   \n",
              "radius3             0.969539  0.352573    0.969476  0.962746     0.213120   \n",
              "texture3            0.297008  0.912045    0.303038  0.287489     0.036072   \n",
              "perimeter3          0.965137  0.358040    0.970387  0.959120     0.238853   \n",
              "area3               0.941082  0.343546    0.941550  0.959213     0.206718   \n",
              "smoothness3         0.119616  0.077503    0.150549  0.123523     0.805324   \n",
              "compactness3        0.413463  0.277830    0.455774  0.390410     0.472468   \n",
              "concavity3          0.526911  0.301025    0.563879  0.512606     0.434926   \n",
              "concave_points3     0.744214  0.295316    0.771241  0.722017     0.503053   \n",
              "symmetry3           0.163953  0.105008    0.189115  0.143570     0.394309   \n",
              "fractal_dimension3  0.007066  0.119205    0.051019  0.003738     0.499316   \n",
              "\n",
              "                    compactness1  concavity1  concave_points1  symmetry1  \\\n",
              "radius1                 0.506124    0.676764         0.822529   0.147741   \n",
              "texture1                0.236702    0.302418         0.293464   0.071401   \n",
              "perimeter1              0.556936    0.716136         0.850977   0.183027   \n",
              "area1                   0.498502    0.685983         0.823269   0.151293   \n",
              "smoothness1             0.659123    0.521984         0.553695   0.557775   \n",
              "compactness1            1.000000    0.883121         0.831135   0.602641   \n",
              "concavity1              0.883121    1.000000         0.921391   0.500667   \n",
              "concave_points1         0.831135    0.921391         1.000000   0.462497   \n",
              "symmetry1               0.602641    0.500667         0.462497   1.000000   \n",
              "fractal_dimension1      0.565369    0.336783         0.166917   0.479921   \n",
              "radius2                 0.497473    0.631925         0.698050   0.303379   \n",
              "texture2                0.046205    0.076218         0.021480   0.128053   \n",
              "perimeter2              0.548905    0.660391         0.710650   0.313893   \n",
              "area2                   0.455653    0.617427         0.690299   0.223970   \n",
              "smoothness2             0.135299    0.098564         0.027653   0.187321   \n",
              "compactness2            0.738722    0.670279         0.490424   0.421659   \n",
              "concavity2              0.570517    0.691270         0.439167   0.342627   \n",
              "concave_points2         0.642262    0.683260         0.615634   0.393298   \n",
              "symmetry2               0.229977    0.178009         0.095351   0.449137   \n",
              "fractal_dimension2      0.507318    0.449301         0.257584   0.331786   \n",
              "radius3                 0.535315    0.688236         0.830318   0.185728   \n",
              "texture3                0.248133    0.299879         0.292752   0.090651   \n",
              "perimeter3              0.590210    0.729565         0.855923   0.219169   \n",
              "area3                   0.509604    0.675987         0.809630   0.177193   \n",
              "smoothness3             0.565541    0.448822         0.452753   0.426675   \n",
              "compactness3            0.865809    0.754968         0.667454   0.473200   \n",
              "concavity3              0.816275    0.884103         0.752399   0.433721   \n",
              "concave_points3         0.815573    0.861323         0.910155   0.430297   \n",
              "symmetry3               0.510223    0.409464         0.375744   0.699826   \n",
              "fractal_dimension3      0.687382    0.514930         0.368661   0.438413   \n",
              "\n",
              "                    fractal_dimension1  ...   radius3  texture3  perimeter3  \\\n",
              "radius1                      -0.311631  ...  0.969539  0.297008    0.965137   \n",
              "texture1                     -0.076437  ...  0.352573  0.912045    0.358040   \n",
              "perimeter1                   -0.261477  ...  0.969476  0.303038    0.970387   \n",
              "area1                        -0.283110  ...  0.962746  0.287489    0.959120   \n",
              "smoothness1                   0.584792  ...  0.213120  0.036072    0.238853   \n",
              "compactness1                  0.565369  ...  0.535315  0.248133    0.590210   \n",
              "concavity1                    0.336783  ...  0.688236  0.299879    0.729565   \n",
              "concave_points1               0.166917  ...  0.830318  0.292752    0.855923   \n",
              "symmetry1                     0.479921  ...  0.185728  0.090651    0.219169   \n",
              "fractal_dimension1            1.000000  ... -0.253691 -0.051269   -0.205151   \n",
              "radius2                       0.000111  ...  0.715065  0.194799    0.719684   \n",
              "texture2                      0.164174  ... -0.111690  0.409003   -0.102242   \n",
              "perimeter2                    0.039830  ...  0.697201  0.200371    0.721031   \n",
              "area2                        -0.090170  ...  0.757373  0.196497    0.761213   \n",
              "smoothness2                   0.401964  ... -0.230691 -0.074743   -0.217304   \n",
              "compactness2                  0.559837  ...  0.204607  0.143003    0.260516   \n",
              "concavity2                    0.446630  ...  0.186904  0.100241    0.226680   \n",
              "concave_points2               0.341198  ...  0.358127  0.086741    0.394999   \n",
              "symmetry2                     0.345007  ... -0.128121 -0.077473   -0.103753   \n",
              "fractal_dimension2            0.688132  ... -0.037488 -0.003195   -0.001000   \n",
              "radius3                      -0.253691  ...  1.000000  0.359921    0.993708   \n",
              "texture3                     -0.051269  ...  0.359921  1.000000    0.365098   \n",
              "perimeter3                   -0.205151  ...  0.993708  0.365098    1.000000   \n",
              "area3                        -0.231854  ...  0.984015  0.345842    0.977578   \n",
              "smoothness3                   0.504942  ...  0.216574  0.225429    0.236775   \n",
              "compactness3                  0.458798  ...  0.475820  0.360832    0.529408   \n",
              "concavity3                    0.346234  ...  0.573975  0.368366    0.618344   \n",
              "concave_points3               0.175325  ...  0.787424  0.359755    0.816322   \n",
              "symmetry3                     0.334019  ...  0.243529  0.233027    0.269493   \n",
              "fractal_dimension3            0.767297  ...  0.093492  0.219122    0.138957   \n",
              "\n",
              "                       area3  smoothness3  compactness3  concavity3  \\\n",
              "radius1             0.941082     0.119616      0.413463    0.526911   \n",
              "texture1            0.343546     0.077503      0.277830    0.301025   \n",
              "perimeter1          0.941550     0.150549      0.455774    0.563879   \n",
              "area1               0.959213     0.123523      0.390410    0.512606   \n",
              "smoothness1         0.206718     0.805324      0.472468    0.434926   \n",
              "compactness1        0.509604     0.565541      0.865809    0.816275   \n",
              "concavity1          0.675987     0.448822      0.754968    0.884103   \n",
              "concave_points1     0.809630     0.452753      0.667454    0.752399   \n",
              "symmetry1           0.177193     0.426675      0.473200    0.433721   \n",
              "fractal_dimension1 -0.231854     0.504942      0.458798    0.346234   \n",
              "radius2             0.751548     0.141919      0.287103    0.380585   \n",
              "texture2           -0.083195    -0.073658     -0.092439   -0.068956   \n",
              "perimeter2          0.730713     0.130054      0.341919    0.418899   \n",
              "area2               0.811408     0.125389      0.283257    0.385100   \n",
              "smoothness2        -0.182195     0.314457     -0.055558   -0.058298   \n",
              "compactness2        0.199371     0.227394      0.678780    0.639147   \n",
              "concavity2          0.188353     0.168481      0.484858    0.662564   \n",
              "concave_points2     0.342271     0.215351      0.452888    0.549592   \n",
              "symmetry2          -0.110343    -0.012662      0.060255    0.037119   \n",
              "fractal_dimension2 -0.022736     0.170568      0.390159    0.379975   \n",
              "radius3             0.984015     0.216574      0.475820    0.573975   \n",
              "texture3            0.345842     0.225429      0.360832    0.368366   \n",
              "perimeter3          0.977578     0.236775      0.529408    0.618344   \n",
              "area3               1.000000     0.209145      0.438296    0.543331   \n",
              "smoothness3         0.209145     1.000000      0.568187    0.518523   \n",
              "compactness3        0.438296     0.568187      1.000000    0.892261   \n",
              "concavity3          0.543331     0.518523      0.892261    1.000000   \n",
              "concave_points3     0.747419     0.547691      0.801080    0.855434   \n",
              "symmetry3           0.209146     0.493838      0.614441    0.532520   \n",
              "fractal_dimension3  0.079647     0.617624      0.810455    0.686511   \n",
              "\n",
              "                    concave_points3  symmetry3  fractal_dimension3  \n",
              "radius1                    0.744214   0.163953            0.007066  \n",
              "texture1                   0.295316   0.105008            0.119205  \n",
              "perimeter1                 0.771241   0.189115            0.051019  \n",
              "area1                      0.722017   0.143570            0.003738  \n",
              "smoothness1                0.503053   0.394309            0.499316  \n",
              "compactness1               0.815573   0.510223            0.687382  \n",
              "concavity1                 0.861323   0.409464            0.514930  \n",
              "concave_points1            0.910155   0.375744            0.368661  \n",
              "symmetry1                  0.430297   0.699826            0.438413  \n",
              "fractal_dimension1         0.175325   0.334019            0.767297  \n",
              "radius2                    0.531062   0.094543            0.049559  \n",
              "texture2                  -0.119638  -0.128215           -0.045655  \n",
              "perimeter2                 0.554897   0.109930            0.085433  \n",
              "area2                      0.538166   0.074126            0.017539  \n",
              "smoothness2               -0.102007  -0.107342            0.101480  \n",
              "compactness2               0.483208   0.277878            0.590973  \n",
              "concavity2                 0.440472   0.197788            0.439329  \n",
              "concave_points2            0.602450   0.143116            0.310655  \n",
              "symmetry2                 -0.030413   0.389402            0.078079  \n",
              "fractal_dimension2         0.215204   0.111094            0.591328  \n",
              "radius3                    0.787424   0.243529            0.093492  \n",
              "texture3                   0.359755   0.233027            0.219122  \n",
              "perimeter3                 0.816322   0.269493            0.138957  \n",
              "area3                      0.747419   0.209146            0.079647  \n",
              "smoothness3                0.547691   0.493838            0.617624  \n",
              "compactness3               0.801080   0.614441            0.810455  \n",
              "concavity3                 0.855434   0.532520            0.686511  \n",
              "concave_points3            1.000000   0.502528            0.511114  \n",
              "symmetry3                  0.502528   1.000000            0.537848  \n",
              "fractal_dimension3         0.511114   0.537848            1.000000  \n",
              "\n",
              "[30 rows x 30 columns]"
            ]
          },
          "execution_count": 9,
          "metadata": {},
          "output_type": "execute_result"
        }
      ],
      "source": [
        "dataset.drop(columns=[\"Diagnosis\"]).corr()"
      ]
    },
    {
      "cell_type": "markdown",
      "metadata": {},
      "source": [
        "## Fewer columns, better analysis"
      ]
    },
    {
      "cell_type": "markdown",
      "metadata": {
        "id": "1eg4OTasAUIS"
      },
      "source": [
        "For the sake of simplifying our model fitness and investigative step, we're going to select some \"composite\" of features that can be used for predictive modeling.\n",
        "\n",
        "Usually, we do so by exhaustively analyzing correlational behaviors and other noteworthy observations to determine which subset of features expresses the strongest value for modeling accuracy.\n",
        "\n",
        "In this case, we're skipping some steps to reduce complexity and simply grabbing some logically predictive features to keep things moving."
      ]
    },
    {
      "cell_type": "code",
      "execution_count": 11,
      "metadata": {
        "id": "uLcAUcHe3UhT"
      },
      "outputs": [],
      "source": [
        "PREDICTIVE_FEATURES = [\"radius1\",\n",
        "                       \"texture1\",\n",
        "                       \"perimeter1\",\n",
        "                       \"area1\",\n",
        "                       \"smoothness1\",\n",
        "                       \"compactness1\",\n",
        "                       \"concavity1\",\n",
        "                       \"concave_points1\",\n",
        "                       \"symmetry1\",\n",
        "                       \"fractal_dimension1\"]\n",
        "TARGET = \"Diagnosis\""
      ]
    },
    {
      "cell_type": "markdown",
      "metadata": {
        "id": "3dp8EmheAm9w"
      },
      "source": [
        "Now that our features are identified for our non-target (**X**) and target (**y**) datasets, we can go ahead and start moving towards prediction."
      ]
    },
    {
      "cell_type": "markdown",
      "metadata": {
        "id": "6AgjdSGqwaC-"
      },
      "source": [
        "---"
      ]
    },
    {
      "cell_type": "markdown",
      "metadata": {
        "id": "CrXWy3jSAtz_"
      },
      "source": [
        "Firstly, we need to actually separate our dataset into **X** and **y** data before using helper methods to produce training and testing sets for modeling."
      ]
    },
    {
      "cell_type": "code",
      "execution_count": 12,
      "metadata": {
        "id": "MmzqFUnO5Eo6"
      },
      "outputs": [],
      "source": [
        "X, y = dataset[PREDICTIVE_FEATURES], np.array(dataset[TARGET])"
      ]
    },
    {
      "cell_type": "markdown",
      "metadata": {
        "id": "opGytGQtAzlZ"
      },
      "source": [
        "In most cases, especially with reliably structured data (e.g. dataframes), we can make use of SciKit-Learn's incredible **`train_test_split()`** method, which takes in **X** and **y** datasets as well as splitting proportionality parameters and returns our split data segments."
      ]
    },
    {
      "cell_type": "code",
      "execution_count": 13,
      "metadata": {
        "id": "jFrrWMD85Hup"
      },
      "outputs": [],
      "source": [
        "X_train, X_test, y_train, y_test = train_test_split(X, y, train_size=0.7, test_size=0.3, random_state=42)\n",
        "#when do your own, you can change ratio and see how it affects the model. "
      ]
    },
    {
      "cell_type": "markdown",
      "metadata": {
        "id": "fTfBPOdDBDcy"
      },
      "source": [
        "Now our data is fully prepared for modeling."
      ]
    },
    {
      "cell_type": "markdown",
      "metadata": {
        "id": "5wvpzk3tOe3w"
      },
      "source": [
        "---\n",
        "---"
      ]
    },
    {
      "cell_type": "markdown",
      "metadata": {
        "id": "EN4P1y1HBE_R"
      },
      "source": [
        "In order to do machine learning, the first thing we always have to start with is the successful instantiation of our algorithm.\n",
        "\n",
        "To improve clarity, we'll name each of our two major algorithms by distinct variable names so that the pipelines are easier to follow.\n",
        "\n",
        "First, we'll start with our k-Nearest Neighbors classifier."
      ]
    },
    {
      "cell_type": "code",
      "execution_count": 14,
      "metadata": {
        "id": "AHcof2Tr5JHR"
      },
      "outputs": [],
      "source": [
        "classifier_knn = KNeighborsClassifier()"
      ]
    },
    {
      "cell_type": "markdown",
      "metadata": {
        "id": "tnmGItCXBPSP"
      },
      "source": [
        "Looks like our kNN is instantiated.\n",
        "\n",
        "Next, we want to fit our algorithm to our training dataset comprised of linked **X** and **y** data segments.\n",
        "\n",
        "The really nice thing about **`train_test_split()`** is that we don't have to manually link the data segments together by index or any means -- the method has already split the data appropriately such that each row in either **X** segment corresponds to its relevant row in either **y** segment."
      ]
    },
    {
      "cell_type": "code",
      "execution_count": 15,
      "metadata": {
        "colab": {
          "base_uri": "https://localhost:8080/"
        },
        "id": "sROTm7aKMjHm",
        "outputId": "87fef1d6-495a-4058-d6e7-f91b0c9e652c"
      },
      "outputs": [
        {
          "data": {
            "text/html": [
              "<style>#sk-container-id-1 {color: black;background-color: white;}#sk-container-id-1 pre{padding: 0;}#sk-container-id-1 div.sk-toggleable {background-color: white;}#sk-container-id-1 label.sk-toggleable__label {cursor: pointer;display: block;width: 100%;margin-bottom: 0;padding: 0.3em;box-sizing: border-box;text-align: center;}#sk-container-id-1 label.sk-toggleable__label-arrow:before {content: \"▸\";float: left;margin-right: 0.25em;color: #696969;}#sk-container-id-1 label.sk-toggleable__label-arrow:hover:before {color: black;}#sk-container-id-1 div.sk-estimator:hover label.sk-toggleable__label-arrow:before {color: black;}#sk-container-id-1 div.sk-toggleable__content {max-height: 0;max-width: 0;overflow: hidden;text-align: left;background-color: #f0f8ff;}#sk-container-id-1 div.sk-toggleable__content pre {margin: 0.2em;color: black;border-radius: 0.25em;background-color: #f0f8ff;}#sk-container-id-1 input.sk-toggleable__control:checked~div.sk-toggleable__content {max-height: 200px;max-width: 100%;overflow: auto;}#sk-container-id-1 input.sk-toggleable__control:checked~label.sk-toggleable__label-arrow:before {content: \"▾\";}#sk-container-id-1 div.sk-estimator input.sk-toggleable__control:checked~label.sk-toggleable__label {background-color: #d4ebff;}#sk-container-id-1 div.sk-label input.sk-toggleable__control:checked~label.sk-toggleable__label {background-color: #d4ebff;}#sk-container-id-1 input.sk-hidden--visually {border: 0;clip: rect(1px 1px 1px 1px);clip: rect(1px, 1px, 1px, 1px);height: 1px;margin: -1px;overflow: hidden;padding: 0;position: absolute;width: 1px;}#sk-container-id-1 div.sk-estimator {font-family: monospace;background-color: #f0f8ff;border: 1px dotted black;border-radius: 0.25em;box-sizing: border-box;margin-bottom: 0.5em;}#sk-container-id-1 div.sk-estimator:hover {background-color: #d4ebff;}#sk-container-id-1 div.sk-parallel-item::after {content: \"\";width: 100%;border-bottom: 1px solid gray;flex-grow: 1;}#sk-container-id-1 div.sk-label:hover label.sk-toggleable__label {background-color: #d4ebff;}#sk-container-id-1 div.sk-serial::before {content: \"\";position: absolute;border-left: 1px solid gray;box-sizing: border-box;top: 0;bottom: 0;left: 50%;z-index: 0;}#sk-container-id-1 div.sk-serial {display: flex;flex-direction: column;align-items: center;background-color: white;padding-right: 0.2em;padding-left: 0.2em;position: relative;}#sk-container-id-1 div.sk-item {position: relative;z-index: 1;}#sk-container-id-1 div.sk-parallel {display: flex;align-items: stretch;justify-content: center;background-color: white;position: relative;}#sk-container-id-1 div.sk-item::before, #sk-container-id-1 div.sk-parallel-item::before {content: \"\";position: absolute;border-left: 1px solid gray;box-sizing: border-box;top: 0;bottom: 0;left: 50%;z-index: -1;}#sk-container-id-1 div.sk-parallel-item {display: flex;flex-direction: column;z-index: 1;position: relative;background-color: white;}#sk-container-id-1 div.sk-parallel-item:first-child::after {align-self: flex-end;width: 50%;}#sk-container-id-1 div.sk-parallel-item:last-child::after {align-self: flex-start;width: 50%;}#sk-container-id-1 div.sk-parallel-item:only-child::after {width: 0;}#sk-container-id-1 div.sk-dashed-wrapped {border: 1px dashed gray;margin: 0 0.4em 0.5em 0.4em;box-sizing: border-box;padding-bottom: 0.4em;background-color: white;}#sk-container-id-1 div.sk-label label {font-family: monospace;font-weight: bold;display: inline-block;line-height: 1.2em;}#sk-container-id-1 div.sk-label-container {text-align: center;}#sk-container-id-1 div.sk-container {/* jupyter's `normalize.less` sets `[hidden] { display: none; }` but bootstrap.min.css set `[hidden] { display: none !important; }` so we also need the `!important` here to be able to override the default hidden behavior on the sphinx rendered scikit-learn.org. See: https://github.com/scikit-learn/scikit-learn/issues/21755 */display: inline-block !important;position: relative;}#sk-container-id-1 div.sk-text-repr-fallback {display: none;}</style><div id=\"sk-container-id-1\" class=\"sk-top-container\"><div class=\"sk-text-repr-fallback\"><pre>KNeighborsClassifier()</pre><b>In a Jupyter environment, please rerun this cell to show the HTML representation or trust the notebook. <br />On GitHub, the HTML representation is unable to render, please try loading this page with nbviewer.org.</b></div><div class=\"sk-container\" hidden><div class=\"sk-item\"><div class=\"sk-estimator sk-toggleable\"><input class=\"sk-toggleable__control sk-hidden--visually\" id=\"sk-estimator-id-1\" type=\"checkbox\" checked><label for=\"sk-estimator-id-1\" class=\"sk-toggleable__label sk-toggleable__label-arrow\">KNeighborsClassifier</label><div class=\"sk-toggleable__content\"><pre>KNeighborsClassifier()</pre></div></div></div></div></div>"
            ],
            "text/plain": [
              "KNeighborsClassifier()"
            ]
          },
          "execution_count": 15,
          "metadata": {},
          "output_type": "execute_result"
        }
      ],
      "source": [
        "classifier_knn.fit(X_train, y_train)"
      ]
    },
    {
      "cell_type": "markdown",
      "metadata": {
        "id": "ES1vrtMkBmjU"
      },
      "source": [
        "Our classifier has now been fitted to our training data, which means that the classifier should have performed its mathematical magic to get a programmatically learnable understanding of the relationship between our non-target (**X**) and target (**y**) datasets.\n",
        "\n",
        "This is generally where the \"learning\" part of machine learning happens.\n",
        "\n",
        "Now that fitness is successful, we can go ahead and move towards prediction by passing our non-target testing data (**X_test**) to our algorithm.\n",
        "\n",
        "We _don't_ have to send it our target testing data (**y_test**) since we want to reserve that for checking the accuracy of our model's predictions!"
      ]
    },
    {
      "cell_type": "code",
      "execution_count": 16,
      "metadata": {
        "id": "GK3BMfFrMjFc"
      },
      "outputs": [],
      "source": [
        "y_pred = classifier_knn.predict(X_test)"
      ]
    },
    {
      "cell_type": "code",
      "execution_count": 18,
      "metadata": {},
      "outputs": [
        {
          "data": {
            "text/plain": [
              "array(['B', 'M', 'M', 'B', 'B', 'M', 'M', 'M', 'B', 'B', 'B', 'M', 'B',\n",
              "       'M', 'B', 'M', 'B', 'B', 'B', 'M', 'B', 'B', 'M', 'B', 'B', 'B',\n",
              "       'B', 'B', 'B', 'M', 'B', 'B', 'B', 'B', 'B', 'B', 'M', 'B', 'M',\n",
              "       'M', 'B', 'M', 'B', 'B', 'B', 'B', 'B', 'B', 'B', 'B', 'M', 'M',\n",
              "       'M', 'B', 'B', 'B', 'B', 'M', 'B', 'B', 'B', 'M', 'M', 'M', 'B',\n",
              "       'B', 'M', 'M', 'B', 'B', 'B', 'M', 'B', 'M', 'B', 'B', 'B', 'B',\n",
              "       'B', 'B', 'M', 'B', 'M', 'M', 'M', 'M', 'B', 'M', 'B', 'B', 'B',\n",
              "       'B', 'B', 'B', 'B', 'B', 'M', 'B', 'B', 'M', 'M', 'B', 'M', 'M',\n",
              "       'B', 'B', 'B', 'M', 'B', 'B', 'M', 'B', 'M', 'M', 'B', 'M', 'B',\n",
              "       'B', 'B', 'B', 'M', 'B', 'B', 'M', 'B', 'M', 'B', 'B', 'B', 'M',\n",
              "       'M', 'M', 'B', 'B', 'M', 'M', 'B', 'B', 'B', 'M', 'B', 'M', 'B',\n",
              "       'B', 'B', 'B', 'M', 'M', 'M', 'B', 'M', 'B', 'B', 'B', 'B', 'M',\n",
              "       'M', 'B', 'B', 'B', 'B', 'B', 'B', 'B', 'M', 'B', 'B', 'M', 'B',\n",
              "       'B', 'B'], dtype=object)"
            ]
          },
          "execution_count": 18,
          "metadata": {},
          "output_type": "execute_result"
        }
      ],
      "source": [
        "y_pred"
      ]
    },
    {
      "cell_type": "code",
      "execution_count": 19,
      "metadata": {},
      "outputs": [
        {
          "data": {
            "text/plain": [
              "array(['B', 'M', 'M', 'B', 'B', 'M', 'M', 'M', 'B', 'B', 'B', 'M', 'B',\n",
              "       'M', 'B', 'M', 'B', 'B', 'B', 'M', 'M', 'B', 'M', 'B', 'B', 'B',\n",
              "       'B', 'B', 'B', 'M', 'B', 'B', 'B', 'B', 'B', 'B', 'M', 'B', 'M',\n",
              "       'B', 'B', 'M', 'B', 'B', 'B', 'B', 'B', 'B', 'B', 'B', 'M', 'M',\n",
              "       'B', 'B', 'B', 'B', 'B', 'M', 'M', 'B', 'B', 'M', 'M', 'B', 'B',\n",
              "       'B', 'M', 'M', 'B', 'B', 'M', 'M', 'B', 'M', 'B', 'B', 'B', 'M',\n",
              "       'B', 'B', 'M', 'B', 'M', 'M', 'M', 'M', 'M', 'M', 'B', 'B', 'B',\n",
              "       'B', 'B', 'B', 'B', 'B', 'M', 'M', 'B', 'M', 'M', 'B', 'M', 'M',\n",
              "       'B', 'B', 'B', 'M', 'B', 'B', 'M', 'B', 'B', 'M', 'B', 'M', 'B',\n",
              "       'B', 'B', 'M', 'B', 'B', 'B', 'M', 'B', 'M', 'M', 'B', 'B', 'M',\n",
              "       'M', 'M', 'B', 'B', 'B', 'M', 'B', 'B', 'B', 'M', 'B', 'M', 'B',\n",
              "       'B', 'M', 'B', 'M', 'M', 'M', 'B', 'M', 'B', 'B', 'B', 'B', 'M',\n",
              "       'M', 'B', 'B', 'B', 'B', 'B', 'B', 'B', 'M', 'B', 'B', 'B', 'B',\n",
              "       'M', 'B'], dtype=object)"
            ]
          },
          "execution_count": 19,
          "metadata": {},
          "output_type": "execute_result"
        }
      ],
      "source": [
        "y_test"
      ]
    },
    {
      "cell_type": "markdown",
      "metadata": {
        "id": "2fYQCua0CCHz"
      },
      "source": [
        "We've gone ahead and saved our predicted labels as a variable for accuracy assessment, so let's go ahead and check the accuracy.\n",
        "\n",
        "There's many ways to do this, and in fact we can afford to do so manually -- however, for simplicity's sake, let's just use some helper functions.\n",
        "\n",
        "We can start by using **`accuracy_score()`** to check the overall accuracy percentage of predicted labels from the model.\n",
        "\n",
        "The higher this score is (maximum of **100%**), the better our model has performed."
      ]
    },
    {
      "cell_type": "code",
      "execution_count": 17,
      "metadata": {
        "colab": {
          "base_uri": "https://localhost:8080/"
        },
        "id": "hfXOaor7MjDF",
        "outputId": "7c6fca8c-b008-4bd0-88e7-36d7ced84d5c"
      },
      "outputs": [
        {
          "data": {
            "text/plain": [
              "0.9005847953216374"
            ]
          },
          "execution_count": 17,
          "metadata": {},
          "output_type": "execute_result"
        }
      ],
      "source": [
        "accuracy_score(y_true=y_test, y_pred=y_pred)"
      ]
    },
    {
      "cell_type": "markdown",
      "metadata": {
        "id": "q_HA3Og1CUjz"
      },
      "source": [
        "Hey, that's pretty good!\n",
        "\n",
        "Generally speaking, accuracies of over **85%** are considered decent and accuracies of over **90-95%** are considered great.\n",
        "\n",
        "It is highly dependent on the precise domain and dataset we're working with, but for this task, this is definitely a great starting point.\n",
        "\n",
        "We're not quite done though!\n",
        "\n",
        "We can also utilize **confusion matrices** to take a closer look at correct and incorrect judgments by the model."
      ]
    },
    {
      "cell_type": "code",
      "execution_count": 20,
      "metadata": {
        "colab": {
          "base_uri": "https://localhost:8080/"
        },
        "id": "hkL59u6uDB4j",
        "outputId": "d9e81ed5-c79c-43b8-ab07-e5f139878ce3"
      },
      "outputs": [
        {
          "data": {
            "text/plain": [
              "array([[101,   7],\n",
              "       [ 10,  53]])"
            ]
          },
          "execution_count": 20,
          "metadata": {},
          "output_type": "execute_result"
        }
      ],
      "source": [
        "confusion_matrix(y_true=y_test, y_pred=y_pred)"
      ]
    },
    {
      "cell_type": "markdown",
      "metadata": {
        "id": "SNR8EQNzDFQG"
      },
      "source": [
        "Hmm... that's a little ugly and uninterpretable.\n"
      ]
    },
    {
      "cell_type": "markdown",
      "metadata": {},
      "source": [
        "\n",
        "Let's clean that up, shall we?"
      ]
    },
    {
      "cell_type": "code",
      "execution_count": 21,
      "metadata": {
        "colab": {
          "base_uri": "https://localhost:8080/"
        },
        "id": "AM-0al3szBPc",
        "outputId": "c9edcce5-ac95-4b07-9016-247bbd208080"
      },
      "outputs": [
        {
          "data": {
            "text/plain": [
              "<Axes: >"
            ]
          },
          "execution_count": 21,
          "metadata": {},
          "output_type": "execute_result"
        },
        {
          "data": {
            "image/png": "[encoded data removed]",
            "text/plain": [
              "<Figure size 800x600 with 2 Axes>"
            ]
          },
          "metadata": {},
          "output_type": "display_data"
        }
      ],
      "source": [
        "plt.figure(figsize=(8, 6))\n",
        "\n",
        "sns.heatmap(confusion_matrix(y_true=y_test, y_pred=y_pred),\n",
        "            annot=True,\n",
        "            cmap=sns.cubehelix_palette(as_cmap=True),\n",
        "            square=True)"
      ]
    },
    {
      "cell_type": "markdown",
      "metadata": {
        "id": "jUz1zNXdDQaa"
      },
      "source": [
        "This is a very powerful tool to utilize to more deeply understand our accuracy and performance, as this tells us the precise ways that our model was successful or unsuccessful, and ultimately informs us to ways we can try and improve our model.\n",
        "\n",
        "Finally, we can utilize classification reports as a final means of assessing accuracy metrics across our model.\n",
        "\n",
        "Many of these metrics are not critically important at this time, but will become _very_ important the deeper we go into this course; as such, this is still an important skill to have in your toolkit."
      ]
    },
    {
      "cell_type": "code",
      "execution_count": null,
      "metadata": {
        "colab": {
          "base_uri": "https://localhost:8080/"
        },
        "id": "VMeG9JBAzHkZ",
        "outputId": "76a53e7c-e487-4fe6-9a9c-038957f8c9ae"
      },
      "outputs": [
        {
          "name": "stdout",
          "output_type": "stream",
          "text": [
            "              precision    recall  f1-score   support\n",
            "\n",
            "           B       0.91      0.94      0.92       108\n",
            "           M       0.88      0.84      0.86        63\n",
            "\n",
            "    accuracy                           0.90       171\n",
            "   macro avg       0.90      0.89      0.89       171\n",
            "weighted avg       0.90      0.90      0.90       171\n",
            "\n"
          ]
        }
      ],
      "source": [
        "print(classification_report(y_true=y_test, y_pred=y_pred))"
      ]
    },
    {
      "cell_type": "markdown",
      "metadata": {
        "id": "pMczRFDdDpPc"
      },
      "source": [
        "Overall, our kNN has performed pretty adequately!\n",
        "\n",
        "Let's see if our \"smarter model\" -- our Support Vector Machine -- can't perform better!"
      ]
    },
    {
      "cell_type": "markdown",
      "metadata": {
        "id": "34n4sWj4OhCj"
      },
      "source": [
        "---"
      ]
    },
    {
      "cell_type": "markdown",
      "metadata": {
        "id": "VEIOv4QmDvDX"
      },
      "source": [
        "You'll probably recognize that despite a uniquely different model, our process appears largely the same.\n",
        "\n",
        "Still, let's go through it one step at a time just to get the practice!\n",
        "\n",
        "For starters, let's instantiate our algorithm."
      ]
    },
    {
      "cell_type": "code",
      "execution_count": 22,
      "metadata": {
        "id": "jbAwBZSTMc69"
      },
      "outputs": [],
      "source": [
        "classifier_svm = SVC()"
      ]
    },
    {
      "cell_type": "markdown",
      "metadata": {
        "id": "ESuph3oiD3to"
      },
      "source": [
        "Now that our algorithm is declared, let's fit it to our relevant training data segments.\n",
        "\n",
        "Note that we don't have to perform the actual data splitting step again since it's already been performed prior to instantiating any model."
      ]
    },
    {
      "cell_type": "code",
      "execution_count": 23,
      "metadata": {
        "colab": {
          "base_uri": "https://localhost:8080/"
        },
        "id": "Kqdc-vkZMc49",
        "outputId": "81f5a745-6c13-41be-f387-bb6a073abbf8"
      },
      "outputs": [
        {
          "data": {
            "text/html": [
              "<style>#sk-container-id-2 {color: black;background-color: white;}#sk-container-id-2 pre{padding: 0;}#sk-container-id-2 div.sk-toggleable {background-color: white;}#sk-container-id-2 label.sk-toggleable__label {cursor: pointer;display: block;width: 100%;margin-bottom: 0;padding: 0.3em;box-sizing: border-box;text-align: center;}#sk-container-id-2 label.sk-toggleable__label-arrow:before {content: \"▸\";float: left;margin-right: 0.25em;color: #696969;}#sk-container-id-2 label.sk-toggleable__label-arrow:hover:before {color: black;}#sk-container-id-2 div.sk-estimator:hover label.sk-toggleable__label-arrow:before {color: black;}#sk-container-id-2 div.sk-toggleable__content {max-height: 0;max-width: 0;overflow: hidden;text-align: left;background-color: #f0f8ff;}#sk-container-id-2 div.sk-toggleable__content pre {margin: 0.2em;color: black;border-radius: 0.25em;background-color: #f0f8ff;}#sk-container-id-2 input.sk-toggleable__control:checked~div.sk-toggleable__content {max-height: 200px;max-width: 100%;overflow: auto;}#sk-container-id-2 input.sk-toggleable__control:checked~label.sk-toggleable__label-arrow:before {content: \"▾\";}#sk-container-id-2 div.sk-estimator input.sk-toggleable__control:checked~label.sk-toggleable__label {background-color: #d4ebff;}#sk-container-id-2 div.sk-label input.sk-toggleable__control:checked~label.sk-toggleable__label {background-color: #d4ebff;}#sk-container-id-2 input.sk-hidden--visually {border: 0;clip: rect(1px 1px 1px 1px);clip: rect(1px, 1px, 1px, 1px);height: 1px;margin: -1px;overflow: hidden;padding: 0;position: absolute;width: 1px;}#sk-container-id-2 div.sk-estimator {font-family: monospace;background-color: #f0f8ff;border: 1px dotted black;border-radius: 0.25em;box-sizing: border-box;margin-bottom: 0.5em;}#sk-container-id-2 div.sk-estimator:hover {background-color: #d4ebff;}#sk-container-id-2 div.sk-parallel-item::after {content: \"\";width: 100%;border-bottom: 1px solid gray;flex-grow: 1;}#sk-container-id-2 div.sk-label:hover label.sk-toggleable__label {background-color: #d4ebff;}#sk-container-id-2 div.sk-serial::before {content: \"\";position: absolute;border-left: 1px solid gray;box-sizing: border-box;top: 0;bottom: 0;left: 50%;z-index: 0;}#sk-container-id-2 div.sk-serial {display: flex;flex-direction: column;align-items: center;background-color: white;padding-right: 0.2em;padding-left: 0.2em;position: relative;}#sk-container-id-2 div.sk-item {position: relative;z-index: 1;}#sk-container-id-2 div.sk-parallel {display: flex;align-items: stretch;justify-content: center;background-color: white;position: relative;}#sk-container-id-2 div.sk-item::before, #sk-container-id-2 div.sk-parallel-item::before {content: \"\";position: absolute;border-left: 1px solid gray;box-sizing: border-box;top: 0;bottom: 0;left: 50%;z-index: -1;}#sk-container-id-2 div.sk-parallel-item {display: flex;flex-direction: column;z-index: 1;position: relative;background-color: white;}#sk-container-id-2 div.sk-parallel-item:first-child::after {align-self: flex-end;width: 50%;}#sk-container-id-2 div.sk-parallel-item:last-child::after {align-self: flex-start;width: 50%;}#sk-container-id-2 div.sk-parallel-item:only-child::after {width: 0;}#sk-container-id-2 div.sk-dashed-wrapped {border: 1px dashed gray;margin: 0 0.4em 0.5em 0.4em;box-sizing: border-box;padding-bottom: 0.4em;background-color: white;}#sk-container-id-2 div.sk-label label {font-family: monospace;font-weight: bold;display: inline-block;line-height: 1.2em;}#sk-container-id-2 div.sk-label-container {text-align: center;}#sk-container-id-2 div.sk-container {/* jupyter's `normalize.less` sets `[hidden] { display: none; }` but bootstrap.min.css set `[hidden] { display: none !important; }` so we also need the `!important` here to be able to override the default hidden behavior on the sphinx rendered scikit-learn.org. See: https://github.com/scikit-learn/scikit-learn/issues/21755 */display: inline-block !important;position: relative;}#sk-container-id-2 div.sk-text-repr-fallback {display: none;}</style><div id=\"sk-container-id-2\" class=\"sk-top-container\"><div class=\"sk-text-repr-fallback\"><pre>SVC()</pre><b>In a Jupyter environment, please rerun this cell to show the HTML representation or trust the notebook. <br />On GitHub, the HTML representation is unable to render, please try loading this page with nbviewer.org.</b></div><div class=\"sk-container\" hidden><div class=\"sk-item\"><div class=\"sk-estimator sk-toggleable\"><input class=\"sk-toggleable__control sk-hidden--visually\" id=\"sk-estimator-id-2\" type=\"checkbox\" checked><label for=\"sk-estimator-id-2\" class=\"sk-toggleable__label sk-toggleable__label-arrow\">SVC</label><div class=\"sk-toggleable__content\"><pre>SVC()</pre></div></div></div></div></div>"
            ],
            "text/plain": [
              "SVC()"
            ]
          },
          "execution_count": 23,
          "metadata": {},
          "output_type": "execute_result"
        }
      ],
      "source": [
        "classifier_svm.fit(X_train, y_train)"
      ]
    },
    {
      "cell_type": "markdown",
      "metadata": {
        "id": "smcRPrcjEAhJ"
      },
      "source": [
        "With our model fitted to our training data, we should be ready to run some predictions!"
      ]
    },
    {
      "cell_type": "code",
      "execution_count": 24,
      "metadata": {
        "id": "JfqtNzfGMc2W"
      },
      "outputs": [],
      "source": [
        "y_pred = classifier_svm.predict(X_test)"
      ]
    },
    {
      "cell_type": "markdown",
      "metadata": {
        "id": "Ht2tVVlaEEws"
      },
      "source": [
        "Like with our kNN example, we've gone ahead and saved our predicted labels to assess accuracy and reliability of our model.\n",
        "\n",
        "Let's check our basic accuracy first!"
      ]
    },
    {
      "cell_type": "code",
      "execution_count": 25,
      "metadata": {
        "colab": {
          "base_uri": "https://localhost:8080/"
        },
        "id": "D9_uqHCbMcz1",
        "outputId": "29c1a41c-b2a6-4294-a215-8f7fb782b077"
      },
      "outputs": [
        {
          "data": {
            "text/plain": [
              "0.8888888888888888"
            ]
          },
          "execution_count": 25,
          "metadata": {},
          "output_type": "execute_result"
        }
      ],
      "source": [
        "accuracy_score(y_true=y_test, y_pred=y_pred)"
      ]
    },
    {
      "cell_type": "markdown",
      "metadata": {
        "id": "8rqbfxwgEOM-"
      },
      "source": [
        "Hmm... there's definitely room for improvement though -- let's take a closer look at our confusion matrix to see our model's strengths and weaknesses."
      ]
    },
    {
      "cell_type": "code",
      "execution_count": 26,
      "metadata": {
        "colab": {
          "base_uri": "https://localhost:8080/"
        },
        "id": "-rLn3tnMzSuA",
        "outputId": "842b9c1f-1b2a-49b1-c954-784145f1df64"
      },
      "outputs": [
        {
          "data": {
            "text/plain": [
              "<Axes: >"
            ]
          },
          "execution_count": 26,
          "metadata": {},
          "output_type": "execute_result"
        },
        {
          "data": {
            "image/png": "[encoded data removed]",
            "text/plain": [
              "<Figure size 800x600 with 2 Axes>"
            ]
          },
          "metadata": {},
          "output_type": "display_data"
        }
      ],
      "source": [
        "plt.figure(figsize=(8, 6))\n",
        "\n",
        "sns.heatmap(confusion_matrix(y_true=y_test, y_pred=y_pred),\n",
        "            annot=True,\n",
        "            cmap=sns.cubehelix_palette(as_cmap=True),\n",
        "            square=True)"
      ]
    },
    {
      "cell_type": "markdown",
      "metadata": {
        "id": "oTrdTPTdErRb"
      },
      "source": [
        "It should look _very_ similar to our results from our kNN -- though surprisingly, our kNN ended up performing better!\n",
        "\n",
        "Ultimately, while our results are good, the true power of the SVM is wasted on such a small dataset. (It's like using chainsaw to cut the cheese sandwich)\n",
        "\n",
        "That being said, still a strong starting point for applying these algorithms for real-world practice!\n",
        "\n",
        "Finally, let's take a look at our classification report to get a better understanding for our specialized accuracy scores."
      ]
    },
    {
      "cell_type": "code",
      "execution_count": null,
      "metadata": {
        "colab": {
          "base_uri": "https://localhost:8080/"
        },
        "id": "lyGpFgT_zSeb",
        "outputId": "51b3a44c-2c7f-43fe-9ef5-83c3fd1c93d5"
      },
      "outputs": [
        {
          "name": "stdout",
          "output_type": "stream",
          "text": [
            "              precision    recall  f1-score   support\n",
            "\n",
            "           B       0.85      1.00      0.92       108\n",
            "           M       1.00      0.70      0.82        63\n",
            "\n",
            "    accuracy                           0.89       171\n",
            "   macro avg       0.93      0.85      0.87       171\n",
            "weighted avg       0.91      0.89      0.88       171\n",
            "\n"
          ]
        }
      ],
      "source": [
        "print(classification_report(y_true=y_test, y_pred=y_pred))"
      ]
    },
    {
      "cell_type": "markdown",
      "metadata": {
        "id": "JM_2WXobE-ZF"
      },
      "source": [
        "Again, many of these values will make more sense the further we progress in the course.\n",
        "\n",
        "However, it is worth mentioning that our performance for both models is very good.\n",
        "\n",
        "That being said, there's always room for improvement!\n",
        "\n",
        "**Given what you know so far, what methods and steps would you take to try and improve the accuracy of either algorithm?**"
      ]
    },
    {
      "cell_type": "markdown",
      "metadata": {
        "id": "LE5Ewx8XOWDE"
      },
      "source": [
        "---\n",
        "---\n",
        "---"
      ]
    },
    {
      "cell_type": "markdown",
      "metadata": {},
      "source": [
        "**Given what you know so far, what methods and steps would you take to try and improve the accuracy of either algorithm?**\n",
        "\n",
        "1. **Feature Engineering**: Create new features or modify existing ones to better capture the underlying patterns in the data.\n",
        "2. **Hyperparameter Tuning**: Use techniques like Grid Search or Random Search to find the optimal hyperparameters for the algorithms.\n",
        "\n",
        "Both kNN and SVM can improve performance by tuning hyperparameters (e.g., the value of k for kNN, the value of C for SVM, kernel selection, etc.)\n",
        "\n",
        "3. **Cross-Validation**: Implement cross-validation to ensure that the model is not overfitting and performs well on unseen data.\n",
        "4. **Ensemble Methods**: Combine multiple models to improve overall performance. Techniques like bagging, boosting, or stacking can be useful.\n",
        "5. **Data Augmentation**: Increase the size of the training dataset by generating new samples through various augmentation techniques.\n",
        "6. **Regularization**: Apply regularization techniques to prevent overfitting and improve the generalization of the model.\n",
        "7. **Advanced Algorithms**: Experiment with more complex algorithms like Random Forest, Gradient Boosting, or Neural Networks.\n",
        "8. **Data Cleaning**: Ensure that the data is free from noise and outliers that could negatively impact the model's performance.\n",
        "9. **Scaling and Normalization**: Standardize the features to ensure that they are on a similar scale, which can help certain algorithms perform better.\n",
        "10. **Dimensionality Reduction**: Use techniques like PCA or LDA to reduce the number of features and focus on the most important ones."
      ]
    },
    {
      "cell_type": "markdown",
      "metadata": {},
      "source": [
        "### EDA\n"
      ]
    },
    {
      "cell_type": "markdown",
      "metadata": {},
      "source": [
        "Step 1: Ask Descriptive Questions\n",
        "\n",
        "Let’s define some descriptive questions based on the dataset, assuming it's the Wisconsin Breast Cancer dataset.\n",
        "\n",
        "1. What is the distribution of benign (B) vs. malignant (M) diagnoses in the dataset?\n",
        "2. What are the average values for key features (e.g., radius1, texture1, area1, etc.) across benign and malignant cases?\n",
        "3. Which features show the most variance across the entire dataset?\n",
        "4. How are specific features, such as radius1 and texture1, correlated?\n",
        "5. What are the minimum, maximum, and average radius1 values for benign and malignant cases?"
      ]
    },
    {
      "cell_type": "markdown",
      "metadata": {},
      "source": [
        "Step 2: Answer the Questions Using Data Slicing and Pandas DataFrame Operations\n",
        "\n",
        "To answer these questions, we’ll use pandas to slice and manipulate the dataset."
      ]
    },
    {
      "cell_type": "code",
      "execution_count": null,
      "metadata": {},
      "outputs": [],
      "source": [
        "import pandas as pd\n",
        "import numpy as np\n",
        "\n",
        "# Assuming dataset is already loaded\n",
        "dataset.head() - Peek at the first few rows of the dataset\n",
        "\n",
        "# 1. Distribution of benign vs. malignant cases\n",
        "diagnosis_counts = dataset[\"Diagnosis\"].value_counts()\n",
        "print(\"Diagnosis Distribution:\\n\", diagnosis_counts)\n",
        "\n",
        "# 2. Average values for key features across benign and malignant cases\n",
        "mean_features_by_diagnosis = dataset.groupby(\"Diagnosis\").mean()[[\"radius1\", \"texture1\", \"area1\"]]\n",
        "print(\"\\nAverage feature values by Diagnosis:\\n\", mean_features_by_diagnosis)\n",
        "\n",
        "# 3. Feature variances across the dataset\n",
        "feature_variances = dataset.var()\n",
        "print(\"\\nFeature Variances:\\n\", feature_variances)\n",
        "\n",
        "# 4. Correlation between specific features\n",
        "correlation_radius_texture = dataset[\"radius1\"].corr(dataset[\"texture1\"])\n",
        "print(\"\\nCorrelation between radius1 and texture1:\", correlation_radius_texture)\n",
        "\n",
        "# 5. Minimum, maximum, and average `radius1` for benign and malignant cases\n",
        "radius_stats_by_diagnosis = dataset.groupby(\"Diagnosis\")[\"radius1\"].agg([\"min\", \"max\", \"mean\"])\n",
        "print(\"\\nRadius1 statistics by Diagnosis:\\n\", radius_stats_by_diagnosis)\n"
      ]
    },
    {
      "cell_type": "code",
      "execution_count": null,
      "metadata": {},
      "outputs": [],
      "source": [
        "import matplotlib.pyplot as plt\n",
        "import seaborn as sns\n",
        "\n",
        "# 1. Distribution of benign vs. malignant cases\n",
        "plt.figure(figsize=(8, 5))\n",
        "sns.countplot(x=\"Diagnosis\", data=dataset, palette=\"Set2\")\n",
        "plt.title(\"Distribution of Benign vs. Malignant Cases\")\n",
        "plt.xlabel(\"Diagnosis\")\n",
        "plt.ylabel(\"Count\")\n",
        "plt.show()\n",
        "\n",
        "# 2. Average values for key features across benign and malignant cases\n",
        "plt.figure(figsize=(10, 6))\n",
        "mean_features_by_diagnosis.plot(kind=\"bar\", colormap=\"viridis\", title=\"Average Feature Values by Diagnosis\")\n",
        "plt.ylabel(\"Mean Value\")\n",
        "plt.show()\n",
        "\n",
        "# 3. Variance of features (top 10 for readability)\n",
        "top_var_features = feature_variances.nlargest(10)\n",
        "plt.figure(figsize=(10, 6))\n",
        "sns.barplot(x=top_var_features.values, y=top_var_features.index, palette=\"rocket\")\n",
        "plt.title(\"Top 10 Features by Variance\")\n",
        "plt.xlabel(\"Variance\")\n",
        "plt.ylabel(\"Features\")\n",
        "plt.show()\n",
        "\n",
        "# 4. Correlation heatmap for selected features\n",
        "plt.figure(figsize=(10, 8))\n",
        "selected_features = [\"radius1\", \"texture1\", \"perimeter1\", \"area1\"]\n",
        "sns.heatmap(dataset[selected_features].corr(), annot=True, cmap=\"coolwarm\", square=True)\n",
        "plt.title(\"Correlation Matrix of Selected Features\")\n",
        "plt.show()\n",
        "\n",
        "# 5. Boxplot for radius1 across diagnoses\n",
        "plt.figure(figsize=(8, 6))\n",
        "sns.boxplot(x=\"Diagnosis\", y=\"radius1\", data=dataset, palette=\"Set3\")\n",
        "plt.title(\"Radius1 by Diagnosis (Benign vs. Malignant)\")\n",
        "plt.xlabel(\"Diagnosis\")\n",
        "plt.ylabel(\"Radius1\")\n",
        "plt.show()\n"
      ]
    },
    {
      "cell_type": "markdown",
      "metadata": {},
      "source": [
        "### Raise Accuracy Score"
      ]
    },
    {
      "cell_type": "code",
      "execution_count": null,
      "metadata": {},
      "outputs": [],
      "source": [
        "from sklearn.model_selection import train_test_split\n",
        "\n",
        "# Split data - 80% for training, 20% for testing\n",
        "X_train, X_test, y_train, y_test = train_test_split(X, y, train_size=0.8, test_size=0.2, random_state=42)\n"
      ]
    },
    {
      "cell_type": "code",
      "execution_count": null,
      "metadata": {},
      "outputs": [],
      "source": [
        "# Training and Evaluating the k-Nearest Neighbors (kNN) Model\n",
        "from sklearn.neighbors import KNeighborsClassifier\n",
        "from sklearn.metrics import accuracy_score, classification_report\n",
        "\n",
        "# Instantiate and train the kNN model\n",
        "classifier_knn = KNeighborsClassifier()\n",
        "classifier_knn.fit(X_train, y_train)\n",
        "\n",
        "# Make predictions on the test data\n",
        "y_pred_knn = classifier_knn.predict(X_test)\n",
        "\n",
        "# Print accuracy and classification report\n",
        "print(\"kNN Accuracy (80/20 split):\", accuracy_score(y_test, y_pred_knn))\n",
        "print(\"kNN Classification Report (80/20 split):\\n\", classification_report(y_test, y_pred_knn))\n"
      ]
    },
    {
      "cell_type": "code",
      "execution_count": null,
      "metadata": {},
      "outputs": [],
      "source": [
        "# Training and Evaluating the Support Vector Machine (SVM) Model\n",
        "from sklearn.svm import SVC\n",
        "\n",
        "# Instantiate and train the SVM model\n",
        "classifier_svm = SVC()\n",
        "classifier_svm.fit(X_train, y_train)\n",
        "\n",
        "# Make predictions on the test data\n",
        "y_pred_svm = classifier_svm.predict(X_test)\n",
        "\n",
        "# Print accuracy and classification report\n",
        "print(\"SVM Accuracy (80/20 split):\", accuracy_score(y_test, y_pred_svm))\n",
        "print(\"SVM Classification Report (80/20 split):\\n\", classification_report(y_test, y_pred_svm))\n"
      ]
    },
    {
      "cell_type": "code",
      "execution_count": null,
      "metadata": {},
      "outputs": [],
      "source": []
    }
  ],
  "metadata": {
    "colab": {
      "provenance": []
    },
    "kernelspec": {
      "display_name": "Python 3",
      "name": "python3"
    },
    "language_info": {
      "codemirror_mode": {
        "name": "ipython",
        "version": 3
      },
      "file_extension": ".py",
      "mimetype": "text/x-python",
      "name": "python",
      "nbconvert_exporter": "python",
      "pygments_lexer": "ipython3",
      "version": "3.8.19"
    }
  },
  "nbformat": 4,
  "nbformat_minor": 0
}
