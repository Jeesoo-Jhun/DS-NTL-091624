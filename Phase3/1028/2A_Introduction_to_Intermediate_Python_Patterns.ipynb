{
  "cells": [
    {
      "cell_type": "markdown",
      "id": "bfc92c1b-5215-40c6-8ddb-3bfcaf16d1d4",
      "metadata": {
        "id": "bfc92c1b-5215-40c6-8ddb-3bfcaf16d1d4"
      },
      "source": [
        "---\n",
        "---\n",
        "---"
      ]
    },
    {
      "cell_type": "markdown",
      "id": "49d8c871-9648-404f-b71d-6abe55c657a7",
      "metadata": {
        "id": "49d8c871-9648-404f-b71d-6abe55c657a7"
      },
      "source": [
        "# 👁️‍🗨️ **An Introduction to Intermediate Patterns in Python** 🐍"
      ]
    },
    {
      "cell_type": "markdown",
      "id": "9nGmFPsi863K",
      "metadata": {
        "id": "9nGmFPsi863K"
      },
      "source": [
        "In this notebook, we'll introduce techniques and practices related to the following key concepts:\n",
        "\n",
        "- 🔷 **DSA: Iterators & Generators** 🔄\n",
        "- 🔶 **Engineering with Python: User Input Handling** ✍🏽\n",
        "- 🔶 **File Manipulation** 📂\n",
        "- 🔶 **Context & Resource Management** 🔍\n",
        "- 🔶 **Lambda Functions** 🐑\n",
        "- 🔴 **OOPD: Object Properties & Validations** 🎁\n",
        "- 🔴 **OOPD: Dunder/Magic Methods** 🪄\n",
        "- ~~_Quality Assurance: Introductory Test-Driven Development_~~"
      ]
    },
    {
      "cell_type": "markdown",
      "id": "cb7d6903-b9be-435b-becf-74634a1f0634",
      "metadata": {
        "id": "cb7d6903-b9be-435b-becf-74634a1f0634"
      },
      "source": [
        "---\n",
        "---"
      ]
    },
    {
      "cell_type": "markdown",
      "id": "08d4a7ed-60f2-47b7-8cf9-c112aedd429e",
      "metadata": {
        "id": "08d4a7ed-60f2-47b7-8cf9-c112aedd429e"
      },
      "source": [
        "## _Data Structures & Algorithms_"
      ]
    },
    {
      "cell_type": "markdown",
      "id": "d06d1d85-e2f4-4a53-9ef4-56b46cb35160",
      "metadata": {
        "id": "d06d1d85-e2f4-4a53-9ef4-56b46cb35160"
      },
      "source": [
        "|Term                           | Definition\n",
        "|-------------------------------|-----------------------------|\n",
        "|**Iterable**                   | An **object which can be looped over** or iterated over in a loop. Examples of iterables include lists, sets, tuples, dictionaries, strings, etc. |\n",
        "|**Iterator**                   | An **object that can be iterated over**. Not exactly the same thing as an iterable – iterators can be used to assist with iterating over an iterable. |\n",
        "|**Generator**                  | A special type of function which does not return a single value: it **returns an iterator object** with a sequence of values. |\n",
        "|**Lazy Evaluation**            | An evaluation strategy whereby **certain objects are only produced when required**. (Sometimes referred to as \"call-by-need\" evaluation.) |\n",
        "|**`iter()`**                   | A built-in function used to **convert an iterable to an iterator**. |\n",
        "|**`next()`**                   | A built-in function used to **return the next item in an iterator**. |\n",
        "|**`yield()`**                  | A built-in function similar to the `return` keyword, except `yield` **returns a generator object** instead of a value. |"
      ]
    },
    {
      "cell_type": "markdown",
      "id": "d4032dee-d468-483b-83a0-368dfa9afdfb",
      "metadata": {
        "id": "d4032dee-d468-483b-83a0-368dfa9afdfb"
      },
      "source": [
        "### Iterators"
      ]
    },
    {
      "cell_type": "markdown",
      "id": "lNnUxEOkq4Gy",
      "metadata": {
        "id": "lNnUxEOkq4Gy"
      },
      "source": [
        "\bIteration vs. Iterators vs. Iterables"
      ]
    },
    {
      "cell_type": "code",
      "execution_count": 1,
      "id": "t2HX5ztAqZHN",
      "metadata": {
        "id": "t2HX5ztAqZHN"
      },
      "outputs": [],
      "source": [
        "array = [1, 2, 3]"
      ]
    },
    {
      "cell_type": "code",
      "execution_count": 2,
      "id": "LGap1UTkqa8_",
      "metadata": {
        "id": "LGap1UTkqa8_"
      },
      "outputs": [
        {
          "name": "stdout",
          "output_type": "stream",
          "text": [
            "1\n",
            "2\n",
            "3\n"
          ]
        }
      ],
      "source": [
        "for item in array:\n",
        "    print(item)"
      ]
    },
    {
      "cell_type": "markdown",
      "id": "2qvDPkN7rdE2",
      "metadata": {
        "id": "2qvDPkN7rdE2"
      },
      "source": [
        "_\"An **iterator** is a special type of **iterable**.\"_"
      ]
    },
    {
      "cell_type": "code",
      "execution_count": 3,
      "id": "fd56f508-f8dd-46e1-8a7d-19b67a953906",
      "metadata": {
        "id": "fd56f508-f8dd-46e1-8a7d-19b67a953906"
      },
      "outputs": [
        {
          "name": "stdout",
          "output_type": "stream",
          "text": [
            "\u001b[0;31mDocstring:\u001b[0m\n",
            "iter(iterable) -> iterator\n",
            "iter(callable, sentinel) -> iterator\n",
            "\n",
            "Get an iterator from an object.  In the first form, the argument must\n",
            "supply its own iterator, or be a sequence.\n",
            "In the second form, the callable is called until it returns the sentinel.\n",
            "\u001b[0;31mType:\u001b[0m      builtin_function_or_method"
          ]
        }
      ],
      "source": [
        "iter?"
      ]
    },
    {
      "cell_type": "code",
      "execution_count": 4,
      "id": "3e52eaaf-4fb7-4ad9-bafd-ce7913d12a7a",
      "metadata": {
        "id": "3e52eaaf-4fb7-4ad9-bafd-ce7913d12a7a"
      },
      "outputs": [],
      "source": [
        "list_of_nums = [1, 2, 3, 4]"
      ]
    },
    {
      "cell_type": "code",
      "execution_count": 5,
      "id": "QJ90EqtSseK7",
      "metadata": {
        "id": "QJ90EqtSseK7"
      },
      "outputs": [
        {
          "data": {
            "text/plain": [
              "list"
            ]
          },
          "execution_count": 5,
          "metadata": {},
          "output_type": "execute_result"
        }
      ],
      "source": [
        "type(list_of_nums)"
      ]
    },
    {
      "cell_type": "code",
      "execution_count": 6,
      "id": "et4EEWxTsp8L",
      "metadata": {
        "id": "et4EEWxTsp8L"
      },
      "outputs": [],
      "source": [
        "my_magic_iterator = iter(list_of_nums)"
      ]
    },
    {
      "cell_type": "code",
      "execution_count": 7,
      "id": "e2be2a13-f073-4d39-9e2b-0c3745957cfc",
      "metadata": {
        "id": "e2be2a13-f073-4d39-9e2b-0c3745957cfc"
      },
      "outputs": [
        {
          "data": {
            "text/plain": [
              "<list_iterator at 0x7f848862f9d0>"
            ]
          },
          "execution_count": 7,
          "metadata": {},
          "output_type": "execute_result"
        }
      ],
      "source": [
        "my_magic_iterator"
      ]
    },
    {
      "cell_type": "code",
      "execution_count": 8,
      "id": "341cf3b5-51de-4880-9f90-ece915bd5c6a",
      "metadata": {
        "id": "341cf3b5-51de-4880-9f90-ece915bd5c6a"
      },
      "outputs": [
        {
          "data": {
            "text/plain": [
              "1"
            ]
          },
          "execution_count": 8,
          "metadata": {},
          "output_type": "execute_result"
        }
      ],
      "source": [
        "next(my_magic_iterator)"
      ]
    },
    {
      "cell_type": "code",
      "execution_count": 9,
      "id": "cdcdf0c0-ffb5-4ba7-aff2-7e3a0868e5dc",
      "metadata": {
        "id": "cdcdf0c0-ffb5-4ba7-aff2-7e3a0868e5dc"
      },
      "outputs": [
        {
          "name": "stdout",
          "output_type": "stream",
          "text": [
            "1\n",
            "2\n",
            "3\n",
            "4\n"
          ]
        }
      ],
      "source": [
        "for item in list_of_nums:\n",
        "    print(item)"
      ]
    },
    {
      "cell_type": "code",
      "execution_count": 10,
      "id": "a684dfb4-9643-42d5-ad1d-2834d9a80ab6",
      "metadata": {
        "id": "a684dfb4-9643-42d5-ad1d-2834d9a80ab6"
      },
      "outputs": [
        {
          "name": "stdout",
          "output_type": "stream",
          "text": [
            "Consuming First Iterator\n",
            "1\n",
            "2\n",
            "3\n",
            "4\n",
            "Calling Second Iterator\n",
            "1\n"
          ]
        }
      ],
      "source": [
        "first_iterator, second_iterator = iter(list_of_nums), iter(list_of_nums)\n",
        "\n",
        "print(\"Consuming First Iterator\")\n",
        "print(next(first_iterator))\n",
        "print(next(first_iterator))\n",
        "print(next(first_iterator))\n",
        "print(next(first_iterator))\n",
        "\n",
        "print(\"Calling Second Iterator\")\n",
        "print(next(second_iterator))"
      ]
    },
    {
      "cell_type": "markdown",
      "id": "5b54fb0d-8846-45de-8b16-33034eec5ab7",
      "metadata": {
        "id": "5b54fb0d-8846-45de-8b16-33034eec5ab7"
      },
      "source": [
        "### Generators"
      ]
    },
    {
      "cell_type": "markdown",
      "id": "efKNOMIbm0E5",
      "metadata": {
        "id": "efKNOMIbm0E5"
      },
      "source": [
        "Function to calculate all common factors of a given integer."
      ]
    },
    {
      "cell_type": "code",
      "execution_count": null,
      "id": "dc59f8df-5808-4223-afff-110458e6abc5",
      "metadata": {
        "id": "dc59f8df-5808-4223-afff-110458e6abc5"
      },
      "outputs": [],
      "source": [
        "def get_all_factors(n):\n",
        "    factors = []\n",
        "\n",
        "    for value in range(1, n + 1):\n",
        "        if n % value == 0:\n",
        "            factors.append(value)\n",
        "\n",
        "    return factors"
      ]
    },
    {
      "cell_type": "code",
      "execution_count": null,
      "id": "728e880b-2291-4a29-aa47-8eed8b234a76",
      "metadata": {
        "id": "728e880b-2291-4a29-aa47-8eed8b234a76"
      },
      "outputs": [],
      "source": [
        "get_all_factors(n=20)"
      ]
    },
    {
      "cell_type": "code",
      "execution_count": null,
      "id": "3bd88b65-7d66-4cda-a9e6-706485c4ff10",
      "metadata": {
        "id": "3bd88b65-7d66-4cda-a9e6-706485c4ff10"
      },
      "outputs": [],
      "source": [
        "# get_all_factors(n=2000000000000)"
      ]
    },
    {
      "cell_type": "code",
      "execution_count": null,
      "id": "37f227a6-d84c-49d6-a766-d1252b5cc1ee",
      "metadata": {
        "id": "37f227a6-d84c-49d6-a766-d1252b5cc1ee"
      },
      "outputs": [],
      "source": [
        "def generate_factors(n):\n",
        "    for value in range(1, n + 1):\n",
        "        if n % value == 0:\n",
        "            yield value"
      ]
    },
    {
      "cell_type": "code",
      "execution_count": null,
      "id": "e1f04159-6607-40be-9708-df645cf914c7",
      "metadata": {
        "id": "e1f04159-6607-40be-9708-df645cf914c7"
      },
      "outputs": [],
      "source": [
        "simple_generator = generate_factors(n=20)"
      ]
    },
    {
      "cell_type": "code",
      "execution_count": null,
      "id": "edshoV-b3tHj",
      "metadata": {
        "id": "edshoV-b3tHj"
      },
      "outputs": [],
      "source": [
        "next(simple_generator)"
      ]
    },
    {
      "cell_type": "code",
      "execution_count": null,
      "id": "4df65a3d-8033-455b-ab15-b02b08367910",
      "metadata": {
        "id": "4df65a3d-8033-455b-ab15-b02b08367910"
      },
      "outputs": [],
      "source": [
        "# generator = generate_factors(n=200000000000)\n",
        "\n",
        "print(next(generator))\n",
        "print(next(generator))\n",
        "print(next(generator))\n",
        "print(next(generator))\n",
        "print(next(generator))\n",
        "print(next(generator))"
      ]
    },
    {
      "cell_type": "code",
      "execution_count": null,
      "id": "a0d1da59-67d4-4c42-aa17-c4ca44fdda3d",
      "metadata": {
        "id": "a0d1da59-67d4-4c42-aa17-c4ca44fdda3d"
      },
      "outputs": [],
      "source": [
        "list_comprehension = [num**2 for num in range(10)]\n",
        "\n",
        "list_comprehension"
      ]
    },
    {
      "cell_type": "code",
      "execution_count": null,
      "id": "efc7c8ac-0511-472a-ae60-7b41df967a13",
      "metadata": {
        "id": "efc7c8ac-0511-472a-ae60-7b41df967a13"
      },
      "outputs": [],
      "source": [
        "generator_comprehension = (num**2 for num in range(10))\n",
        "\n",
        "generator_comprehension"
      ]
    },
    {
      "cell_type": "code",
      "execution_count": null,
      "id": "a7c28b4a-32ec-4f68-a421-5b47a31f4c5e",
      "metadata": {
        "id": "a7c28b4a-32ec-4f68-a421-5b47a31f4c5e"
      },
      "outputs": [],
      "source": [
        "next(generator_comprehension)"
      ]
    },
    {
      "cell_type": "code",
      "execution_count": null,
      "id": "61cce194-a147-4f25-a779-5012c59fc0d7",
      "metadata": {
        "id": "61cce194-a147-4f25-a779-5012c59fc0d7"
      },
      "outputs": [],
      "source": [
        "list_of_nums = [1, 2, 3, 4]"
      ]
    },
    {
      "cell_type": "code",
      "execution_count": null,
      "id": "784cece2-e659-4166-acaf-fe4ffade4685",
      "metadata": {
        "id": "784cece2-e659-4166-acaf-fe4ffade4685"
      },
      "outputs": [],
      "source": [
        "sum(list_comprehension)"
      ]
    },
    {
      "cell_type": "code",
      "execution_count": null,
      "id": "a7fe91da-6c5a-4a8d-88b0-bbc0d3548602",
      "metadata": {
        "id": "a7fe91da-6c5a-4a8d-88b0-bbc0d3548602"
      },
      "outputs": [],
      "source": [
        "sum(generator_comprehension)"
      ]
    },
    {
      "cell_type": "markdown",
      "id": "Npqyrp1I8VJB",
      "metadata": {
        "id": "Npqyrp1I8VJB"
      },
      "source": [
        "---\n",
        "---"
      ]
    },
    {
      "cell_type": "markdown",
      "id": "538cf570-d6b8-41a7-af83-a34890e974d7",
      "metadata": {
        "id": "538cf570-d6b8-41a7-af83-a34890e974d7"
      },
      "source": [
        "## _Built-In Methods & Native Techniques_"
      ]
    },
    {
      "cell_type": "markdown",
      "id": "00f8b0b5-f18d-4dfb-bed5-d47ca3c999ad",
      "metadata": {
        "id": "00f8b0b5-f18d-4dfb-bed5-d47ca3c999ad"
      },
      "source": [
        "|Term                           | Definition\n",
        "|-------------------------------|-----------------------------|\n",
        "|**`input()`**                  | A built-in function that enables **user input** that can be saved to a variable. |\n",
        "|**`eval()`**                   | A built-in function that evaluates **arbitrary Python expressions** from a string-based or compiled-code-based input. |\n",
        "|**`open()`**                   | A built-in function that creates and/or **opens a file** and returns it as a programmatically-handleable object. |\n",
        "|**`try`**                      | A syntactic clause in Python paired with `except` that **attempts to execute some code** without resulting in any exceptions; exception detection will trigger logic stored within the `except` block. |\n",
        "|**`except`**                   | A syntactic clause in Python paired with `try` that executes some code upon **detection of an exception** within a `try` block. |\n",
        "|**`finally`**                  | A syntactic clause in Python that executes **final code** before the `try`-`except` block's execution is closed; this sometimes appears after `try`-`except` blocks. |\n",
        "|**`with`**                     | A syntactic keyword in Python used for **context management** that ensures a resource that is opened in the current clause's scope is subsequently closed before leaving the context manager. |\n",
        "|**`lambda`**                   | A special keyword reserved for defining **anonymous functions** in Python. |"
      ]
    },
    {
      "cell_type": "markdown",
      "id": "3c6f4a0b-8581-4f2e-a5d1-072fec476449",
      "metadata": {
        "id": "3c6f4a0b-8581-4f2e-a5d1-072fec476449"
      },
      "source": [
        "### Resource and Context Management"
      ]
    },
    {
      "cell_type": "markdown",
      "id": "34b82509-327e-4518-9c03-10d614a22fac",
      "metadata": {
        "id": "34b82509-327e-4518-9c03-10d614a22fac"
      },
      "source": [
        "**Handling user input.**"
      ]
    },
    {
      "cell_type": "markdown",
      "id": "bd1d568f-1484-45af-99d2-6e0365d6b5ff",
      "metadata": {
        "id": "bd1d568f-1484-45af-99d2-6e0365d6b5ff"
      },
      "source": [
        "Inputting data as strings with `input()`."
      ]
    },
    {
      "cell_type": "code",
      "execution_count": null,
      "id": "2e8dcb87-cdcf-4ddd-b55b-23ffa33d42ce",
      "metadata": {
        "id": "2e8dcb87-cdcf-4ddd-b55b-23ffa33d42ce"
      },
      "outputs": [],
      "source": [
        "username = input(\"Hi there! What's your name?\\n  >> \")\n",
        "\n",
        "if username == \"Kash\":\n",
        "    print(\"Whoa, it's me!\")\n",
        "else:\n",
        "    print(f\"\\nIt's a pleasure to meet you, {username}!\")"
      ]
    },
    {
      "cell_type": "markdown",
      "id": "a51df1b9-c958-43ca-9785-427f417f2933",
      "metadata": {
        "id": "a51df1b9-c958-43ca-9785-427f417f2933"
      },
      "source": [
        "Evaluating user-inputted Python expressions with `eval()`."
      ]
    },
    {
      "cell_type": "code",
      "execution_count": null,
      "id": "91c88590-15dd-4de8-acf4-a09c2fa0f160",
      "metadata": {
        "id": "91c88590-15dd-4de8-acf4-a09c2fa0f160"
      },
      "outputs": [],
      "source": [
        "expression = input(\"What Python operation would you like to evaluate?\\n  >> \")\n",
        "\n",
        "print(f\"\\nThe output of your expression is as follows:\\n{eval(expression)}\")"
      ]
    },
    {
      "cell_type": "markdown",
      "id": "33a01f99-47c3-42c1-b2d6-52e19a2178e7",
      "metadata": {
        "id": "33a01f99-47c3-42c1-b2d6-52e19a2178e7"
      },
      "source": [
        "**Basic file manipulation.**"
      ]
    },
    {
      "cell_type": "markdown",
      "id": "62e3bfc0-dfd5-4e8c-91c3-90e3141cbefb",
      "metadata": {
        "id": "62e3bfc0-dfd5-4e8c-91c3-90e3141cbefb"
      },
      "source": [
        "Opening and reading a file."
      ]
    },
    {
      "cell_type": "code",
      "execution_count": null,
      "id": "7eabf7cf-227f-4824-983e-9be1080eecf1",
      "metadata": {
        "id": "7eabf7cf-227f-4824-983e-9be1080eecf1"
      },
      "outputs": [],
      "source": [
        "sample = open(\"sample.txt\", \"r\")"
      ]
    },
    {
      "cell_type": "code",
      "execution_count": null,
      "id": "40648094-e478-4b97-8204-d0e3df4d2089",
      "metadata": {
        "id": "40648094-e478-4b97-8204-d0e3df4d2089"
      },
      "outputs": [],
      "source": [
        "sample.read()"
      ]
    },
    {
      "cell_type": "markdown",
      "id": "550a71ba-7063-4441-8a00-7af287347c4e",
      "metadata": {
        "id": "550a71ba-7063-4441-8a00-7af287347c4e"
      },
      "source": [
        "Writing to a file."
      ]
    },
    {
      "cell_type": "code",
      "execution_count": null,
      "id": "8d4c0c5b-4114-40af-ae1f-25e470ea6c40",
      "metadata": {
        "id": "8d4c0c5b-4114-40af-ae1f-25e470ea6c40"
      },
      "outputs": [],
      "source": [
        "sample = open(\"sample.txt\", \"w\")"
      ]
    },
    {
      "cell_type": "code",
      "execution_count": null,
      "id": "IEdRMT9i6io-",
      "metadata": {
        "id": "IEdRMT9i6io-"
      },
      "outputs": [],
      "source": [
        "sample"
      ]
    },
    {
      "cell_type": "code",
      "execution_count": null,
      "id": "de7bde00-7d1e-4a81-9fc8-df83599864b9",
      "metadata": {
        "id": "de7bde00-7d1e-4a81-9fc8-df83599864b9"
      },
      "outputs": [],
      "source": [
        "for i in range(3):\n",
        "    sample.write(\"Hello, friend!\\n\")"
      ]
    },
    {
      "cell_type": "markdown",
      "id": "b8003051-757c-4895-86d2-9ef0311413ec",
      "metadata": {
        "id": "b8003051-757c-4895-86d2-9ef0311413ec"
      },
      "source": [
        "Closing a file."
      ]
    },
    {
      "cell_type": "code",
      "execution_count": null,
      "id": "89f1e7e0-4ca7-4c26-8f7d-e134313c846c",
      "metadata": {
        "id": "89f1e7e0-4ca7-4c26-8f7d-e134313c846c"
      },
      "outputs": [],
      "source": [
        "sample.close()"
      ]
    },
    {
      "cell_type": "markdown",
      "id": "996a6c5c-5cce-4e8a-8941-79aec00e7df1",
      "metadata": {
        "id": "996a6c5c-5cce-4e8a-8941-79aec00e7df1"
      },
      "source": [
        "### Resource Management"
      ]
    },
    {
      "cell_type": "markdown",
      "id": "06f16b77-7a88-46fb-84e2-de346eb7b827",
      "metadata": {
        "id": "06f16b77-7a88-46fb-84e2-de346eb7b827"
      },
      "source": [
        "Operational management with `try`, `except`, and `finally`."
      ]
    },
    {
      "cell_type": "code",
      "execution_count": null,
      "id": "5cd722db-83bb-4ba5-963d-2ec317aa3693",
      "metadata": {
        "id": "5cd722db-83bb-4ba5-963d-2ec317aa3693"
      },
      "outputs": [],
      "source": [
        "try:\n",
        "\n",
        "    sample = open(\"example.txt\", \"r\")\n",
        "    print(\"Opening preexisting file...\")\n",
        "    print(f\"\\n >> FILE CONTENT: `{sample.read()}`\\n\")\n",
        "\n",
        "except FileNotFoundError:\n",
        "\n",
        "    print(\"FileNotFoundError detected. Creating file...\")\n",
        "    sample = open(\"example.txt\", \"w\")\n",
        "    sample.write(\"Wow, what a cool file!\")\n",
        "    print(\"File successfully created and written to.\")\n",
        "\n",
        "finally:\n",
        "\n",
        "    print(\"Closing file...\")\n",
        "    sample.close()\n",
        "    print(\"File closed.\")"
      ]
    },
    {
      "cell_type": "markdown",
      "id": "c9b686a2-3553-4c76-84b7-6405744626d8",
      "metadata": {
        "id": "c9b686a2-3553-4c76-84b7-6405744626d8"
      },
      "source": [
        "Context management with `with`."
      ]
    },
    {
      "cell_type": "code",
      "execution_count": null,
      "id": "44a3337b-4525-41e9-872d-f8a01c9233c7",
      "metadata": {
        "id": "44a3337b-4525-41e9-872d-f8a01c9233c7"
      },
      "outputs": [],
      "source": [
        "# with open(\"ramble.txt\", \"w\") as fw:\n",
        "#     fw.write(\"Hi there! Hello! Good morning! Merry day! Hooray!\")\n",
        "\n",
        "with open(\"ramble.txt\", \"r\") as fr:\n",
        "    print(fr.read())"
      ]
    },
    {
      "cell_type": "markdown",
      "id": "6f77d099-009f-497b-9499-fb614349823b",
      "metadata": {
        "id": "6f77d099-009f-497b-9499-fb614349823b"
      },
      "source": [
        "### Lambda (Anonymous) Functions"
      ]
    },
    {
      "cell_type": "markdown",
      "id": "236eb509-11ac-424e-ba9d-be0c27ebc6ed",
      "metadata": {
        "id": "236eb509-11ac-424e-ba9d-be0c27ebc6ed"
      },
      "source": [
        "Basic lambda expressions."
      ]
    },
    {
      "cell_type": "code",
      "execution_count": null,
      "id": "bb302c5a-e024-4a6e-ba03-30c99530e04b",
      "metadata": {
        "id": "bb302c5a-e024-4a6e-ba03-30c99530e04b"
      },
      "outputs": [],
      "source": [
        "def add_two_numbers(a, b):\n",
        "    return a + b"
      ]
    },
    {
      "cell_type": "code",
      "execution_count": null,
      "id": "d900627e-147a-4e83-8af9-492ad9a73c9f",
      "metadata": {
        "id": "d900627e-147a-4e83-8af9-492ad9a73c9f"
      },
      "outputs": [],
      "source": [
        "lambda a, b: a + b"
      ]
    },
    {
      "cell_type": "code",
      "execution_count": null,
      "id": "0409fdd4-1c02-4b11-ad7e-11a063f8d010",
      "metadata": {
        "id": "0409fdd4-1c02-4b11-ad7e-11a063f8d010"
      },
      "outputs": [],
      "source": [
        "add_two_numbers = lambda a, b: a + b\n",
        "\n",
        "add_two_numbers(1, 2)"
      ]
    },
    {
      "cell_type": "markdown",
      "id": "90854b27-1a9e-455a-8d14-a4c24fac6512",
      "metadata": {
        "id": "90854b27-1a9e-455a-8d14-a4c24fac6512"
      },
      "source": [
        "Immediately invoked function expressions."
      ]
    },
    {
      "cell_type": "code",
      "execution_count": null,
      "id": "65c1518b-72bc-4c0e-87db-75fa9b73a0f5",
      "metadata": {
        "id": "65c1518b-72bc-4c0e-87db-75fa9b73a0f5"
      },
      "outputs": [],
      "source": [
        "(lambda a, b: a ** b)(2, 5)"
      ]
    },
    {
      "cell_type": "markdown",
      "id": "62c0c11c-415d-4c47-8f93-561963235cbd",
      "metadata": {
        "id": "62c0c11c-415d-4c47-8f93-561963235cbd"
      },
      "source": [
        "Higher-order functions."
      ]
    },
    {
      "cell_type": "code",
      "execution_count": null,
      "id": "ccb542f5-266c-4308-b2b2-a1f2dc06474d",
      "metadata": {
        "id": "ccb542f5-266c-4308-b2b2-a1f2dc06474d"
      },
      "outputs": [],
      "source": [
        "higher_order = lambda number, modifier: number + modifier(number)\n",
        "\n",
        "higher_order(20.0, lambda number: number - 3)"
      ]
    },
    {
      "cell_type": "markdown",
      "id": "8c3531c1-0628-4fe3-a1b8-a30695efa1b1",
      "metadata": {
        "id": "8c3531c1-0628-4fe3-a1b8-a30695efa1b1"
      },
      "source": [
        "Common functional applications: lambdas with `map()`."
      ]
    },
    {
      "cell_type": "code",
      "execution_count": null,
      "id": "059823d9-ea0f-4eee-a0de-808b99687ecf",
      "metadata": {
        "id": "059823d9-ea0f-4eee-a0de-808b99687ecf"
      },
      "outputs": [],
      "source": [
        "list(map(lambda number: number ** 2, [1, 2, 3, 4]))"
      ]
    },
    {
      "cell_type": "code",
      "execution_count": null,
      "id": "WVMeO8So7Lu-",
      "metadata": {
        "id": "WVMeO8So7Lu-"
      },
      "outputs": [],
      "source": [
        "map?"
      ]
    },
    {
      "cell_type": "code",
      "execution_count": null,
      "id": "aJm3BBH_6_Ux",
      "metadata": {
        "id": "aJm3BBH_6_Ux"
      },
      "outputs": [],
      "source": [
        "list(map(lambda number: number ** 2, [1, 2, 3, 4]))"
      ]
    },
    {
      "cell_type": "markdown",
      "id": "d5bec1c0-36ba-4c9b-9a8d-6fbc87280a85",
      "metadata": {
        "id": "d5bec1c0-36ba-4c9b-9a8d-6fbc87280a85"
      },
      "source": [
        "Common functional applications: lambdas with `filter()`."
      ]
    },
    {
      "cell_type": "code",
      "execution_count": null,
      "id": "9a84f78e-e458-470d-b074-5b9e002a768e",
      "metadata": {
        "id": "9a84f78e-e458-470d-b074-5b9e002a768e"
      },
      "outputs": [],
      "source": [
        "list(filter(lambda item: len(item) <= 3, [\"cat\", \"dog\", \"cow\", \"hen\", \"hippopotamus\"]))"
      ]
    },
    {
      "cell_type": "code",
      "execution_count": null,
      "id": "In4IABT77o3o",
      "metadata": {
        "id": "In4IABT77o3o"
      },
      "outputs": [],
      "source": [
        "animals = [\"cat\", \"dog\", \"cow\", \"hen\", \"hippopotamus\"]"
      ]
    },
    {
      "cell_type": "code",
      "execution_count": null,
      "id": "pa7eEocO79qc",
      "metadata": {
        "id": "pa7eEocO79qc"
      },
      "outputs": [],
      "source": [
        "filtered_animals = filter(lambda name: len(name) <= 3, animals)"
      ]
    },
    {
      "cell_type": "markdown",
      "id": "cff04002-63bd-44a2-a225-d11bdad39682",
      "metadata": {
        "id": "cff04002-63bd-44a2-a225-d11bdad39682"
      },
      "source": [
        "Common functional applications: lambdas with `sorted()`."
      ]
    },
    {
      "cell_type": "code",
      "execution_count": null,
      "id": "31f475dc-5187-4a14-bda3-835c0ed478c0",
      "metadata": {
        "id": "31f475dc-5187-4a14-bda3-835c0ed478c0"
      },
      "outputs": [],
      "source": [
        "user_ids = [\"AS100\", \"PG099\", \"DG472\", \"SR887\", \"CT555\", \"CG001\"]"
      ]
    },
    {
      "cell_type": "code",
      "execution_count": null,
      "id": "JNtf0IuI8Js-",
      "metadata": {
        "id": "JNtf0IuI8Js-"
      },
      "outputs": [],
      "source": [
        "sorted([3, 4, 1, 5, 2, 1000])"
      ]
    },
    {
      "cell_type": "code",
      "execution_count": null,
      "id": "17ccf27b-bf60-4a26-a2bd-ac2f8dcdcd94",
      "metadata": {
        "id": "17ccf27b-bf60-4a26-a2bd-ac2f8dcdcd94"
      },
      "outputs": [],
      "source": [
        "sorted(user_ids)"
      ]
    },
    {
      "cell_type": "code",
      "execution_count": null,
      "id": "sv6-q4mN8lcF",
      "metadata": {
        "id": "sv6-q4mN8lcF"
      },
      "outputs": [],
      "source": [
        "sorted?"
      ]
    },
    {
      "cell_type": "code",
      "execution_count": null,
      "id": "800cc30f-0193-4878-9c9b-03e8755034d3",
      "metadata": {
        "id": "800cc30f-0193-4878-9c9b-03e8755034d3"
      },
      "outputs": [],
      "source": [
        "sorted(user_ids, key=lambda id: int(id[2:]))"
      ]
    },
    {
      "cell_type": "code",
      "execution_count": null,
      "id": "6d926efe-0b57-4c3d-9877-18a779feb705",
      "metadata": {
        "id": "6d926efe-0b57-4c3d-9877-18a779feb705"
      },
      "outputs": [],
      "source": [
        "def get_number_from_id(id):\n",
        "    return int(id[2:])\n",
        "\n",
        "sorted(user_ids, key=get_number_from_id)"
      ]
    },
    {
      "cell_type": "markdown",
      "id": "et-w7GXp8W8X",
      "metadata": {
        "id": "et-w7GXp8W8X"
      },
      "source": [
        "---\n",
        "---"
      ]
    },
    {
      "cell_type": "markdown",
      "id": "39dd9ac4-396d-4d1a-b47a-962bed81adea",
      "metadata": {
        "id": "39dd9ac4-396d-4d1a-b47a-962bed81adea"
      },
      "source": [
        "## _Object Oriented Programming Design (OOPD)_"
      ]
    },
    {
      "cell_type": "markdown",
      "id": "c44ab4d7-e1c0-4760-96a7-75fc50510858",
      "metadata": {
        "id": "c44ab4d7-e1c0-4760-96a7-75fc50510858"
      },
      "source": [
        "|Term                           | Definition\n",
        "|-------------------------------|-----------------------------|\n",
        "|**Subclass (Child)**           | A blueprint for an object with its **instructions derived from another class**, usually referred to as its \"parent\" or \"superclass\". |\n",
        "|**Superclass (Parent)**        | A blueprint for an object with its **instructions intended to be inherited by another class**, usually referred to as its \"child\" or \"subclass\". |\n",
        "|**Properties**                 | A programmatic way of allowing safe modification of a class's attributes/methods without exposing the class's architecture to users; also known as **\"managed attributes\"**. |\n",
        "|**Dunder (Magic) Methods**       | A special type of automatically inherited method that can be explicitly overwritten to provide deeper functionality to classes and their corresponding object instances. |\n",
        "|**Getter**                     | A property syntax (reserved by `@property`) that enables finer control of **creating an object attribute** (or method). |\n",
        "|**Setter**                     | A property syntax (reserved by `@{PROPERTY_NAME}.setter` that enables finer control of **modifying an object attribute** (or method). |\n",
        "|**Deleter**                    | A property syntax (reserved by `@{PROPERTY_NAME}.deleter` that enables finer control of **destroying an object attribute** (or method). |\n",
        "|**`__init__()`**               | A reserved dunder method that allows for control over **which attributes and methods a particular object is configured with upon initialization**; commonly referred to as the **constructor**. |\n",
        "|**`__repr__()`**               | A reserved dunder method that allows for control over **how an object is physically represented to the console** when invoked to either the user or machine; sometimes referred to as the **representative**. |\n",
        "|**`__call__()`**               | A reserved dunder method that allows for control over **additional operability** that an object instance can perform when **called after initialization** (like a function); sometimes referred to as the **invoker**. |\n",
        "|**`__iter__()`**               | A reserved dunder method that allows for control over **how a given object is iterated over** by explicitly treating it to an iterator. |\n",
        "|**`__next__()`**               | A reserved dunder method that allows for control over **how a given object is iterated over** by explicitly defining how it can be sequentially iterated across. |"
      ]
    },
    {
      "cell_type": "markdown",
      "id": "3e4ed661-3d97-496f-bf50-cad61e7d635d",
      "metadata": {
        "id": "3e4ed661-3d97-496f-bf50-cad61e7d635d"
      },
      "source": [
        "![](https://assets.website-files.com/5c7536fc6fa90e7dbc27598f/5d8350501fa9f72a27a893bf_Oo65m_6e_qkDzypQAEMmPHMgn_mbbZo492Zf-qLCs1Rw1gc6CUAZqLxgmawjN1qdAiIrSqtRU5PpkEYlM2MAhUYjt1SwuvUialeWk2c6mIu0Vwt5F97USlsy1lmLTy_XsHjH5GK0U2BPhz3TEA.png)"
      ]
    },
    {
      "cell_type": "markdown",
      "id": "28d11cb7-decb-4084-8587-6ab82abe0d63",
      "metadata": {
        "id": "28d11cb7-decb-4084-8587-6ab82abe0d63"
      },
      "source": [
        "### Subclassing and Superclassing"
      ]
    },
    {
      "cell_type": "code",
      "execution_count": null,
      "id": "f96a38a3-e9ab-4d00-9de7-3a0ddcb153d3",
      "metadata": {
        "id": "f96a38a3-e9ab-4d00-9de7-3a0ddcb153d3"
      },
      "outputs": [],
      "source": [
        "class Dog:\n",
        "    def __init__(self, name=\"some dog\", age=1):\n",
        "        self.name = name\n",
        "        self.age = age\n",
        "        self.good_dog = True\n",
        "\n",
        "    def speak(self, expression=\"Woof\"):\n",
        "        return print(expression)"
      ]
    },
    {
      "cell_type": "code",
      "execution_count": null,
      "id": "ce146216-3713-48a3-a608-7a6f3dcba37b",
      "metadata": {
        "id": "ce146216-3713-48a3-a608-7a6f3dcba37b"
      },
      "outputs": [],
      "source": [
        "my_dog = Dog(\"Bablu\", 5)\n",
        "\n",
        "my_dog, my_dog.age"
      ]
    },
    {
      "cell_type": "code",
      "execution_count": null,
      "id": "SIUp-38D-G32",
      "metadata": {
        "id": "SIUp-38D-G32"
      },
      "outputs": [],
      "source": [
        "my_dog.speak(\"Bark\")"
      ]
    },
    {
      "cell_type": "markdown",
      "id": "731b0201-f2a5-4a07-8355-166320135af6",
      "metadata": {
        "id": "731b0201-f2a5-4a07-8355-166320135af6"
      },
      "source": [
        "Defining a standalone class with **no inheritance**."
      ]
    },
    {
      "cell_type": "code",
      "execution_count": null,
      "id": "09e7ca36-7682-45e8-a001-fce22d6200e9",
      "metadata": {
        "id": "09e7ca36-7682-45e8-a001-fce22d6200e9"
      },
      "outputs": [],
      "source": [
        "class Bloodhound:\n",
        "    def __init__(self):\n",
        "        self.size = \"big\"\n",
        "\n",
        "    def hunt(self):\n",
        "        print(f\"This bloodhound caught a rabbit!\")"
      ]
    },
    {
      "cell_type": "code",
      "execution_count": null,
      "id": "132f1acc-9c34-4d8b-8e7c-a0c4e2762010",
      "metadata": {
        "id": "132f1acc-9c34-4d8b-8e7c-a0c4e2762010"
      },
      "outputs": [],
      "source": [
        "bad_boy = Bloodhound()"
      ]
    },
    {
      "cell_type": "code",
      "execution_count": null,
      "id": "3199150a-be3e-4a14-879d-8f80c2703db5",
      "metadata": {
        "id": "3199150a-be3e-4a14-879d-8f80c2703db5"
      },
      "outputs": [],
      "source": [
        "bad_boy.size"
      ]
    },
    {
      "cell_type": "code",
      "execution_count": null,
      "id": "99059524-65f5-4fa0-8be6-6e5e1d77417e",
      "metadata": {
        "id": "99059524-65f5-4fa0-8be6-6e5e1d77417e"
      },
      "outputs": [],
      "source": [
        "bad_boy.name"
      ]
    },
    {
      "cell_type": "code",
      "execution_count": null,
      "id": "ded46f42-f27d-4005-a8e6-d29cbe10e235",
      "metadata": {
        "id": "ded46f42-f27d-4005-a8e6-d29cbe10e235"
      },
      "outputs": [],
      "source": [
        "bad_boy.hunt()"
      ]
    },
    {
      "cell_type": "code",
      "execution_count": null,
      "id": "c9831c38-dc4a-4db0-9c12-04d91c46fc8f",
      "metadata": {
        "id": "c9831c38-dc4a-4db0-9c12-04d91c46fc8f"
      },
      "outputs": [],
      "source": [
        "bad_boy.speak()"
      ]
    },
    {
      "cell_type": "markdown",
      "id": "f88a84ed-7fe3-4d0c-ba9e-b3c922eabb82",
      "metadata": {
        "id": "f88a84ed-7fe3-4d0c-ba9e-b3c922eabb82"
      },
      "source": [
        "Defining a child class (**subclass**) with **implicit (implied) inheritance**."
      ]
    },
    {
      "cell_type": "code",
      "execution_count": null,
      "id": "eae58847-26d3-4a2e-8f0c-d6af7167f71e",
      "metadata": {
        "id": "eae58847-26d3-4a2e-8f0c-d6af7167f71e"
      },
      "outputs": [],
      "source": [
        "class Bloodhound(Dog):\n",
        "    def __init__(self):\n",
        "        self.size = \"big\"\n",
        "\n",
        "    def hunt(self):\n",
        "        print(f\"This bloodhound caught a rabbit!\")"
      ]
    },
    {
      "cell_type": "code",
      "execution_count": null,
      "id": "48687430-36a6-41e6-aa6c-b7e533f67b84",
      "metadata": {
        "id": "48687430-36a6-41e6-aa6c-b7e533f67b84"
      },
      "outputs": [],
      "source": [
        "good_boy = Bloodhound()"
      ]
    },
    {
      "cell_type": "code",
      "execution_count": null,
      "id": "ba2375c0-42d9-4bd6-8e5d-88b16110fe8f",
      "metadata": {
        "id": "ba2375c0-42d9-4bd6-8e5d-88b16110fe8f"
      },
      "outputs": [],
      "source": [
        "good_boy.size"
      ]
    },
    {
      "cell_type": "code",
      "execution_count": null,
      "id": "770ce5d2-35c1-496d-91df-66421ddead67",
      "metadata": {
        "id": "770ce5d2-35c1-496d-91df-66421ddead67"
      },
      "outputs": [],
      "source": [
        "good_boy.name"
      ]
    },
    {
      "cell_type": "code",
      "execution_count": null,
      "id": "297c7579-d8eb-439f-a2c9-467155a4daf6",
      "metadata": {
        "id": "297c7579-d8eb-439f-a2c9-467155a4daf6"
      },
      "outputs": [],
      "source": [
        "good_boy.hunt()"
      ]
    },
    {
      "cell_type": "code",
      "execution_count": null,
      "id": "a1bda775-826b-4dda-acc9-70a7ac3d8523",
      "metadata": {
        "id": "a1bda775-826b-4dda-acc9-70a7ac3d8523"
      },
      "outputs": [],
      "source": [
        "good_boy.speak()"
      ]
    },
    {
      "cell_type": "markdown",
      "id": "d657ebf4-9948-4ea5-ae63-5bbacbda8120",
      "metadata": {
        "id": "d657ebf4-9948-4ea5-ae63-5bbacbda8120"
      },
      "source": [
        "Defining another child class (**subclass**) with **explicit (declarative) inheritance**."
      ]
    },
    {
      "cell_type": "code",
      "execution_count": null,
      "id": "k4wl5WsxBGvJ",
      "metadata": {
        "id": "k4wl5WsxBGvJ"
      },
      "outputs": [],
      "source": [
        "class DogWalker:\n",
        "    def __init__(self, dog):\n",
        "        self.dog = dog\n",
        "\n",
        "    def pet(self):\n",
        "        if self.dog.is_happy == True:\n",
        "            print(\"happy bark\")\n",
        "        else:\n",
        "            self.dog.is_happy = True\n",
        "\n",
        "class Dog:\n",
        "    def __init__(self, is_happy=False):\n",
        "        self.is_happy = is_happy"
      ]
    },
    {
      "cell_type": "code",
      "execution_count": null,
      "id": "3gGcPRaMBZig",
      "metadata": {
        "id": "3gGcPRaMBZig"
      },
      "outputs": [],
      "source": [
        "bablu = Dog()"
      ]
    },
    {
      "cell_type": "code",
      "execution_count": null,
      "id": "VlHWOgDjBfDs",
      "metadata": {
        "id": "VlHWOgDjBfDs"
      },
      "outputs": [],
      "source": [
        "kash = DogWalker(dog=bablu)"
      ]
    },
    {
      "cell_type": "code",
      "execution_count": null,
      "id": "cITtzh1IBpO8",
      "metadata": {
        "id": "cITtzh1IBpO8"
      },
      "outputs": [],
      "source": [
        "kash.pet()"
      ]
    },
    {
      "cell_type": "code",
      "execution_count": null,
      "id": "BuIYsl8wBiI8",
      "metadata": {
        "id": "BuIYsl8wBiI8"
      },
      "outputs": [],
      "source": [
        "kash.dog.is_happy"
      ]
    },
    {
      "cell_type": "code",
      "execution_count": null,
      "id": "0d1e8a0c-9087-4f2c-a7db-db083965abd0",
      "metadata": {
        "id": "0d1e8a0c-9087-4f2c-a7db-db083965abd0"
      },
      "outputs": [],
      "source": [
        "class Bloodhound(Dog):\n",
        "    def __init__(self, name, age):\n",
        "        self.size = \"big\"\n",
        "        super().__init__(name, age)\n",
        "\n",
        "    def hunt(self):\n",
        "        print(f\"{self.name} caught a rabbit!\")"
      ]
    },
    {
      "cell_type": "code",
      "execution_count": null,
      "id": "2b08a1e3-a56d-4c4a-a334-835c901be679",
      "metadata": {
        "id": "2b08a1e3-a56d-4c4a-a334-835c901be679"
      },
      "outputs": [],
      "source": [
        "best_boy = Bloodhound(\"McGruff the Crime Dog\", 9)"
      ]
    },
    {
      "cell_type": "code",
      "execution_count": null,
      "id": "a4c14856-b6f9-420d-b9e7-5872e169c3c1",
      "metadata": {
        "id": "a4c14856-b6f9-420d-b9e7-5872e169c3c1"
      },
      "outputs": [],
      "source": [
        "best_boy.size"
      ]
    },
    {
      "cell_type": "code",
      "execution_count": null,
      "id": "ce5b3471-fbf9-4398-8d09-7a2b9185ac3a",
      "metadata": {
        "id": "ce5b3471-fbf9-4398-8d09-7a2b9185ac3a"
      },
      "outputs": [],
      "source": [
        "best_boy.Dog.name"
      ]
    },
    {
      "cell_type": "code",
      "execution_count": null,
      "id": "aadfff02-78d9-49a0-bb15-123408fbfc86",
      "metadata": {
        "id": "aadfff02-78d9-49a0-bb15-123408fbfc86"
      },
      "outputs": [],
      "source": [
        "best_boy.hunt()"
      ]
    },
    {
      "cell_type": "code",
      "execution_count": null,
      "id": "82b8ca65-098d-44c9-b619-c507ae6f8e5a",
      "metadata": {
        "id": "82b8ca65-098d-44c9-b619-c507ae6f8e5a"
      },
      "outputs": [],
      "source": [
        "best_boy.speak()"
      ]
    },
    {
      "cell_type": "markdown",
      "id": "f643ad8d-549f-4cd7-862d-9371e95f7232",
      "metadata": {
        "id": "f643ad8d-549f-4cd7-862d-9371e95f7232"
      },
      "source": [
        "**Multiple Inheritance!**"
      ]
    },
    {
      "cell_type": "code",
      "execution_count": null,
      "id": "f1d8c64b-33a2-40a2-9f4e-d48d9b604c16",
      "metadata": {
        "id": "f1d8c64b-33a2-40a2-9f4e-d48d9b604c16"
      },
      "outputs": [],
      "source": [
        "class Cat:\n",
        "    def activate_loaf_mode(self):\n",
        "        print(f\"{self.name} has turned into a loaf.\")\n",
        "\n",
        "class Dog:\n",
        "    def activate_zoomie_mode(self):\n",
        "        print(f\"{self.name} has started running around in circles.\")"
      ]
    },
    {
      "cell_type": "code",
      "execution_count": null,
      "id": "4caf41a5-cd1c-4041-84a9-fffdae85193e",
      "metadata": {
        "id": "4caf41a5-cd1c-4041-84a9-fffdae85193e"
      },
      "outputs": [],
      "source": [
        "class CatDog(Cat, Dog):\n",
        "    def __init__(self, name=\"Cat Dog\"):\n",
        "        self.name = name\n",
        "\n",
        "    def speak(self):\n",
        "        print(f\">> {self.name.upper()}: Meow? Woof?? Purr?! Bark!?!\")"
      ]
    },
    {
      "cell_type": "code",
      "execution_count": null,
      "id": "c1d6a40f-cd4d-478d-89e8-ffc97a16318a",
      "metadata": {
        "id": "c1d6a40f-cd4d-478d-89e8-ffc97a16318a"
      },
      "outputs": [],
      "source": [
        "good_boys = CatDog()"
      ]
    },
    {
      "cell_type": "code",
      "execution_count": null,
      "id": "e97eaf20-17e1-449a-93d1-7b998369a29b",
      "metadata": {
        "id": "e97eaf20-17e1-449a-93d1-7b998369a29b"
      },
      "outputs": [],
      "source": [
        "good_boys.activate_loaf_mode()"
      ]
    },
    {
      "cell_type": "code",
      "execution_count": null,
      "id": "8992092c-e26f-4714-8ee6-6f69ee39cc77",
      "metadata": {
        "id": "8992092c-e26f-4714-8ee6-6f69ee39cc77"
      },
      "outputs": [],
      "source": [
        "good_boys.activate_zoomie_mode()"
      ]
    },
    {
      "cell_type": "code",
      "execution_count": null,
      "id": "b1336937-faa2-4383-b772-9261f51725d5",
      "metadata": {
        "id": "b1336937-faa2-4383-b772-9261f51725d5"
      },
      "outputs": [],
      "source": [
        "good_boys.speak()"
      ]
    },
    {
      "cell_type": "markdown",
      "id": "40767294-e556-4ed5-b9e9-732d9c622017",
      "metadata": {
        "id": "40767294-e556-4ed5-b9e9-732d9c622017"
      },
      "source": [
        "### Dunder (Magic) Methods"
      ]
    },
    {
      "cell_type": "markdown",
      "id": "2078a8ba-7a2d-4458-ae85-dd5d943f08a8",
      "metadata": {
        "id": "2078a8ba-7a2d-4458-ae85-dd5d943f08a8"
      },
      "source": [
        "#### `__init__`, the Constructor"
      ]
    },
    {
      "cell_type": "code",
      "execution_count": null,
      "id": "f401cf6f-2157-4304-8c14-d894da3e3f6a",
      "metadata": {
        "id": "f401cf6f-2157-4304-8c14-d894da3e3f6a"
      },
      "outputs": [],
      "source": [
        "class MyConstructedObject:\n",
        "    def __init__(self, name, favorite_languages):\n",
        "        self.name = name\n",
        "        self.favorite_languages = favorite_languages\n",
        "        self.say_hi()\n",
        "\n",
        "    def say_hi(self):\n",
        "        print(\"Hi there, I'm Kash!\")"
      ]
    },
    {
      "cell_type": "code",
      "execution_count": null,
      "id": "17cf77a1-ed95-4650-9aec-31b09f08dbad",
      "metadata": {
        "id": "17cf77a1-ed95-4650-9aec-31b09f08dbad"
      },
      "outputs": [],
      "source": [
        "constructed_instance = MyConstructedObject(\"Kash\", [\"Python\", \"JavaScript\"])"
      ]
    },
    {
      "cell_type": "code",
      "execution_count": null,
      "id": "c93bdf1f-536e-4ec5-b5b5-7e95725a8a01",
      "metadata": {
        "id": "c93bdf1f-536e-4ec5-b5b5-7e95725a8a01"
      },
      "outputs": [],
      "source": [
        "constructed_instance"
      ]
    },
    {
      "cell_type": "code",
      "execution_count": null,
      "id": "d59168f9-0df7-4ecf-ae5d-c9669ade1662",
      "metadata": {
        "id": "d59168f9-0df7-4ecf-ae5d-c9669ade1662"
      },
      "outputs": [],
      "source": [
        "constructed_instance.favorite_languages"
      ]
    },
    {
      "cell_type": "markdown",
      "id": "3c38144c-e329-4188-8b17-ed7c6331d4c2",
      "metadata": {
        "id": "3c38144c-e329-4188-8b17-ed7c6331d4c2"
      },
      "source": [
        "#### `__repr__`, the Representative"
      ]
    },
    {
      "cell_type": "code",
      "execution_count": null,
      "id": "c4b41ebf-e24c-47d9-8706-e9781f7ce5b6",
      "metadata": {
        "id": "c4b41ebf-e24c-47d9-8706-e9781f7ce5b6"
      },
      "outputs": [],
      "source": [
        "class MyRepresentationalObject:\n",
        "    def __repr__(self):\n",
        "        return \"I am an object. Fear me!\""
      ]
    },
    {
      "cell_type": "code",
      "execution_count": null,
      "id": "dbc908ce-7b28-4405-b904-6921e50450d8",
      "metadata": {
        "id": "dbc908ce-7b28-4405-b904-6921e50450d8"
      },
      "outputs": [],
      "source": [
        "represented_instance = MyRepresentationalObject()"
      ]
    },
    {
      "cell_type": "code",
      "execution_count": null,
      "id": "24b2d4b9-f6a1-4229-8b7d-ba771fb889d1",
      "metadata": {
        "id": "24b2d4b9-f6a1-4229-8b7d-ba771fb889d1"
      },
      "outputs": [],
      "source": [
        "represented_instance"
      ]
    },
    {
      "cell_type": "markdown",
      "id": "2f84ef12-7293-4784-8f40-8da63e252505",
      "metadata": {
        "id": "2f84ef12-7293-4784-8f40-8da63e252505"
      },
      "source": [
        "#### `__call__`, the Functional Invoker"
      ]
    },
    {
      "cell_type": "code",
      "execution_count": null,
      "id": "5edb5a53-4ee8-43d4-98b0-b11b26cdc3e8",
      "metadata": {
        "id": "5edb5a53-4ee8-43d4-98b0-b11b26cdc3e8"
      },
      "outputs": [],
      "source": [
        "class MyCallableObject:\n",
        "    def __call__(self):\n",
        "        print(\"I awaken, my leige. What is thy command?\")"
      ]
    },
    {
      "cell_type": "code",
      "execution_count": null,
      "id": "758d78f2-8a33-44f5-9429-0c726a212631",
      "metadata": {
        "id": "758d78f2-8a33-44f5-9429-0c726a212631"
      },
      "outputs": [],
      "source": [
        "callable_instance = MyCallableObject()"
      ]
    },
    {
      "cell_type": "code",
      "execution_count": null,
      "id": "f5c0e6ce-93df-4f7b-930c-4f3ab5445010",
      "metadata": {
        "id": "f5c0e6ce-93df-4f7b-930c-4f3ab5445010"
      },
      "outputs": [],
      "source": [
        "callable_instance()"
      ]
    },
    {
      "cell_type": "markdown",
      "id": "oCSn_E_7uFlf",
      "metadata": {
        "id": "oCSn_E_7uFlf"
      },
      "source": [
        "#### `__iter__` and `__next__`, Two Halves of the Iterator Protocol"
      ]
    },
    {
      "cell_type": "code",
      "execution_count": null,
      "id": "UKWLMONDuXmc",
      "metadata": {
        "id": "UKWLMONDuXmc"
      },
      "outputs": [],
      "source": [
        "class SequenceOfSquares:\n",
        "    def __init__(self, sequence_length: int):\n",
        "        self.length = sequence_length\n",
        "        self.current_position = 0\n",
        "\n",
        "    def __iter__(self):\n",
        "        return self\n",
        "\n",
        "    def __next__(self):\n",
        "        if self.current_position >= self.length:\n",
        "            raise StopIteration\n",
        "        self.current_position += 1\n",
        "        return self.current_position ** 2"
      ]
    },
    {
      "cell_type": "code",
      "execution_count": null,
      "id": "EUQpBIeSvKrt",
      "metadata": {
        "id": "EUQpBIeSvKrt"
      },
      "outputs": [],
      "source": [
        "squaring_iterator_protocol = SequenceOfSquares(100000000000000000)"
      ]
    },
    {
      "cell_type": "code",
      "execution_count": null,
      "id": "2J_bTCGRvRV4",
      "metadata": {
        "id": "2J_bTCGRvRV4"
      },
      "outputs": [],
      "source": [
        "# for square in squaring_iterator_protocol:\n",
        "#     print(square)\n",
        "\n",
        "next(squaring_iterator_protocol)"
      ]
    },
    {
      "cell_type": "markdown",
      "id": "5b324968-04f9-494a-88b9-c00c5f3b89d5",
      "metadata": {
        "id": "5b324968-04f9-494a-88b9-c00c5f3b89d5"
      },
      "source": [
        "### Properties and Advanced Object Attribution"
      ]
    },
    {
      "cell_type": "markdown",
      "id": "bbd07978-6c94-446b-9281-70013ca5d241",
      "metadata": {
        "id": "bbd07978-6c94-446b-9281-70013ca5d241"
      },
      "source": [
        "**The `@property` decorator.**"
      ]
    },
    {
      "cell_type": "code",
      "execution_count": null,
      "id": "b6d664f3-308c-4952-a764-7a05707a1c7b",
      "metadata": {
        "id": "b6d664f3-308c-4952-a764-7a05707a1c7b"
      },
      "outputs": [],
      "source": [
        "@property?"
      ]
    },
    {
      "cell_type": "markdown",
      "id": "jbbtlL3byPpd",
      "metadata": {
        "id": "jbbtlL3byPpd"
      },
      "source": [
        "#### Standard Object Functionality (No Properties)"
      ]
    },
    {
      "cell_type": "code",
      "execution_count": null,
      "id": "K14NNYyPxyzI",
      "metadata": {
        "id": "K14NNYyPxyzI"
      },
      "outputs": [],
      "source": [
        "class PizzaSlice:\n",
        "    def __init__(self, price):\n",
        "        self.price = price"
      ]
    },
    {
      "cell_type": "code",
      "execution_count": null,
      "id": "JTNtD9H8x2Lh",
      "metadata": {
        "id": "JTNtD9H8x2Lh"
      },
      "outputs": [],
      "source": [
        "free_pizza = PizzaSlice(0)\n",
        "\n",
        "free_pizza.price\n",
        "\n",
        "free_pizza.price = 2.49\n",
        "\n",
        "del free_pizza.price"
      ]
    },
    {
      "cell_type": "markdown",
      "id": "4c3ddd6c-b644-459d-a9d4-dfb3aa731272",
      "metadata": {
        "id": "4c3ddd6c-b644-459d-a9d4-dfb3aa731272"
      },
      "source": [
        "#### Getting Properties with `@property`"
      ]
    },
    {
      "cell_type": "code",
      "execution_count": null,
      "id": "0f45ffe7-21f0-4312-b20b-9c1003acec51",
      "metadata": {
        "id": "0f45ffe7-21f0-4312-b20b-9c1003acec51"
      },
      "outputs": [],
      "source": [
        "class PizzaSlice:\n",
        "    def __init__(self, price):\n",
        "        self.price = price\n",
        "\n",
        "    @property\n",
        "    def price(self):\n",
        "        return self._price"
      ]
    },
    {
      "cell_type": "code",
      "execution_count": null,
      "id": "99d24909-c225-46c9-9dd4-b65a12955d15",
      "metadata": {
        "id": "99d24909-c225-46c9-9dd4-b65a12955d15"
      },
      "outputs": [],
      "source": [
        "slice_of_cheese = PizzaSlice(0.99)\n",
        "\n",
        "slice_of_cheese.price\n",
        "\n",
        "slice_of_cheese.price = 1.99\n",
        "\n",
        "del slice_of_cheese.price"
      ]
    },
    {
      "cell_type": "markdown",
      "id": "7bd036b2-c3ca-4040-ae10-4fb774e082e1",
      "metadata": {
        "id": "7bd036b2-c3ca-4040-ae10-4fb774e082e1"
      },
      "source": [
        "In order to _get_ or retrieve an attribute's value, it needs to be **_set_** in the first place! (Usually upon instantiation!)"
      ]
    },
    {
      "cell_type": "markdown",
      "id": "8099bd17-e765-404d-92ff-8ddac38e4a80",
      "metadata": {
        "id": "8099bd17-e765-404d-92ff-8ddac38e4a80"
      },
      "source": [
        "#### Setting Properties with `@{PROPERTY_NAME}.setter`"
      ]
    },
    {
      "cell_type": "markdown",
      "id": "3ALCHwUJxhPL",
      "metadata": {
        "id": "3ALCHwUJxhPL"
      },
      "source": [
        "Validations are very important and one of the biggest reasons to use properties in the first place – sometimes it's necessary to **abstract** code away from the user and **limit** the variability inherent in an object's functionality."
      ]
    },
    {
      "cell_type": "code",
      "execution_count": null,
      "id": "d5f5b583-f126-49df-aa3f-22b11086980d",
      "metadata": {
        "id": "d5f5b583-f126-49df-aa3f-22b11086980d"
      },
      "outputs": [],
      "source": [
        "class PizzaSlice:\n",
        "    def __init__(self, price):\n",
        "        self.price = price\n",
        "\n",
        "    @property\n",
        "    def price(self):\n",
        "        return self._price\n",
        "\n",
        "    @price.setter\n",
        "    def price(self, new_price):\n",
        "        PRICE_IS_GREATER_THAN_ZERO = (new_price >= 0)\n",
        "        PRICE_IS_NUMERICAL = isinstance(new_price, float)\n",
        "        PRICE_IS_REASONABLE = (new_price < 6.0)\n",
        "        if PRICE_IS_GREATER_THAN_ZERO and PRICE_IS_NUMERICAL and PRICE_IS_REASONABLE:\n",
        "            self._price = new_price\n",
        "            print(f\"The current price is ${self._price}.\")\n",
        "        else:\n",
        "            print(f\"WARNING: `{new_price}` is not a valid price. Please enter a valid price.\")"
      ]
    },
    {
      "cell_type": "code",
      "execution_count": null,
      "id": "8e68ca7e-c657-4179-8b0e-1f74337cae29",
      "metadata": {
        "id": "8e68ca7e-c657-4179-8b0e-1f74337cae29"
      },
      "outputs": [],
      "source": [
        "the_golden_slice = PizzaSlice(54.99)\n",
        "\n",
        "# the_golden_slice.price\n",
        "\n",
        "# the_golden_slice.price = 49.99\n",
        "\n",
        "# del the_golden_slice.price"
      ]
    },
    {
      "cell_type": "code",
      "execution_count": null,
      "id": "82270025-3d6e-4ca9-a959-a0f287fb1cd2",
      "metadata": {
        "id": "82270025-3d6e-4ca9-a959-a0f287fb1cd2"
      },
      "outputs": [],
      "source": [
        "slice_of_cheese = PizzaSlice(0.99)\n",
        "\n",
        "slice_of_cheese.price\n",
        "\n",
        "slice_of_cheese.price = 1.99\n",
        "\n",
        "slice_of_cheese.price = -2.99\n",
        "\n",
        "# del slice_of_cheese.price"
      ]
    },
    {
      "cell_type": "markdown",
      "id": "48a6ea88-4240-4374-9871-bc4cdba55907",
      "metadata": {
        "id": "48a6ea88-4240-4374-9871-bc4cdba55907"
      },
      "source": [
        "#### Deleting Properties with `@{PROPERTY_NAME}.deleter`"
      ]
    },
    {
      "cell_type": "code",
      "execution_count": null,
      "id": "61c8f6cd-179d-475f-85c1-15c3c9bc04f5",
      "metadata": {
        "id": "61c8f6cd-179d-475f-85c1-15c3c9bc04f5"
      },
      "outputs": [],
      "source": [
        "class PizzaSlice:\n",
        "    def __init__(self, price):\n",
        "        self.price = price\n",
        "\n",
        "    @property\n",
        "    def price(self):\n",
        "        return self._price\n",
        "\n",
        "    @price.setter\n",
        "    def price(self, new_price):\n",
        "        PRICE_IS_GREATER_THAN_ZERO = (new_price >= 0)\n",
        "        PRICE_IS_NUMERICAL = isinstance(new_price, float)\n",
        "        PRICE_IS_REASONABLE = (new_price < 6.0)\n",
        "        if PRICE_IS_GREATER_THAN_ZERO and PRICE_IS_NUMERICAL and PRICE_IS_REASONABLE:\n",
        "            self._price = new_price\n",
        "            print(f\"The current price is ${self._price}.\")\n",
        "        else:\n",
        "            print(f\"WARNING: `{new_price}` is not a valid price. Please enter a valid price.\")\n",
        "\n",
        "    @price.deleter\n",
        "    def price(self):\n",
        "        del self._price\n",
        "        print(\"UPDATE: Property `price` has been deleted.\")"
      ]
    },
    {
      "cell_type": "code",
      "execution_count": null,
      "id": "5c34add3-105e-4772-87d8-8f7650c34b98",
      "metadata": {
        "id": "5c34add3-105e-4772-87d8-8f7650c34b98"
      },
      "outputs": [],
      "source": [
        "slice_of_cheese = PizzaSlice(0.99)\n",
        "\n",
        "slice_of_cheese.price\n",
        "\n",
        "slice_of_cheese.price = 1.99\n",
        "\n",
        "del slice_of_cheese.price\n",
        "\n",
        "# slice_of_cheese.price"
      ]
    },
    {
      "cell_type": "markdown",
      "id": "l6scDBzH8aFZ",
      "metadata": {
        "id": "l6scDBzH8aFZ"
      },
      "source": [
        "---\n",
        "---"
      ]
    },
    {
      "cell_type": "markdown",
      "id": "bb4602a6-861f-46d0-a203-3ad886b12658",
      "metadata": {
        "id": "bb4602a6-861f-46d0-a203-3ad886b12658"
      },
      "source": [
        "## _Quality Assurance_\n",
        "\n",
        "**NOTE**: This section needs extensive revision and is not recommended for student execution."
      ]
    },
    {
      "cell_type": "markdown",
      "id": "7840a679-235b-48f6-bd72-9d37c21154da",
      "metadata": {
        "id": "7840a679-235b-48f6-bd72-9d37c21154da"
      },
      "source": [
        "|Term                           | Definition\n",
        "|-------------------------------|-----------------------------|\n",
        "|**Unit Test**                  | A segment of code designed to **test the functionality, reliability, and validity** of another (generally small(er)) segment of code usually referred to as a \"unit\". |\n",
        "|**`assert`**                   | A reserved keyword in Python for creating a logical-evaluation-based expression useful for testing small scripts and functions. |"
      ]
    },
    {
      "cell_type": "markdown",
      "id": "a34f6c39-8513-40f4-a9d7-31b8b0724545",
      "metadata": {
        "id": "a34f6c39-8513-40f4-a9d7-31b8b0724545"
      },
      "source": [
        "### Test Driven Development"
      ]
    },
    {
      "cell_type": "markdown",
      "id": "2cf0e39d-ded5-4997-b09a-1a88dcedb868",
      "metadata": {
        "id": "2cf0e39d-ded5-4997-b09a-1a88dcedb868"
      },
      "source": [
        "**Basic Testing in Vanilla Python.**"
      ]
    },
    {
      "cell_type": "markdown",
      "id": "a5821420-0d52-4a49-93e2-4c788d4e567a",
      "metadata": {
        "id": "a5821420-0d52-4a49-93e2-4c788d4e567a"
      },
      "source": [
        "Using the `assert` keyword to test code."
      ]
    },
    {
      "cell_type": "code",
      "execution_count": null,
      "id": "590efabc-ce7f-4cea-a390-ea968a2e18a2",
      "metadata": {
        "id": "590efabc-ce7f-4cea-a390-ea968a2e18a2"
      },
      "outputs": [],
      "source": [
        "def exponent_a_to_b(a, b):\n",
        "    return a * b\n",
        "\n",
        "try:\n",
        "    assert exponent_a_to_b(2, 2) == 4\n",
        "    assert exponent_a_to_b(3, 3) == 27\n",
        "    assert exponent_a_to_b(4, 2) == 16\n",
        "    print(\"All tests successfully passed.\")\n",
        "except AssertionError:\n",
        "    print(f\"WE BROKE IT! Expected: {3 ** 3}, Got: {exponent_a_to_b(3, 3)}\")"
      ]
    },
    {
      "cell_type": "code",
      "execution_count": null,
      "id": "0324c121-4c26-41c0-af37-8791eba22430",
      "metadata": {
        "id": "0324c121-4c26-41c0-af37-8791eba22430"
      },
      "outputs": [],
      "source": [
        "assert 1 == 1, \"This will run without a problem since 1 = 1!\""
      ]
    },
    {
      "cell_type": "code",
      "execution_count": null,
      "id": "6c988f22-e2b2-4c78-9bca-d55b6341f448",
      "metadata": {
        "id": "6c988f22-e2b2-4c78-9bca-d55b6341f448"
      },
      "outputs": [],
      "source": [
        "value = 1\n",
        "\n",
        "assert value == 2, f\"Test failed | Expected: 2, Got: {value}\""
      ]
    },
    {
      "cell_type": "code",
      "execution_count": null,
      "id": "fc34b80d-36e9-43d9-93c7-d116f98046fc",
      "metadata": {
        "id": "fc34b80d-36e9-43d9-93c7-d116f98046fc"
      },
      "outputs": [],
      "source": [
        "def apply_discount(item, discount=0):\n",
        "    \"\"\" Applies a discount to a store item. \"\"\"\n",
        "    discount_price = int(item[\"price\"] * (1.0 - discount))\n",
        "    DISCOUNT_ASSERTION_INVALID_MSG = f\"Discount is invalid! Expected discount rate between 0% and 100%, actually received rate of {int(discount * 100)}%.\"\n",
        "    assert 0 <= discount_price <= item[\"price\"], DISCOUNT_ASSERTION_INVALID_MSG\n",
        "    return discount_price"
      ]
    },
    {
      "cell_type": "code",
      "execution_count": null,
      "id": "5ed4c279-d59f-4cfb-8cb3-53375c62103d",
      "metadata": {
        "id": "5ed4c279-d59f-4cfb-8cb3-53375c62103d"
      },
      "outputs": [],
      "source": [
        "store_item = {\"name\": \"PS5 Elden Ring Bundle\", \"price\": 600}"
      ]
    },
    {
      "cell_type": "code",
      "execution_count": null,
      "id": "67ac77cb-12e9-48a7-8f6e-3d473e6ec582",
      "metadata": {
        "id": "67ac77cb-12e9-48a7-8f6e-3d473e6ec582"
      },
      "outputs": [],
      "source": [
        "apply_discount(item=store_item, discount=0.25)"
      ]
    },
    {
      "cell_type": "code",
      "execution_count": null,
      "id": "7e84c996-2049-4b12-93d7-35624b403d27",
      "metadata": {
        "id": "7e84c996-2049-4b12-93d7-35624b403d27"
      },
      "outputs": [],
      "source": [
        "apply_discount(item=store_item)"
      ]
    },
    {
      "cell_type": "code",
      "execution_count": null,
      "id": "a6fe5d2d-4679-4fa6-b6f3-12a75f22368c",
      "metadata": {
        "id": "a6fe5d2d-4679-4fa6-b6f3-12a75f22368c"
      },
      "outputs": [],
      "source": [
        "apply_discount(item=store_item, discount=1)"
      ]
    },
    {
      "cell_type": "code",
      "execution_count": null,
      "id": "61ed3cd9-8fb5-4a80-9f1f-c101b7879240",
      "metadata": {
        "id": "61ed3cd9-8fb5-4a80-9f1f-c101b7879240"
      },
      "outputs": [],
      "source": [
        "apply_discount(item=store_item, discount=1.25)"
      ]
    },
    {
      "cell_type": "code",
      "execution_count": null,
      "id": "77703599-9843-4317-89db-76f55e0fc454",
      "metadata": {
        "id": "77703599-9843-4317-89db-76f55e0fc454"
      },
      "outputs": [],
      "source": [
        "apply_discount(item=store_item, discount=-0.4)"
      ]
    },
    {
      "cell_type": "markdown",
      "id": "90048170-7eb6-4082-8a9e-bd7ebaea2f09",
      "metadata": {
        "id": "90048170-7eb6-4082-8a9e-bd7ebaea2f09"
      },
      "source": [
        "Testing can be a much more verbose and domineering part of our coding process compared to our functional scripts.\n",
        "\n",
        "Should they? Should they not?\n",
        "\n",
        "Depends on the nature of the task and the developer!"
      ]
    },
    {
      "cell_type": "code",
      "execution_count": null,
      "id": "4e93dd06-4af8-462d-9523-1047f9153ca6",
      "metadata": {
        "id": "4e93dd06-4af8-462d-9523-1047f9153ca6"
      },
      "outputs": [],
      "source": [
        "def apply_discount(item: dict, discount: float = 0.0) -> int:\n",
        "    \"\"\" Applies a discount to a store item. \"\"\"\n",
        "    return int(item[\"price\"] * (1.0 - discount))"
      ]
    },
    {
      "cell_type": "code",
      "execution_count": null,
      "id": "20337239-c425-4477-9ffe-f49cfe5829a8",
      "metadata": {
        "id": "20337239-c425-4477-9ffe-f49cfe5829a8"
      },
      "outputs": [],
      "source": [
        "def test_apply_discount(func, test_items, test_discounts):\n",
        "    \"\"\" Testing function for validating `apply_discount` function. \"\"\"\n",
        "    # Initialize test execution counter\n",
        "    outer_test_counter = 0\n",
        "    # \"Grid search\" through all testable argument permutations\n",
        "    for test_item in test_items:\n",
        "        # Increment testing counter for item parameter iteration\n",
        "        outer_test_counter += 1\n",
        "        inner_test_counter = 0\n",
        "        for test_discount in test_discounts:\n",
        "            # Increment testing counter for discount parameter iteration\n",
        "            inner_test_counter += 1\n",
        "            TEST_FAILURE_PREFIX_MSG = f\"\\nTEST #{outer_test_counter}.{inner_test_counter}.\"\n",
        "            CURRENT_PARAMETER_SEARCH_MSG = f\"\\nCURRENT PARAMETERS:\\n\\t>> `test_item = {test_item}`.\\n\\t>> `test_discount = {test_discount}`.\"\n",
        "\n",
        "            # Define and test assertion case with custom error message for store item type validation\n",
        "            STORE_ITEM_IS_VALID_TYPE = isinstance(test_item, dict)\n",
        "            STORE_ITEM_INVALID_TYPE_MSG = f\"1 FAILED: Expected `test_item` to be of type `dict`, but got `type(test_item) = {type(test_item)}`.\"\n",
        "            assert STORE_ITEM_IS_VALID_TYPE, TEST_FAILURE_PREFIX_MSG + STORE_ITEM_INVALID_TYPE_MSG + CURRENT_PARAMETER_SEARCH_MSG\n",
        "\n",
        "            # Define and test assertion case with custom error message for store item attribute access validation\n",
        "            STORE_ITEM_HAS_RELEVANT_ATTR = (\"price\" in test_item)\n",
        "            STORE_ITEM_IRRELEVANT_ATTR_MSG = f\"2 FAILED: 'price' does not exist in `test_item`.\"\n",
        "            assert STORE_ITEM_HAS_RELEVANT_ATTR, TEST_FAILURE_PREFIX_MSG + STORE_ITEM_IRRELEVANT_ATTR_MSG + CURRENT_PARAMETER_SEARCH_MSG\n",
        "\n",
        "            # Define and test assertion case with custom error message for store item key type validation\n",
        "            STORE_ITEM_KEY_IS_VALID_TYPE = isinstance(test_item[\"price\"], (float, int)) and not isinstance(test_item[\"price\"], bool)\n",
        "            STORE_ITEM_INVALID_KEY_TYPE = f\"3 FAILED: Expected `test_item['price']` to be of type `float` or `int`, but got `type(test_item['price']) = {type(test_item['price'])}`.\"\n",
        "            assert STORE_ITEM_KEY_IS_VALID_TYPE, TEST_FAILURE_PREFIX_MSG + STORE_ITEM_INVALID_KEY_TYPE + CURRENT_PARAMETER_SEARCH_MSG\n",
        "\n",
        "            # Define and test assertion case with custom error message for discount price type validation\n",
        "            DISCOUNT_RATE_IS_VALID_TYPE = isinstance(test_discount, (float, int))\n",
        "            DISCOUNT_RATE_INVALID_TYPE_MSG = f\"4 FAILED: Expected `test_discount` to be of type `float` or `int`, but got `type(test_discount) = {type(test_discount)}`.\"\n",
        "            assert DISCOUNT_RATE_IS_VALID_TYPE, TEST_FAILURE_PREFIX_MSG + DISCOUNT_RATE_INVALID_TYPE_MSG + CURRENT_PARAMETER_SEARCH_MSG\n",
        "\n",
        "            # Define and test assertion case with custom error message for function output type validation\n",
        "            DISCOUNTED_PRICE_IS_VALID_TYPE = isinstance(func(test_item, test_discount), int)\n",
        "            DISCOUNTED_PRICE_INVALID_TYPE_MSG = f\"5 FAILED: Expected `{func.__name__}` invocation to return output of type `int`, but got `type({func.__name__})(test_item, test_discount) = {type(func(test_item, test_discount))}`.\"\n",
        "            assert DISCOUNTED_PRICE_IS_VALID_TYPE, TEST_FAILURE_PREFIX_MSG + DISCOUNTED_PRICE_INVALID_TYPE_MSG + CURRENT_PARAMETER_SEARCH_MSG\n",
        "\n",
        "            # Define and test assertion case with custom error message for function output value range validation\n",
        "            DISCOUNTED_PRICE_IS_IN_VALID_RANGE = (0 <= func(test_item, test_discount) <= test_item[\"price\"])\n",
        "            DISCOUNTED_PRICE_INVALID_RANGE_MSG = f\"6 FAILED: Expected `{func.__name__}` invocation to return output within range [0, {test_item['price']}], but got `{func.__name__}(test_item, test_discount) = {func(test_item, test_discount)}`.\"\n",
        "            assert DISCOUNTED_PRICE_IS_IN_VALID_RANGE, TEST_FAILURE_PREFIX_MSG + DISCOUNTED_PRICE_INVALID_RANGE_MSG + CURRENT_PARAMETER_SEARCH_MSG\n",
        "    return \"ALL TESTS PASSED.\""
      ]
    },
    {
      "cell_type": "code",
      "execution_count": null,
      "id": "4aadafe4-e4c9-4090-a278-aa89cff2d90b",
      "metadata": {
        "id": "4aadafe4-e4c9-4090-a278-aa89cff2d90b"
      },
      "outputs": [],
      "source": [
        "grid_search = {\n",
        "    \"test_items\": [\n",
        "        {\"name\": \"PS5 Spider-Man 2 Bundle\", \"price\": 600},\n",
        "        {\"name\": \"Sakib's Glasses\", \"price\": True},\n",
        "        {\"name\": \"Chett's Favorite Cat Sticker\"},\n",
        "        \"Kash was here!\"\n",
        "    ],\n",
        "    \"test_discounts\": [\n",
        "        0,\n",
        "        0.25,\n",
        "        0.5,\n",
        "        1,\n",
        "        3,\n",
        "        -0.1\n",
        "        ]\n",
        "}\n",
        "\n",
        "test_apply_discount(func=apply_discount,\n",
        "                    test_items=grid_search[\"test_items\"],\n",
        "                    test_discounts=grid_search[\"test_discounts\"])"
      ]
    },
    {
      "cell_type": "markdown",
      "id": "v4uZuRrZ8bjE",
      "metadata": {
        "id": "v4uZuRrZ8bjE"
      },
      "source": [
        "---\n",
        "---"
      ]
    },
    {
      "cell_type": "markdown",
      "id": "hYjKGKE-8cek",
      "metadata": {
        "id": "hYjKGKE-8cek"
      },
      "source": [
        "Now that we've introduced many intermediate patterns in Python programming, head on over to **[this practice notebook](https://colab.research.google.com/drive/1-JA4A7T9YfPX5Z94scVGalf9xYZz18Sv?usp=sharing)** to try out what you've learned with some creative coding challenges! 💻\n",
        "\n",
        "Like with this notebook, be sure to create your own personal copy (save to Google Drive) so that your changes and edits are saved successfully! ✅"
      ]
    },
    {
      "cell_type": "markdown",
      "id": "49e1235e-d28b-42d6-b1d4-89204a04ed2e",
      "metadata": {
        "id": "49e1235e-d28b-42d6-b1d4-89204a04ed2e"
      },
      "source": [
        "---\n",
        "---\n",
        "---"
      ]
    }
  ],
  "metadata": {
    "colab": {
      "provenance": []
    },
    "kernelspec": {
      "display_name": "Python 3 (ipykernel)",
      "language": "python",
      "name": "python3"
    },
    "language_info": {
      "codemirror_mode": {
        "name": "ipython",
        "version": 3
      },
      "file_extension": ".py",
      "mimetype": "text/x-python",
      "name": "python",
      "nbconvert_exporter": "python",
      "pygments_lexer": "ipython3",
      "version": "3.8.19"
    }
  },
  "nbformat": 4,
  "nbformat_minor": 5
}
