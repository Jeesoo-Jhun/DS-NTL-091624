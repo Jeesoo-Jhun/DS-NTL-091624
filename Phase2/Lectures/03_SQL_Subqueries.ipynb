{
 "cells": [
  {
   "cell_type": "code",
   "execution_count": 1,
   "metadata": {},
   "outputs": [],
   "source": [
    "import pandas as pd\n",
    "import sqlite3"
   ]
  },
  {
   "cell_type": "markdown",
   "metadata": {
    "heading_collapsed": true,
    "slideshow": {
     "slide_type": "slide"
    }
   },
   "source": [
    "# Objectives"
   ]
  },
  {
   "cell_type": "markdown",
   "metadata": {
    "hidden": true,
    "slideshow": {
     "slide_type": "slide"
    }
   },
   "source": [
    "- Use SQL subqueries to nest queries\n",
    "- Identify common SQL dialects and tools\n",
    "- Query data from web databases"
   ]
  },
  {
   "cell_type": "markdown",
   "metadata": {},
   "source": [
    "![yo dawg sql meme](images/yodawg.jpeg)"
   ]
  },
  {
   "cell_type": "markdown",
   "metadata": {
    "heading_collapsed": true
   },
   "source": [
    "# SQL Subqueries"
   ]
  },
  {
   "cell_type": "markdown",
   "metadata": {
    "hidden": true
   },
   "source": [
    "Like you might nest one function within another in Python, you can nest queries in SQL. We can use a **subquery** within another query to succinctly implement queries that have multiple query steps."
   ]
  },
  {
   "cell_type": "code",
   "execution_count": 2,
   "metadata": {
    "hidden": true
   },
   "outputs": [],
   "source": [
    "conn = sqlite3.connect('data/flights.db')"
   ]
  },
  {
   "cell_type": "code",
   "execution_count": 3,
   "metadata": {},
   "outputs": [],
   "source": [
    "connection = sqlite3.Connection('data/flights.db')"
   ]
  },
  {
   "cell_type": "code",
   "execution_count": 4,
   "metadata": {},
   "outputs": [
    {
     "data": {
      "text/plain": [
       "(sqlite3.Connection, sqlite3.Connection)"
      ]
     },
     "execution_count": 4,
     "metadata": {},
     "output_type": "execute_result"
    }
   ],
   "source": [
    "type(conn), type(connection)"
   ]
  },
  {
   "cell_type": "markdown",
   "metadata": {
    "heading_collapsed": true,
    "hidden": true
   },
   "source": [
    "## Subqueries in `FROM`"
   ]
  },
  {
   "cell_type": "markdown",
   "metadata": {
    "hidden": true
   },
   "source": [
    "You can use a subquery in the `FROM` clause - this is useful, for example, if you want to apply multiple aggregation functions.\n",
    "\n",
    "Let say we want to get the average of the number of routes departing from all airports. First we'd need to get the total number of routes departing from all airports, then take the average."
   ]
  },
  {
   "cell_type": "code",
   "execution_count": 5,
   "metadata": {
    "hidden": true,
    "scrolled": true
   },
   "outputs": [
    {
     "data": {
      "text/html": [
       "<div>\n",
       "<style scoped>\n",
       "    .dataframe tbody tr th:only-of-type {\n",
       "        vertical-align: middle;\n",
       "    }\n",
       "\n",
       "    .dataframe tbody tr th {\n",
       "        vertical-align: top;\n",
       "    }\n",
       "\n",
       "    .dataframe thead th {\n",
       "        text-align: right;\n",
       "    }\n",
       "</style>\n",
       "<table border=\"1\" class=\"dataframe\">\n",
       "  <thead>\n",
       "    <tr style=\"text-align: right;\">\n",
       "      <th></th>\n",
       "      <th>departing_airport</th>\n",
       "      <th>num_departures</th>\n",
       "    </tr>\n",
       "  </thead>\n",
       "  <tbody>\n",
       "    <tr>\n",
       "      <th>0</th>\n",
       "      <td>AAE</td>\n",
       "      <td>9</td>\n",
       "    </tr>\n",
       "    <tr>\n",
       "      <th>1</th>\n",
       "      <td>AAL</td>\n",
       "      <td>20</td>\n",
       "    </tr>\n",
       "    <tr>\n",
       "      <th>2</th>\n",
       "      <td>AAN</td>\n",
       "      <td>2</td>\n",
       "    </tr>\n",
       "    <tr>\n",
       "      <th>3</th>\n",
       "      <td>AAQ</td>\n",
       "      <td>3</td>\n",
       "    </tr>\n",
       "    <tr>\n",
       "      <th>4</th>\n",
       "      <td>AAR</td>\n",
       "      <td>8</td>\n",
       "    </tr>\n",
       "    <tr>\n",
       "      <th>...</th>\n",
       "      <td>...</td>\n",
       "      <td>...</td>\n",
       "    </tr>\n",
       "    <tr>\n",
       "      <th>3404</th>\n",
       "      <td>ZUH</td>\n",
       "      <td>60</td>\n",
       "    </tr>\n",
       "    <tr>\n",
       "      <th>3405</th>\n",
       "      <td>ZUM</td>\n",
       "      <td>2</td>\n",
       "    </tr>\n",
       "    <tr>\n",
       "      <th>3406</th>\n",
       "      <td>ZVK</td>\n",
       "      <td>3</td>\n",
       "    </tr>\n",
       "    <tr>\n",
       "      <th>3407</th>\n",
       "      <td>ZYI</td>\n",
       "      <td>15</td>\n",
       "    </tr>\n",
       "    <tr>\n",
       "      <th>3408</th>\n",
       "      <td>ZYL</td>\n",
       "      <td>4</td>\n",
       "    </tr>\n",
       "  </tbody>\n",
       "</table>\n",
       "<p>3409 rows × 2 columns</p>\n",
       "</div>"
      ],
      "text/plain": [
       "     departing_airport  num_departures\n",
       "0                  AAE               9\n",
       "1                  AAL              20\n",
       "2                  AAN               2\n",
       "3                  AAQ               3\n",
       "4                  AAR               8\n",
       "...                ...             ...\n",
       "3404               ZUH              60\n",
       "3405               ZUM               2\n",
       "3406               ZVK               3\n",
       "3407               ZYI              15\n",
       "3408               ZYL               4\n",
       "\n",
       "[3409 rows x 2 columns]"
      ]
     },
     "execution_count": 5,
     "metadata": {},
     "output_type": "execute_result"
    }
   ],
   "source": [
    "pd.read_sql('''\n",
    "\n",
    "SELECT source AS departing_airport, COUNT() AS num_departures \n",
    "FROM routes\n",
    "GROUP BY source\n",
    "\n",
    "''', conn)"
   ]
  },
  {
   "cell_type": "markdown",
   "metadata": {
    "hidden": true
   },
   "source": [
    "We can use this query as a subquery, and take the average of the new `number_of_departures` column."
   ]
  },
  {
   "cell_type": "code",
   "execution_count": 6,
   "metadata": {
    "hidden": true,
    "scrolled": true
   },
   "outputs": [
    {
     "data": {
      "text/html": [
       "<div>\n",
       "<style scoped>\n",
       "    .dataframe tbody tr th:only-of-type {\n",
       "        vertical-align: middle;\n",
       "    }\n",
       "\n",
       "    .dataframe tbody tr th {\n",
       "        vertical-align: top;\n",
       "    }\n",
       "\n",
       "    .dataframe thead th {\n",
       "        text-align: right;\n",
       "    }\n",
       "</style>\n",
       "<table border=\"1\" class=\"dataframe\">\n",
       "  <thead>\n",
       "    <tr style=\"text-align: right;\">\n",
       "      <th></th>\n",
       "      <th>AVG(num_departures)</th>\n",
       "    </tr>\n",
       "  </thead>\n",
       "  <tbody>\n",
       "    <tr>\n",
       "      <th>0</th>\n",
       "      <td>19.848343</td>\n",
       "    </tr>\n",
       "  </tbody>\n",
       "</table>\n",
       "</div>"
      ],
      "text/plain": [
       "   AVG(num_departures)\n",
       "0            19.848343"
      ]
     },
     "execution_count": 6,
     "metadata": {},
     "output_type": "execute_result"
    }
   ],
   "source": [
    "pd.read_sql('''\n",
    "\n",
    "SELECT AVG(num_departures)\n",
    "FROM (SELECT source AS departing_airport, COUNT() AS num_departures \n",
    "        FROM routes\n",
    "        GROUP BY source)\n",
    "\n",
    "''', conn)"
   ]
  },
  {
   "cell_type": "markdown",
   "metadata": {
    "heading_collapsed": true,
    "hidden": true
   },
   "source": [
    "## Note: Subqueries are Like New Tables!"
   ]
  },
  {
   "cell_type": "markdown",
   "metadata": {
    "hidden": true
   },
   "source": [
    "If you squint, you'll notice that the subquery is taking the place of where we might put a table!"
   ]
  },
  {
   "cell_type": "markdown",
   "metadata": {
    "hidden": true
   },
   "source": [
    "For example, checkout the SQL we wrote in our first subquery example:\n",
    "\n",
    "```sql\n",
    "SELECT \n",
    "    AVG(number_of_departures)\n",
    "FROM (\n",
    "    SELECT \n",
    "        source AS depart_airport\n",
    "        ,COUNT() AS number_of_departures\n",
    "    FROM\n",
    "        routes\n",
    "    GROUP BY\n",
    "        source\n",
    ")\n",
    "```"
   ]
  },
  {
   "cell_type": "markdown",
   "metadata": {
    "hidden": true
   },
   "source": [
    "We could imagine that some new table that returned by the subquery existed (let's call it `airport_departures`) and be placed in place of the subquery:\n",
    "\n",
    "```sql\n",
    "SELECT \n",
    "    AVG(number_of_departures)\n",
    "FROM (\n",
    "    airport_departures -- Replacing subquery with this hypothetical table\n",
    ") \n",
    "```"
   ]
  },
  {
   "cell_type": "markdown",
   "metadata": {
    "hidden": true
   },
   "source": [
    "You can actually use syntax close to this with **Common Table Expressions (CTEs)** found in the [Level Up section](#Level-Up:-Common-Table-Expressions) below."
   ]
  },
  {
   "cell_type": "markdown",
   "metadata": {
    "heading_collapsed": true,
    "hidden": true
   },
   "source": [
    "## Subqueries in `WHERE`"
   ]
  },
  {
   "cell_type": "markdown",
   "metadata": {
    "hidden": true
   },
   "source": [
    "You can use a subquery in the `WHERE` clause - this is useful, for example, if you want to filter a query based on results from another query.\n",
    "\n",
    "Let's say that we want to get a table with all of the departures and destinations for the flight routes, but I only want to include flights departing from the five countries with the most airports.\n",
    "\n",
    "To do this, we'd first need to identify the five countries that have the most airports. "
   ]
  },
  {
   "cell_type": "code",
   "execution_count": 10,
   "metadata": {
    "hidden": true
   },
   "outputs": [],
   "source": [
    "df_countries= pd.read_sql('''\n",
    "\n",
    "SELECT country, COUNT()\n",
    "FROM airports\n",
    "GROUP BY country\n",
    "ORDER BY COUNT() DESC\n",
    "LIMIT 5\n",
    "            \n",
    "''', conn)"
   ]
  },
  {
   "cell_type": "code",
   "execution_count": 11,
   "metadata": {},
   "outputs": [
    {
     "data": {
      "text/plain": [
       "['United States', 'Canada', 'Germany', 'Australia', 'Russia']"
      ]
     },
     "execution_count": 11,
     "metadata": {},
     "output_type": "execute_result"
    }
   ],
   "source": [
    "countries = list(df_countries['country'])\n",
    "countries"
   ]
  },
  {
   "cell_type": "markdown",
   "metadata": {
    "hidden": true
   },
   "source": [
    "I could enter these results into a new query of the routes table to get the data I want."
   ]
  },
  {
   "cell_type": "code",
   "execution_count": 15,
   "metadata": {
    "scrolled": false
   },
   "outputs": [
    {
     "data": {
      "text/html": [
       "<div>\n",
       "<style scoped>\n",
       "    .dataframe tbody tr th:only-of-type {\n",
       "        vertical-align: middle;\n",
       "    }\n",
       "\n",
       "    .dataframe tbody tr th {\n",
       "        vertical-align: top;\n",
       "    }\n",
       "\n",
       "    .dataframe thead th {\n",
       "        text-align: right;\n",
       "    }\n",
       "</style>\n",
       "<table border=\"1\" class=\"dataframe\">\n",
       "  <thead>\n",
       "    <tr style=\"text-align: right;\">\n",
       "      <th></th>\n",
       "      <th>index</th>\n",
       "      <th>airline</th>\n",
       "      <th>airline_id</th>\n",
       "      <th>source</th>\n",
       "      <th>source_id</th>\n",
       "      <th>dest</th>\n",
       "      <th>dest_id</th>\n",
       "      <th>codeshare</th>\n",
       "      <th>stops</th>\n",
       "      <th>equipment</th>\n",
       "      <th>...</th>\n",
       "      <th>city</th>\n",
       "      <th>country</th>\n",
       "      <th>code</th>\n",
       "      <th>icao</th>\n",
       "      <th>latitude</th>\n",
       "      <th>longitude</th>\n",
       "      <th>altitude</th>\n",
       "      <th>offset</th>\n",
       "      <th>dst</th>\n",
       "      <th>timezone</th>\n",
       "    </tr>\n",
       "  </thead>\n",
       "  <tbody>\n",
       "    <tr>\n",
       "      <th>0</th>\n",
       "      <td>1072</td>\n",
       "      <td>4N</td>\n",
       "      <td>341</td>\n",
       "      <td>YOW</td>\n",
       "      <td>100</td>\n",
       "      <td>YZF</td>\n",
       "      <td>196</td>\n",
       "      <td>None</td>\n",
       "      <td>0</td>\n",
       "      <td>737</td>\n",
       "      <td>...</td>\n",
       "      <td>Ottawa</td>\n",
       "      <td>Canada</td>\n",
       "      <td>YOW</td>\n",
       "      <td>CYOW</td>\n",
       "      <td>45.3225</td>\n",
       "      <td>-75.669167</td>\n",
       "      <td>374</td>\n",
       "      <td>-5</td>\n",
       "      <td>A</td>\n",
       "      <td>America/Toronto</td>\n",
       "    </tr>\n",
       "    <tr>\n",
       "      <th>1</th>\n",
       "      <td>2063</td>\n",
       "      <td>5T</td>\n",
       "      <td>1623</td>\n",
       "      <td>YOW</td>\n",
       "      <td>100</td>\n",
       "      <td>YFB</td>\n",
       "      <td>55</td>\n",
       "      <td>None</td>\n",
       "      <td>0</td>\n",
       "      <td>73M</td>\n",
       "      <td>...</td>\n",
       "      <td>Ottawa</td>\n",
       "      <td>Canada</td>\n",
       "      <td>YOW</td>\n",
       "      <td>CYOW</td>\n",
       "      <td>45.3225</td>\n",
       "      <td>-75.669167</td>\n",
       "      <td>374</td>\n",
       "      <td>-5</td>\n",
       "      <td>A</td>\n",
       "      <td>America/Toronto</td>\n",
       "    </tr>\n",
       "    <tr>\n",
       "      <th>2</th>\n",
       "      <td>2504</td>\n",
       "      <td>7F</td>\n",
       "      <td>2354</td>\n",
       "      <td>YOW</td>\n",
       "      <td>100</td>\n",
       "      <td>YFB</td>\n",
       "      <td>55</td>\n",
       "      <td>None</td>\n",
       "      <td>0</td>\n",
       "      <td>73M</td>\n",
       "      <td>...</td>\n",
       "      <td>Ottawa</td>\n",
       "      <td>Canada</td>\n",
       "      <td>YOW</td>\n",
       "      <td>CYOW</td>\n",
       "      <td>45.3225</td>\n",
       "      <td>-75.669167</td>\n",
       "      <td>374</td>\n",
       "      <td>-5</td>\n",
       "      <td>A</td>\n",
       "      <td>America/Toronto</td>\n",
       "    </tr>\n",
       "    <tr>\n",
       "      <th>3</th>\n",
       "      <td>6959</td>\n",
       "      <td>AA</td>\n",
       "      <td>24</td>\n",
       "      <td>YOW</td>\n",
       "      <td>100</td>\n",
       "      <td>CLT</td>\n",
       "      <td>3876</td>\n",
       "      <td>Y</td>\n",
       "      <td>0</td>\n",
       "      <td>CRJ</td>\n",
       "      <td>...</td>\n",
       "      <td>Ottawa</td>\n",
       "      <td>Canada</td>\n",
       "      <td>YOW</td>\n",
       "      <td>CYOW</td>\n",
       "      <td>45.3225</td>\n",
       "      <td>-75.669167</td>\n",
       "      <td>374</td>\n",
       "      <td>-5</td>\n",
       "      <td>A</td>\n",
       "      <td>America/Toronto</td>\n",
       "    </tr>\n",
       "    <tr>\n",
       "      <th>4</th>\n",
       "      <td>6960</td>\n",
       "      <td>AA</td>\n",
       "      <td>24</td>\n",
       "      <td>YOW</td>\n",
       "      <td>100</td>\n",
       "      <td>PHL</td>\n",
       "      <td>3752</td>\n",
       "      <td>Y</td>\n",
       "      <td>0</td>\n",
       "      <td>CRJ</td>\n",
       "      <td>...</td>\n",
       "      <td>Ottawa</td>\n",
       "      <td>Canada</td>\n",
       "      <td>YOW</td>\n",
       "      <td>CYOW</td>\n",
       "      <td>45.3225</td>\n",
       "      <td>-75.669167</td>\n",
       "      <td>374</td>\n",
       "      <td>-5</td>\n",
       "      <td>A</td>\n",
       "      <td>America/Toronto</td>\n",
       "    </tr>\n",
       "    <tr>\n",
       "      <th>...</th>\n",
       "      <td>...</td>\n",
       "      <td>...</td>\n",
       "      <td>...</td>\n",
       "      <td>...</td>\n",
       "      <td>...</td>\n",
       "      <td>...</td>\n",
       "      <td>...</td>\n",
       "      <td>...</td>\n",
       "      <td>...</td>\n",
       "      <td>...</td>\n",
       "      <td>...</td>\n",
       "      <td>...</td>\n",
       "      <td>...</td>\n",
       "      <td>...</td>\n",
       "      <td>...</td>\n",
       "      <td>...</td>\n",
       "      <td>...</td>\n",
       "      <td>...</td>\n",
       "      <td>...</td>\n",
       "      <td>...</td>\n",
       "      <td>...</td>\n",
       "    </tr>\n",
       "    <tr>\n",
       "      <th>17388</th>\n",
       "      <td>63368</td>\n",
       "      <td>WJ</td>\n",
       "      <td>5399</td>\n",
       "      <td>YNA</td>\n",
       "      <td>94</td>\n",
       "      <td>YZV</td>\n",
       "      <td>202</td>\n",
       "      <td>None</td>\n",
       "      <td>0</td>\n",
       "      <td>BE1</td>\n",
       "      <td>...</td>\n",
       "      <td>Natashquan</td>\n",
       "      <td>Canada</td>\n",
       "      <td>YNA</td>\n",
       "      <td>CYNA</td>\n",
       "      <td>50.19</td>\n",
       "      <td>-61.789167</td>\n",
       "      <td>39</td>\n",
       "      <td>-5</td>\n",
       "      <td>A</td>\n",
       "      <td>America/Toronto</td>\n",
       "    </tr>\n",
       "    <tr>\n",
       "      <th>17389</th>\n",
       "      <td>63369</td>\n",
       "      <td>WJ</td>\n",
       "      <td>5399</td>\n",
       "      <td>YNA</td>\n",
       "      <td>94</td>\n",
       "      <td>ZGS</td>\n",
       "      <td>\\N</td>\n",
       "      <td>None</td>\n",
       "      <td>0</td>\n",
       "      <td>DHT</td>\n",
       "      <td>...</td>\n",
       "      <td>Natashquan</td>\n",
       "      <td>Canada</td>\n",
       "      <td>YNA</td>\n",
       "      <td>CYNA</td>\n",
       "      <td>50.19</td>\n",
       "      <td>-61.789167</td>\n",
       "      <td>39</td>\n",
       "      <td>-5</td>\n",
       "      <td>A</td>\n",
       "      <td>America/Toronto</td>\n",
       "    </tr>\n",
       "    <tr>\n",
       "      <th>17390</th>\n",
       "      <td>63370</td>\n",
       "      <td>WJ</td>\n",
       "      <td>5399</td>\n",
       "      <td>YNA</td>\n",
       "      <td>94</td>\n",
       "      <td>ZKG</td>\n",
       "      <td>8217</td>\n",
       "      <td>None</td>\n",
       "      <td>0</td>\n",
       "      <td>DHT</td>\n",
       "      <td>...</td>\n",
       "      <td>Natashquan</td>\n",
       "      <td>Canada</td>\n",
       "      <td>YNA</td>\n",
       "      <td>CYNA</td>\n",
       "      <td>50.19</td>\n",
       "      <td>-61.789167</td>\n",
       "      <td>39</td>\n",
       "      <td>-5</td>\n",
       "      <td>A</td>\n",
       "      <td>America/Toronto</td>\n",
       "    </tr>\n",
       "    <tr>\n",
       "      <th>17391</th>\n",
       "      <td>3703</td>\n",
       "      <td>9M</td>\n",
       "      <td>\\N</td>\n",
       "      <td>YOJ</td>\n",
       "      <td>99</td>\n",
       "      <td>YEG</td>\n",
       "      <td>49</td>\n",
       "      <td>None</td>\n",
       "      <td>0</td>\n",
       "      <td>BEH</td>\n",
       "      <td>...</td>\n",
       "      <td>High Level</td>\n",
       "      <td>Canada</td>\n",
       "      <td>YOJ</td>\n",
       "      <td>CYOJ</td>\n",
       "      <td>58.621389</td>\n",
       "      <td>-117.164722</td>\n",
       "      <td>1110</td>\n",
       "      <td>-7</td>\n",
       "      <td>A</td>\n",
       "      <td>America/Edmonton</td>\n",
       "    </tr>\n",
       "    <tr>\n",
       "      <th>17392</th>\n",
       "      <td>3704</td>\n",
       "      <td>9M</td>\n",
       "      <td>\\N</td>\n",
       "      <td>YOJ</td>\n",
       "      <td>99</td>\n",
       "      <td>YOP</td>\n",
       "      <td>7266</td>\n",
       "      <td>None</td>\n",
       "      <td>0</td>\n",
       "      <td>BEH</td>\n",
       "      <td>...</td>\n",
       "      <td>High Level</td>\n",
       "      <td>Canada</td>\n",
       "      <td>YOJ</td>\n",
       "      <td>CYOJ</td>\n",
       "      <td>58.621389</td>\n",
       "      <td>-117.164722</td>\n",
       "      <td>1110</td>\n",
       "      <td>-7</td>\n",
       "      <td>A</td>\n",
       "      <td>America/Edmonton</td>\n",
       "    </tr>\n",
       "  </tbody>\n",
       "</table>\n",
       "<p>17393 rows × 23 columns</p>\n",
       "</div>"
      ],
      "text/plain": [
       "       index airline airline_id source source_id dest dest_id codeshare stops  \\\n",
       "0       1072      4N        341    YOW       100  YZF     196      None     0   \n",
       "1       2063      5T       1623    YOW       100  YFB      55      None     0   \n",
       "2       2504      7F       2354    YOW       100  YFB      55      None     0   \n",
       "3       6959      AA         24    YOW       100  CLT    3876         Y     0   \n",
       "4       6960      AA         24    YOW       100  PHL    3752         Y     0   \n",
       "...      ...     ...        ...    ...       ...  ...     ...       ...   ...   \n",
       "17388  63368      WJ       5399    YNA        94  YZV     202      None     0   \n",
       "17389  63369      WJ       5399    YNA        94  ZGS      \\N      None     0   \n",
       "17390  63370      WJ       5399    YNA        94  ZKG    8217      None     0   \n",
       "17391   3703      9M         \\N    YOJ        99  YEG      49      None     0   \n",
       "17392   3704      9M         \\N    YOJ        99  YOP    7266      None     0   \n",
       "\n",
       "      equipment  ...        city country code  icao   latitude    longitude  \\\n",
       "0           737  ...      Ottawa  Canada  YOW  CYOW    45.3225   -75.669167   \n",
       "1           73M  ...      Ottawa  Canada  YOW  CYOW    45.3225   -75.669167   \n",
       "2           73M  ...      Ottawa  Canada  YOW  CYOW    45.3225   -75.669167   \n",
       "3           CRJ  ...      Ottawa  Canada  YOW  CYOW    45.3225   -75.669167   \n",
       "4           CRJ  ...      Ottawa  Canada  YOW  CYOW    45.3225   -75.669167   \n",
       "...         ...  ...         ...     ...  ...   ...        ...          ...   \n",
       "17388       BE1  ...  Natashquan  Canada  YNA  CYNA      50.19   -61.789167   \n",
       "17389       DHT  ...  Natashquan  Canada  YNA  CYNA      50.19   -61.789167   \n",
       "17390       DHT  ...  Natashquan  Canada  YNA  CYNA      50.19   -61.789167   \n",
       "17391       BEH  ...  High Level  Canada  YOJ  CYOJ  58.621389  -117.164722   \n",
       "17392       BEH  ...  High Level  Canada  YOJ  CYOJ  58.621389  -117.164722   \n",
       "\n",
       "      altitude offset dst          timezone  \n",
       "0          374     -5   A   America/Toronto  \n",
       "1          374     -5   A   America/Toronto  \n",
       "2          374     -5   A   America/Toronto  \n",
       "3          374     -5   A   America/Toronto  \n",
       "4          374     -5   A   America/Toronto  \n",
       "...        ...    ...  ..               ...  \n",
       "17388       39     -5   A   America/Toronto  \n",
       "17389       39     -5   A   America/Toronto  \n",
       "17390       39     -5   A   America/Toronto  \n",
       "17391     1110     -7   A  America/Edmonton  \n",
       "17392     1110     -7   A  America/Edmonton  \n",
       "\n",
       "[17393 rows x 23 columns]"
      ]
     },
     "execution_count": 15,
     "metadata": {},
     "output_type": "execute_result"
    }
   ],
   "source": [
    "pd.read_sql('''\n",
    "SELECT *\n",
    "FROM routes\n",
    "    LEFT JOIN airports\n",
    "        ON routes.source_id = airports.id\n",
    "WHERE airports.country IN ('United States', 'Canada', 'Germany')\n",
    "ORDER BY source_id \n",
    "''', conn)"
   ]
  },
  {
   "cell_type": "markdown",
   "metadata": {
    "hidden": true
   },
   "source": [
    "This approach works but has a few limitations:\n",
    "\n",
    "- We have to manually enter the countries to filter them\n",
    "- The list of countries won't update with our data, so we'd have to monitor and manually change them in the future\n",
    "- We have to look at two separate queries to understand what our code is supposed to do\n",
    "- We have to run two separate queries, which might take longer than one combined query\n",
    "\n",
    "A better solution uses a subquery to get the list of 5 countries and feed it into our WHERE clause."
   ]
  },
  {
   "cell_type": "code",
   "execution_count": 16,
   "metadata": {
    "hidden": true,
    "scrolled": false
   },
   "outputs": [
    {
     "data": {
      "text/html": [
       "<div>\n",
       "<style scoped>\n",
       "    .dataframe tbody tr th:only-of-type {\n",
       "        vertical-align: middle;\n",
       "    }\n",
       "\n",
       "    .dataframe tbody tr th {\n",
       "        vertical-align: top;\n",
       "    }\n",
       "\n",
       "    .dataframe thead th {\n",
       "        text-align: right;\n",
       "    }\n",
       "</style>\n",
       "<table border=\"1\" class=\"dataframe\">\n",
       "  <thead>\n",
       "    <tr style=\"text-align: right;\">\n",
       "      <th></th>\n",
       "      <th>departing_airport</th>\n",
       "      <th>destination</th>\n",
       "      <th>departing_country</th>\n",
       "    </tr>\n",
       "  </thead>\n",
       "  <tbody>\n",
       "    <tr>\n",
       "      <th>0</th>\n",
       "      <td>DRW</td>\n",
       "      <td>SIN</td>\n",
       "      <td>Australia</td>\n",
       "    </tr>\n",
       "    <tr>\n",
       "      <th>1</th>\n",
       "      <td>PER</td>\n",
       "      <td>SIN</td>\n",
       "      <td>Australia</td>\n",
       "    </tr>\n",
       "    <tr>\n",
       "      <th>2</th>\n",
       "      <td>MEL</td>\n",
       "      <td>CTU</td>\n",
       "      <td>Australia</td>\n",
       "    </tr>\n",
       "    <tr>\n",
       "      <th>3</th>\n",
       "      <td>SYD</td>\n",
       "      <td>CKG</td>\n",
       "      <td>Australia</td>\n",
       "    </tr>\n",
       "    <tr>\n",
       "      <th>4</th>\n",
       "      <td>ADL</td>\n",
       "      <td>BNE</td>\n",
       "      <td>Australia</td>\n",
       "    </tr>\n",
       "    <tr>\n",
       "      <th>...</th>\n",
       "      <td>...</td>\n",
       "      <td>...</td>\n",
       "      <td>...</td>\n",
       "    </tr>\n",
       "    <tr>\n",
       "      <th>20330</th>\n",
       "      <td>SOW</td>\n",
       "      <td>FMN</td>\n",
       "      <td>United States</td>\n",
       "    </tr>\n",
       "    <tr>\n",
       "      <th>20331</th>\n",
       "      <td>SOW</td>\n",
       "      <td>PHX</td>\n",
       "      <td>United States</td>\n",
       "    </tr>\n",
       "    <tr>\n",
       "      <th>20332</th>\n",
       "      <td>SVC</td>\n",
       "      <td>PHX</td>\n",
       "      <td>United States</td>\n",
       "    </tr>\n",
       "    <tr>\n",
       "      <th>20333</th>\n",
       "      <td>VIS</td>\n",
       "      <td>LAX</td>\n",
       "      <td>United States</td>\n",
       "    </tr>\n",
       "    <tr>\n",
       "      <th>20334</th>\n",
       "      <td>WRL</td>\n",
       "      <td>CYS</td>\n",
       "      <td>United States</td>\n",
       "    </tr>\n",
       "  </tbody>\n",
       "</table>\n",
       "<p>20335 rows × 3 columns</p>\n",
       "</div>"
      ],
      "text/plain": [
       "      departing_airport destination departing_country\n",
       "0                   DRW         SIN         Australia\n",
       "1                   PER         SIN         Australia\n",
       "2                   MEL         CTU         Australia\n",
       "3                   SYD         CKG         Australia\n",
       "4                   ADL         BNE         Australia\n",
       "...                 ...         ...               ...\n",
       "20330               SOW         FMN     United States\n",
       "20331               SOW         PHX     United States\n",
       "20332               SVC         PHX     United States\n",
       "20333               VIS         LAX     United States\n",
       "20334               WRL         CYS     United States\n",
       "\n",
       "[20335 rows x 3 columns]"
      ]
     },
     "execution_count": 16,
     "metadata": {},
     "output_type": "execute_result"
    }
   ],
   "source": [
    "pd.read_sql('''\n",
    "\n",
    "SELECT r.source AS departing_airport, r.dest AS destination, a.country AS departing_country\n",
    "FROM routes AS r\n",
    "    LEFT JOIN airports AS a\n",
    "        ON r.source_id = a.id\n",
    "WHERE a.country IN (SELECT country\n",
    "                    FROM airports\n",
    "                    GROUP BY country\n",
    "                    ORDER BY COUNT() DESC\n",
    "                    LIMIT 5)\n",
    "ORDER BY departing_country\n",
    "\n",
    "''', conn)"
   ]
  },
  {
   "cell_type": "markdown",
   "metadata": {
    "heading_collapsed": true,
    "hidden": true
   },
   "source": [
    "## Level Up: Common Table Expressions"
   ]
  },
  {
   "cell_type": "markdown",
   "metadata": {
    "hidden": true
   },
   "source": [
    "Common Table Expressions (CTEs) are a more readable way to implement subqueries, using `WITH` and `AS`."
   ]
  },
  {
   "cell_type": "code",
   "execution_count": 17,
   "metadata": {
    "hidden": true
   },
   "outputs": [
    {
     "data": {
      "text/html": [
       "<div>\n",
       "<style scoped>\n",
       "    .dataframe tbody tr th:only-of-type {\n",
       "        vertical-align: middle;\n",
       "    }\n",
       "\n",
       "    .dataframe tbody tr th {\n",
       "        vertical-align: top;\n",
       "    }\n",
       "\n",
       "    .dataframe thead th {\n",
       "        text-align: right;\n",
       "    }\n",
       "</style>\n",
       "<table border=\"1\" class=\"dataframe\">\n",
       "  <thead>\n",
       "    <tr style=\"text-align: right;\">\n",
       "      <th></th>\n",
       "      <th>depart_airport</th>\n",
       "      <th>destination_airport</th>\n",
       "      <th>depart_country</th>\n",
       "    </tr>\n",
       "  </thead>\n",
       "  <tbody>\n",
       "    <tr>\n",
       "      <th>0</th>\n",
       "      <td>DRW</td>\n",
       "      <td>SIN</td>\n",
       "      <td>Australia</td>\n",
       "    </tr>\n",
       "    <tr>\n",
       "      <th>1</th>\n",
       "      <td>PER</td>\n",
       "      <td>SIN</td>\n",
       "      <td>Australia</td>\n",
       "    </tr>\n",
       "    <tr>\n",
       "      <th>2</th>\n",
       "      <td>MEL</td>\n",
       "      <td>CTU</td>\n",
       "      <td>Australia</td>\n",
       "    </tr>\n",
       "    <tr>\n",
       "      <th>3</th>\n",
       "      <td>SYD</td>\n",
       "      <td>CKG</td>\n",
       "      <td>Australia</td>\n",
       "    </tr>\n",
       "    <tr>\n",
       "      <th>4</th>\n",
       "      <td>ADL</td>\n",
       "      <td>BNE</td>\n",
       "      <td>Australia</td>\n",
       "    </tr>\n",
       "    <tr>\n",
       "      <th>...</th>\n",
       "      <td>...</td>\n",
       "      <td>...</td>\n",
       "      <td>...</td>\n",
       "    </tr>\n",
       "    <tr>\n",
       "      <th>20330</th>\n",
       "      <td>SOW</td>\n",
       "      <td>FMN</td>\n",
       "      <td>United States</td>\n",
       "    </tr>\n",
       "    <tr>\n",
       "      <th>20331</th>\n",
       "      <td>SOW</td>\n",
       "      <td>PHX</td>\n",
       "      <td>United States</td>\n",
       "    </tr>\n",
       "    <tr>\n",
       "      <th>20332</th>\n",
       "      <td>SVC</td>\n",
       "      <td>PHX</td>\n",
       "      <td>United States</td>\n",
       "    </tr>\n",
       "    <tr>\n",
       "      <th>20333</th>\n",
       "      <td>VIS</td>\n",
       "      <td>LAX</td>\n",
       "      <td>United States</td>\n",
       "    </tr>\n",
       "    <tr>\n",
       "      <th>20334</th>\n",
       "      <td>WRL</td>\n",
       "      <td>CYS</td>\n",
       "      <td>United States</td>\n",
       "    </tr>\n",
       "  </tbody>\n",
       "</table>\n",
       "<p>20335 rows × 3 columns</p>\n",
       "</div>"
      ],
      "text/plain": [
       "      depart_airport destination_airport depart_country\n",
       "0                DRW                 SIN      Australia\n",
       "1                PER                 SIN      Australia\n",
       "2                MEL                 CTU      Australia\n",
       "3                SYD                 CKG      Australia\n",
       "4                ADL                 BNE      Australia\n",
       "...              ...                 ...            ...\n",
       "20330            SOW                 FMN  United States\n",
       "20331            SOW                 PHX  United States\n",
       "20332            SVC                 PHX  United States\n",
       "20333            VIS                 LAX  United States\n",
       "20334            WRL                 CYS  United States\n",
       "\n",
       "[20335 rows x 3 columns]"
      ]
     },
     "execution_count": 17,
     "metadata": {},
     "output_type": "execute_result"
    }
   ],
   "source": [
    "pd.read_sql('''\n",
    "WITH top_5_countries AS (SELECT country\n",
    "                    FROM airports\n",
    "                    GROUP BY country\n",
    "                    ORDER BY COUNT() DESC\n",
    "                    LIMIT 5)\n",
    "\n",
    "SELECT \n",
    "    rt.source AS depart_airport\n",
    "    ,rt.dest AS destination_airport\n",
    "    ,ap.country AS depart_country\n",
    "FROM\n",
    "    routes AS rt\n",
    "    LEFT JOIN airports AS ap\n",
    "        ON rt.source_id = ap.id\n",
    "WHERE \n",
    "    ap.country IN top_5_countries\n",
    "ORDER BY \n",
    "    depart_country\n",
    "''', conn)"
   ]
  },
  {
   "cell_type": "markdown",
   "metadata": {
    "heading_collapsed": true,
    "hidden": true
   },
   "source": [
    "### Exercise"
   ]
  },
  {
   "cell_type": "markdown",
   "metadata": {
    "hidden": true
   },
   "source": [
    "Create a table listing all airlines that serve the three airports with the most outbound routes."
   ]
  },
  {
   "cell_type": "code",
   "execution_count": 18,
   "metadata": {
    "scrolled": true
   },
   "outputs": [
    {
     "data": {
      "text/html": [
       "<div>\n",
       "<style scoped>\n",
       "    .dataframe tbody tr th:only-of-type {\n",
       "        vertical-align: middle;\n",
       "    }\n",
       "\n",
       "    .dataframe tbody tr th {\n",
       "        vertical-align: top;\n",
       "    }\n",
       "\n",
       "    .dataframe thead th {\n",
       "        text-align: right;\n",
       "    }\n",
       "</style>\n",
       "<table border=\"1\" class=\"dataframe\">\n",
       "  <thead>\n",
       "    <tr style=\"text-align: right;\">\n",
       "      <th></th>\n",
       "      <th>index</th>\n",
       "      <th>id</th>\n",
       "      <th>name</th>\n",
       "      <th>city</th>\n",
       "      <th>country</th>\n",
       "      <th>code</th>\n",
       "      <th>icao</th>\n",
       "      <th>latitude</th>\n",
       "      <th>longitude</th>\n",
       "      <th>altitude</th>\n",
       "      <th>offset</th>\n",
       "      <th>dst</th>\n",
       "      <th>timezone</th>\n",
       "    </tr>\n",
       "  </thead>\n",
       "  <tbody>\n",
       "    <tr>\n",
       "      <th>0</th>\n",
       "      <td>0</td>\n",
       "      <td>1</td>\n",
       "      <td>Goroka</td>\n",
       "      <td>Goroka</td>\n",
       "      <td>Papua New Guinea</td>\n",
       "      <td>GKA</td>\n",
       "      <td>AYGA</td>\n",
       "      <td>-6.081689</td>\n",
       "      <td>145.391881</td>\n",
       "      <td>5282</td>\n",
       "      <td>10</td>\n",
       "      <td>U</td>\n",
       "      <td>Pacific/Port_Moresby</td>\n",
       "    </tr>\n",
       "    <tr>\n",
       "      <th>1</th>\n",
       "      <td>1</td>\n",
       "      <td>2</td>\n",
       "      <td>Madang</td>\n",
       "      <td>Madang</td>\n",
       "      <td>Papua New Guinea</td>\n",
       "      <td>MAG</td>\n",
       "      <td>AYMD</td>\n",
       "      <td>-5.207083</td>\n",
       "      <td>145.7887</td>\n",
       "      <td>20</td>\n",
       "      <td>10</td>\n",
       "      <td>U</td>\n",
       "      <td>Pacific/Port_Moresby</td>\n",
       "    </tr>\n",
       "  </tbody>\n",
       "</table>\n",
       "</div>"
      ],
      "text/plain": [
       "   index id    name    city           country code  icao   latitude  \\\n",
       "0      0  1  Goroka  Goroka  Papua New Guinea  GKA  AYGA  -6.081689   \n",
       "1      1  2  Madang  Madang  Papua New Guinea  MAG  AYMD  -5.207083   \n",
       "\n",
       "    longitude altitude offset dst              timezone  \n",
       "0  145.391881     5282     10   U  Pacific/Port_Moresby  \n",
       "1    145.7887       20     10   U  Pacific/Port_Moresby  "
      ]
     },
     "execution_count": 18,
     "metadata": {},
     "output_type": "execute_result"
    }
   ],
   "source": [
    "pd.read_sql('''\n",
    "SELECT *\n",
    "FROM airports\n",
    "\n",
    "''', conn).head(2)"
   ]
  },
  {
   "cell_type": "code",
   "execution_count": 19,
   "metadata": {
    "scrolled": true
   },
   "outputs": [
    {
     "data": {
      "text/html": [
       "<div>\n",
       "<style scoped>\n",
       "    .dataframe tbody tr th:only-of-type {\n",
       "        vertical-align: middle;\n",
       "    }\n",
       "\n",
       "    .dataframe tbody tr th {\n",
       "        vertical-align: top;\n",
       "    }\n",
       "\n",
       "    .dataframe thead th {\n",
       "        text-align: right;\n",
       "    }\n",
       "</style>\n",
       "<table border=\"1\" class=\"dataframe\">\n",
       "  <thead>\n",
       "    <tr style=\"text-align: right;\">\n",
       "      <th></th>\n",
       "      <th>index</th>\n",
       "      <th>airline</th>\n",
       "      <th>airline_id</th>\n",
       "      <th>source</th>\n",
       "      <th>source_id</th>\n",
       "      <th>dest</th>\n",
       "      <th>dest_id</th>\n",
       "      <th>codeshare</th>\n",
       "      <th>stops</th>\n",
       "      <th>equipment</th>\n",
       "    </tr>\n",
       "  </thead>\n",
       "  <tbody>\n",
       "    <tr>\n",
       "      <th>0</th>\n",
       "      <td>0</td>\n",
       "      <td>2B</td>\n",
       "      <td>410</td>\n",
       "      <td>AER</td>\n",
       "      <td>2965</td>\n",
       "      <td>KZN</td>\n",
       "      <td>2990</td>\n",
       "      <td>None</td>\n",
       "      <td>0</td>\n",
       "      <td>CR2</td>\n",
       "    </tr>\n",
       "    <tr>\n",
       "      <th>1</th>\n",
       "      <td>1</td>\n",
       "      <td>2B</td>\n",
       "      <td>410</td>\n",
       "      <td>ASF</td>\n",
       "      <td>2966</td>\n",
       "      <td>KZN</td>\n",
       "      <td>2990</td>\n",
       "      <td>None</td>\n",
       "      <td>0</td>\n",
       "      <td>CR2</td>\n",
       "    </tr>\n",
       "  </tbody>\n",
       "</table>\n",
       "</div>"
      ],
      "text/plain": [
       "   index airline airline_id source source_id dest dest_id codeshare stops  \\\n",
       "0      0      2B        410    AER      2965  KZN    2990      None     0   \n",
       "1      1      2B        410    ASF      2966  KZN    2990      None     0   \n",
       "\n",
       "  equipment  \n",
       "0       CR2  \n",
       "1       CR2  "
      ]
     },
     "execution_count": 19,
     "metadata": {},
     "output_type": "execute_result"
    }
   ],
   "source": [
    "pd.read_sql('''\n",
    "SELECT *\n",
    "FROM routes\n",
    "\n",
    "''', conn).head(2)"
   ]
  },
  {
   "cell_type": "code",
   "execution_count": 20,
   "metadata": {},
   "outputs": [
    {
     "data": {
      "text/html": [
       "<div>\n",
       "<style scoped>\n",
       "    .dataframe tbody tr th:only-of-type {\n",
       "        vertical-align: middle;\n",
       "    }\n",
       "\n",
       "    .dataframe tbody tr th {\n",
       "        vertical-align: top;\n",
       "    }\n",
       "\n",
       "    .dataframe thead th {\n",
       "        text-align: right;\n",
       "    }\n",
       "</style>\n",
       "<table border=\"1\" class=\"dataframe\">\n",
       "  <thead>\n",
       "    <tr style=\"text-align: right;\">\n",
       "      <th></th>\n",
       "      <th>index</th>\n",
       "      <th>id</th>\n",
       "      <th>name</th>\n",
       "      <th>alias</th>\n",
       "      <th>iata</th>\n",
       "      <th>icao</th>\n",
       "      <th>callsign</th>\n",
       "      <th>country</th>\n",
       "      <th>active</th>\n",
       "    </tr>\n",
       "  </thead>\n",
       "  <tbody>\n",
       "    <tr>\n",
       "      <th>0</th>\n",
       "      <td>0</td>\n",
       "      <td>1</td>\n",
       "      <td>Private flight</td>\n",
       "      <td>\\N</td>\n",
       "      <td>-</td>\n",
       "      <td>None</td>\n",
       "      <td>None</td>\n",
       "      <td>None</td>\n",
       "      <td>Y</td>\n",
       "    </tr>\n",
       "    <tr>\n",
       "      <th>1</th>\n",
       "      <td>1</td>\n",
       "      <td>2</td>\n",
       "      <td>135 Airways</td>\n",
       "      <td>\\N</td>\n",
       "      <td>None</td>\n",
       "      <td>GNL</td>\n",
       "      <td>GENERAL</td>\n",
       "      <td>United States</td>\n",
       "      <td>N</td>\n",
       "    </tr>\n",
       "  </tbody>\n",
       "</table>\n",
       "</div>"
      ],
      "text/plain": [
       "   index id            name alias  iata  icao callsign        country active\n",
       "0      0  1  Private flight    \\N     -  None     None           None      Y\n",
       "1      1  2     135 Airways    \\N  None   GNL  GENERAL  United States      N"
      ]
     },
     "execution_count": 20,
     "metadata": {},
     "output_type": "execute_result"
    }
   ],
   "source": [
    "pd.read_sql('''\n",
    "SELECT *\n",
    "FROM airlines\n",
    "\n",
    "''', conn).head(2)"
   ]
  },
  {
   "cell_type": "code",
   "execution_count": 23,
   "metadata": {
    "hidden": true,
    "scrolled": true
   },
   "outputs": [
    {
     "data": {
      "text/html": [
       "<div>\n",
       "<style scoped>\n",
       "    .dataframe tbody tr th:only-of-type {\n",
       "        vertical-align: middle;\n",
       "    }\n",
       "\n",
       "    .dataframe tbody tr th {\n",
       "        vertical-align: top;\n",
       "    }\n",
       "\n",
       "    .dataframe thead th {\n",
       "        text-align: right;\n",
       "    }\n",
       "</style>\n",
       "<table border=\"1\" class=\"dataframe\">\n",
       "  <thead>\n",
       "    <tr style=\"text-align: right;\">\n",
       "      <th></th>\n",
       "      <th>airline</th>\n",
       "      <th>airline_id</th>\n",
       "    </tr>\n",
       "  </thead>\n",
       "  <tbody>\n",
       "    <tr>\n",
       "      <th>0</th>\n",
       "      <td>3E</td>\n",
       "      <td>10739</td>\n",
       "    </tr>\n",
       "    <tr>\n",
       "      <th>1</th>\n",
       "      <td>3M</td>\n",
       "      <td>\\N</td>\n",
       "    </tr>\n",
       "    <tr>\n",
       "      <th>2</th>\n",
       "      <td>3U</td>\n",
       "      <td>4608</td>\n",
       "    </tr>\n",
       "    <tr>\n",
       "      <th>3</th>\n",
       "      <td>5J</td>\n",
       "      <td>1683</td>\n",
       "    </tr>\n",
       "    <tr>\n",
       "      <th>4</th>\n",
       "      <td>8L</td>\n",
       "      <td>2942</td>\n",
       "    </tr>\n",
       "    <tr>\n",
       "      <th>...</th>\n",
       "      <td>...</td>\n",
       "      <td>...</td>\n",
       "    </tr>\n",
       "    <tr>\n",
       "      <th>97</th>\n",
       "      <td>WN</td>\n",
       "      <td>4547</td>\n",
       "    </tr>\n",
       "    <tr>\n",
       "      <th>98</th>\n",
       "      <td>WS</td>\n",
       "      <td>5416</td>\n",
       "    </tr>\n",
       "    <tr>\n",
       "      <th>99</th>\n",
       "      <td>Y4</td>\n",
       "      <td>5325</td>\n",
       "    </tr>\n",
       "    <tr>\n",
       "      <th>100</th>\n",
       "      <td>Y7</td>\n",
       "      <td>13088</td>\n",
       "    </tr>\n",
       "    <tr>\n",
       "      <th>101</th>\n",
       "      <td>ZH</td>\n",
       "      <td>4611</td>\n",
       "    </tr>\n",
       "  </tbody>\n",
       "</table>\n",
       "<p>102 rows × 2 columns</p>\n",
       "</div>"
      ],
      "text/plain": [
       "    airline airline_id\n",
       "0        3E      10739\n",
       "1        3M         \\N\n",
       "2        3U       4608\n",
       "3        5J       1683\n",
       "4        8L       2942\n",
       "..      ...        ...\n",
       "97       WN       4547\n",
       "98       WS       5416\n",
       "99       Y4       5325\n",
       "100      Y7      13088\n",
       "101      ZH       4611\n",
       "\n",
       "[102 rows x 2 columns]"
      ]
     },
     "execution_count": 23,
     "metadata": {},
     "output_type": "execute_result"
    }
   ],
   "source": [
    "## Your work here\n",
    "pd.read_sql(\"\"\"\n",
    "WITH top_3 AS (\n",
    "    SELECT ap.id, ap.name\n",
    "    FROM airports ap\n",
    "    JOIN routes r\n",
    "    ON ap.id = r.source_id\n",
    "    GROUP BY ap.id\n",
    "    ORDER BY COUNT() DESC\n",
    "    LIMIT 3\n",
    ")\n",
    "\n",
    "SELECT DISTINCT airline, airline_id\n",
    "FROM routes\n",
    "WHERE source_id IN (SELECT id FROM top_3)\n",
    "ORDER BY airline\n",
    "            \n",
    "\"\"\", conn)"
   ]
  },
  {
   "cell_type": "code",
   "execution_count": 26,
   "metadata": {},
   "outputs": [
    {
     "data": {
      "text/html": [
       "<div>\n",
       "<style scoped>\n",
       "    .dataframe tbody tr th:only-of-type {\n",
       "        vertical-align: middle;\n",
       "    }\n",
       "\n",
       "    .dataframe tbody tr th {\n",
       "        vertical-align: top;\n",
       "    }\n",
       "\n",
       "    .dataframe thead th {\n",
       "        text-align: right;\n",
       "    }\n",
       "</style>\n",
       "<table border=\"1\" class=\"dataframe\">\n",
       "  <thead>\n",
       "    <tr style=\"text-align: right;\">\n",
       "      <th></th>\n",
       "      <th>name</th>\n",
       "      <th>id</th>\n",
       "      <th>airline</th>\n",
       "      <th>airline_id</th>\n",
       "    </tr>\n",
       "  </thead>\n",
       "  <tbody>\n",
       "    <tr>\n",
       "      <th>0</th>\n",
       "      <td>None</td>\n",
       "      <td>None</td>\n",
       "      <td>3M</td>\n",
       "      <td>\\N</td>\n",
       "    </tr>\n",
       "    <tr>\n",
       "      <th>1</th>\n",
       "      <td>Aer Lingus</td>\n",
       "      <td>837</td>\n",
       "      <td>EI</td>\n",
       "      <td>837</td>\n",
       "    </tr>\n",
       "    <tr>\n",
       "      <th>2</th>\n",
       "      <td>AeroMéxico</td>\n",
       "      <td>321</td>\n",
       "      <td>AM</td>\n",
       "      <td>321</td>\n",
       "    </tr>\n",
       "    <tr>\n",
       "      <th>3</th>\n",
       "      <td>Aeroflot Russian Airlines</td>\n",
       "      <td>130</td>\n",
       "      <td>SU</td>\n",
       "      <td>130</td>\n",
       "    </tr>\n",
       "    <tr>\n",
       "      <th>4</th>\n",
       "      <td>Air Algerie</td>\n",
       "      <td>794</td>\n",
       "      <td>AH</td>\n",
       "      <td>794</td>\n",
       "    </tr>\n",
       "    <tr>\n",
       "      <th>...</th>\n",
       "      <td>...</td>\n",
       "      <td>...</td>\n",
       "      <td>...</td>\n",
       "      <td>...</td>\n",
       "    </tr>\n",
       "    <tr>\n",
       "      <th>97</th>\n",
       "      <td>Virgin Australia</td>\n",
       "      <td>5360</td>\n",
       "      <td>VA</td>\n",
       "      <td>5360</td>\n",
       "    </tr>\n",
       "    <tr>\n",
       "      <th>98</th>\n",
       "      <td>Virgin Express</td>\n",
       "      <td>5333</td>\n",
       "      <td>TV</td>\n",
       "      <td>5333</td>\n",
       "    </tr>\n",
       "    <tr>\n",
       "      <th>99</th>\n",
       "      <td>Volaris</td>\n",
       "      <td>5325</td>\n",
       "      <td>Y4</td>\n",
       "      <td>5325</td>\n",
       "    </tr>\n",
       "    <tr>\n",
       "      <th>100</th>\n",
       "      <td>WestJet</td>\n",
       "      <td>5416</td>\n",
       "      <td>WS</td>\n",
       "      <td>5416</td>\n",
       "    </tr>\n",
       "    <tr>\n",
       "      <th>101</th>\n",
       "      <td>Xiamen Airlines</td>\n",
       "      <td>5484</td>\n",
       "      <td>MF</td>\n",
       "      <td>5484</td>\n",
       "    </tr>\n",
       "  </tbody>\n",
       "</table>\n",
       "<p>102 rows × 4 columns</p>\n",
       "</div>"
      ],
      "text/plain": [
       "                          name    id airline airline_id\n",
       "0                         None  None      3M         \\N\n",
       "1                   Aer Lingus   837      EI        837\n",
       "2                   AeroMéxico   321      AM        321\n",
       "3    Aeroflot Russian Airlines   130      SU        130\n",
       "4                  Air Algerie   794      AH        794\n",
       "..                         ...   ...     ...        ...\n",
       "97            Virgin Australia  5360      VA       5360\n",
       "98              Virgin Express  5333      TV       5333\n",
       "99                     Volaris  5325      Y4       5325\n",
       "100                    WestJet  5416      WS       5416\n",
       "101            Xiamen Airlines  5484      MF       5484\n",
       "\n",
       "[102 rows x 4 columns]"
      ]
     },
     "execution_count": 26,
     "metadata": {},
     "output_type": "execute_result"
    }
   ],
   "source": [
    "pd.read_sql(\"\"\"\n",
    "WITH top_3 AS (SELECT ap.id\n",
    "                FROM airports ap\n",
    "            JOIN routes r\n",
    "            ON ap.id = r.source_id\n",
    "        GROUP BY ap.id\n",
    "        ORDER BY COUNT() DESC\n",
    "        LIMIT 3)\n",
    "\n",
    "SELECT DISTINCT a.name, a.id, r.airline, r.airline_id\n",
    "FROM routes r\n",
    "    LEFT JOIN airlines a\n",
    "            on a.id = r.airline_id\n",
    "WHERE r.source_id IN top_3\n",
    "order by a.name\n",
    "            \n",
    "\"\"\", conn)"
   ]
  },
  {
   "cell_type": "markdown",
   "metadata": {
    "hidden": true
   },
   "source": [
    "<p>\n",
    "</p>\n",
    "<details>\n",
    "    <summary><b><u>Click Here for Answer Code</u></b></summary>\n",
    "\n",
    "```sql\n",
    "WITH top_3_airports AS (\n",
    "    SELECT \n",
    "        airports.id \n",
    "    FROM \n",
    "        airports \n",
    "        LEFT JOIN routes\n",
    "            ON routes.source_id = airports.id\n",
    "    GROUP BY\n",
    "        airports.id\n",
    "    ORDER BY \n",
    "        COUNT() DESC\n",
    "    LIMIT 3\n",
    ") \n",
    "\n",
    "SELECT DISTINCT\n",
    "    rt.airline\n",
    "FROM\n",
    "    routes AS rt\n",
    "    LEFT JOIN airports AS ap\n",
    "        ON rt.source_id = ap.id\n",
    "WHERE \n",
    "    rt.source_id IN top_3_airports\n",
    "```\n",
    "</details>"
   ]
  },
  {
   "cell_type": "markdown",
   "metadata": {
    "heading_collapsed": true
   },
   "source": [
    "# SQL Versions"
   ]
  },
  {
   "cell_type": "markdown",
   "metadata": {
    "hidden": true
   },
   "source": [
    "There is no one version of SQL - there are many versions out there! What you're learning about SQL with SQLite will apply to all of them. Just keep in mind when you apply for jobs that you may see any of these listed in any given job posting, and they are all just different versions of what you know."
   ]
  },
  {
   "cell_type": "markdown",
   "metadata": {
    "heading_collapsed": true,
    "hidden": true
   },
   "source": [
    "## SQL Dialects"
   ]
  },
  {
   "cell_type": "markdown",
   "metadata": {
    "hidden": true
   },
   "source": [
    "As with dialects of spoken languages, SQL dialects have many commonalities but some differences in syntax and functionality.  Here are a few of the major players:\n",
    "\n",
    "- SQLite (we've already seen this!)\n",
    "- PostgreSQL (free and open-source!)\n",
    "- Oracle SQL\n",
    "- MySQL (half open-souce, half Oracle)\n",
    "- Microsoft SQL Server\n",
    "- Transact-SQL (extends MS SQL)"
   ]
  },
  {
   "cell_type": "markdown",
   "metadata": {
    "heading_collapsed": true,
    "hidden": true
   },
   "source": [
    "## SQLite Pros & Cons"
   ]
  },
  {
   "cell_type": "markdown",
   "metadata": {
    "hidden": true
   },
   "source": [
    "We use SQLite in this course, but it has some limitations."
   ]
  },
  {
   "cell_type": "markdown",
   "metadata": {
    "heading_collapsed": true,
    "hidden": true
   },
   "source": [
    "### Pros"
   ]
  },
  {
   "cell_type": "markdown",
   "metadata": {
    "hidden": true
   },
   "source": [
    "- Easy to set up\n",
    "- Easy to share database files\n",
    "- Uses little memory"
   ]
  },
  {
   "cell_type": "markdown",
   "metadata": {
    "heading_collapsed": true,
    "hidden": true
   },
   "source": [
    "### Cons"
   ]
  },
  {
   "cell_type": "markdown",
   "metadata": {
    "hidden": true
   },
   "source": [
    "- Limited functionality for managing users and access permissions\n",
    "- Not \"thread safe\": two edits at the same time can mess up your data"
   ]
  },
  {
   "cell_type": "code",
   "execution_count": 29,
   "metadata": {},
   "outputs": [
    {
     "data": {
      "text/html": [
       "<div>\n",
       "<style scoped>\n",
       "    .dataframe tbody tr th:only-of-type {\n",
       "        vertical-align: middle;\n",
       "    }\n",
       "\n",
       "    .dataframe tbody tr th {\n",
       "        vertical-align: top;\n",
       "    }\n",
       "\n",
       "    .dataframe thead th {\n",
       "        text-align: right;\n",
       "    }\n",
       "</style>\n",
       "<table border=\"1\" class=\"dataframe\">\n",
       "  <thead>\n",
       "    <tr style=\"text-align: right;\">\n",
       "      <th></th>\n",
       "      <th>country</th>\n",
       "      <th>code</th>\n",
       "      <th>city</th>\n",
       "    </tr>\n",
       "  </thead>\n",
       "  <tbody>\n",
       "    <tr>\n",
       "      <th>0</th>\n",
       "      <td>United States</td>\n",
       "      <td>4I7</td>\n",
       "      <td>Greencastle</td>\n",
       "    </tr>\n",
       "    <tr>\n",
       "      <th>1</th>\n",
       "      <td>United States</td>\n",
       "      <td>C91</td>\n",
       "      <td>Dowagiac</td>\n",
       "    </tr>\n",
       "    <tr>\n",
       "      <th>2</th>\n",
       "      <td>United States</td>\n",
       "      <td>CDI</td>\n",
       "      <td>Cambridge</td>\n",
       "    </tr>\n",
       "    <tr>\n",
       "      <th>3</th>\n",
       "      <td>United States</td>\n",
       "      <td>SUE</td>\n",
       "      <td>Sturgeon Bay</td>\n",
       "    </tr>\n",
       "    <tr>\n",
       "      <th>4</th>\n",
       "      <td>United States</td>\n",
       "      <td>0P2</td>\n",
       "      <td>Stewartstown</td>\n",
       "    </tr>\n",
       "    <tr>\n",
       "      <th>...</th>\n",
       "      <td>...</td>\n",
       "      <td>...</td>\n",
       "      <td>...</td>\n",
       "    </tr>\n",
       "    <tr>\n",
       "      <th>1845</th>\n",
       "      <td>United States</td>\n",
       "      <td>None</td>\n",
       "      <td>Valdez</td>\n",
       "    </tr>\n",
       "    <tr>\n",
       "      <th>1846</th>\n",
       "      <td>United States</td>\n",
       "      <td>None</td>\n",
       "      <td>Bainbridge Island</td>\n",
       "    </tr>\n",
       "    <tr>\n",
       "      <th>1847</th>\n",
       "      <td>United States</td>\n",
       "      <td>CWT</td>\n",
       "      <td>Chatsworth</td>\n",
       "    </tr>\n",
       "    <tr>\n",
       "      <th>1848</th>\n",
       "      <td>United States</td>\n",
       "      <td>DHB</td>\n",
       "      <td>Deer Harbor</td>\n",
       "    </tr>\n",
       "    <tr>\n",
       "      <th>1849</th>\n",
       "      <td>United States</td>\n",
       "      <td>OLT</td>\n",
       "      <td>San Diego</td>\n",
       "    </tr>\n",
       "  </tbody>\n",
       "</table>\n",
       "<p>1850 rows × 3 columns</p>\n",
       "</div>"
      ],
      "text/plain": [
       "            country  code               city\n",
       "0     United States   4I7        Greencastle\n",
       "1     United States   C91           Dowagiac\n",
       "2     United States   CDI          Cambridge\n",
       "3     United States   SUE       Sturgeon Bay\n",
       "4     United States   0P2       Stewartstown\n",
       "...             ...   ...                ...\n",
       "1845  United States  None             Valdez\n",
       "1846  United States  None  Bainbridge Island\n",
       "1847  United States   CWT         Chatsworth\n",
       "1848  United States   DHB        Deer Harbor\n",
       "1849  United States   OLT          San Diego\n",
       "\n",
       "[1850 rows x 3 columns]"
      ]
     },
     "execution_count": 29,
     "metadata": {},
     "output_type": "execute_result"
    }
   ],
   "source": [
    "# Reopen the database connection\n",
    "conn = sqlite3.connect('data/flights.db')\n",
    "\n",
    "# Using LIKE in SQL WHERE\n",
    "pd.read_sql('''\n",
    "SELECT country, code, city\n",
    "FROM airports\n",
    "WHERE country LIKE '%Sta%'\n",
    "''', conn)"
   ]
  },
  {
   "cell_type": "code",
   "execution_count": 30,
   "metadata": {},
   "outputs": [
    {
     "data": {
      "text/html": [
       "<div>\n",
       "<style scoped>\n",
       "    .dataframe tbody tr th:only-of-type {\n",
       "        vertical-align: middle;\n",
       "    }\n",
       "\n",
       "    .dataframe tbody tr th {\n",
       "        vertical-align: top;\n",
       "    }\n",
       "\n",
       "    .dataframe thead th {\n",
       "        text-align: right;\n",
       "    }\n",
       "</style>\n",
       "<table border=\"1\" class=\"dataframe\">\n",
       "  <thead>\n",
       "    <tr style=\"text-align: right;\">\n",
       "      <th></th>\n",
       "      <th>country</th>\n",
       "      <th>code</th>\n",
       "      <th>city</th>\n",
       "    </tr>\n",
       "  </thead>\n",
       "  <tbody>\n",
       "    <tr>\n",
       "      <th>0</th>\n",
       "      <td>Mauritius</td>\n",
       "      <td>MRU</td>\n",
       "      <td>Plaisance</td>\n",
       "    </tr>\n",
       "    <tr>\n",
       "      <th>1</th>\n",
       "      <td>Mauritius</td>\n",
       "      <td>RRG</td>\n",
       "      <td>Rodriguez Island</td>\n",
       "    </tr>\n",
       "    <tr>\n",
       "      <th>2</th>\n",
       "      <td>Mayotte</td>\n",
       "      <td>DZA</td>\n",
       "      <td>Dzaoudzi</td>\n",
       "    </tr>\n",
       "    <tr>\n",
       "      <th>3</th>\n",
       "      <td>Madagascar</td>\n",
       "      <td>TNR</td>\n",
       "      <td>Antananarivo</td>\n",
       "    </tr>\n",
       "    <tr>\n",
       "      <th>4</th>\n",
       "      <td>Madagascar</td>\n",
       "      <td>ZVA</td>\n",
       "      <td>Miandrivazo</td>\n",
       "    </tr>\n",
       "    <tr>\n",
       "      <th>...</th>\n",
       "      <td>...</td>\n",
       "      <td>...</td>\n",
       "      <td>...</td>\n",
       "    </tr>\n",
       "    <tr>\n",
       "      <th>374</th>\n",
       "      <td>Martinique</td>\n",
       "      <td>None</td>\n",
       "      <td>Fort de France</td>\n",
       "    </tr>\n",
       "    <tr>\n",
       "      <th>375</th>\n",
       "      <td>Martinique</td>\n",
       "      <td>None</td>\n",
       "      <td>Fort-de-France</td>\n",
       "    </tr>\n",
       "    <tr>\n",
       "      <th>376</th>\n",
       "      <td>Martinique</td>\n",
       "      <td>None</td>\n",
       "      <td>Saint Pierre</td>\n",
       "    </tr>\n",
       "    <tr>\n",
       "      <th>377</th>\n",
       "      <td>Mexico</td>\n",
       "      <td>None</td>\n",
       "      <td>Puerto Vallarta</td>\n",
       "    </tr>\n",
       "    <tr>\n",
       "      <th>378</th>\n",
       "      <td>Mexico</td>\n",
       "      <td>None</td>\n",
       "      <td>Cabo San Lucas</td>\n",
       "    </tr>\n",
       "  </tbody>\n",
       "</table>\n",
       "<p>379 rows × 3 columns</p>\n",
       "</div>"
      ],
      "text/plain": [
       "        country  code              city\n",
       "0     Mauritius   MRU         Plaisance\n",
       "1     Mauritius   RRG  Rodriguez Island\n",
       "2       Mayotte   DZA          Dzaoudzi\n",
       "3    Madagascar   TNR      Antananarivo\n",
       "4    Madagascar   ZVA       Miandrivazo\n",
       "..          ...   ...               ...\n",
       "374  Martinique  None    Fort de France\n",
       "375  Martinique  None    Fort-de-France\n",
       "376  Martinique  None      Saint Pierre\n",
       "377      Mexico  None   Puerto Vallarta\n",
       "378      Mexico  None    Cabo San Lucas\n",
       "\n",
       "[379 rows x 3 columns]"
      ]
     },
     "execution_count": 30,
     "metadata": {},
     "output_type": "execute_result"
    }
   ],
   "source": [
    "# Using LIKE in SQL WHERE\n",
    "pd.read_sql('''\n",
    "SELECT country, code, city\n",
    "FROM airports\n",
    "WHERE country LIKE 'M_%_%'\n",
    "''', conn)"
   ]
  },
  {
   "cell_type": "code",
   "execution_count": 34,
   "metadata": {},
   "outputs": [
    {
     "data": {
      "text/html": [
       "<div>\n",
       "<style scoped>\n",
       "    .dataframe tbody tr th:only-of-type {\n",
       "        vertical-align: middle;\n",
       "    }\n",
       "\n",
       "    .dataframe tbody tr th {\n",
       "        vertical-align: top;\n",
       "    }\n",
       "\n",
       "    .dataframe thead th {\n",
       "        text-align: right;\n",
       "    }\n",
       "</style>\n",
       "<table border=\"1\" class=\"dataframe\">\n",
       "  <thead>\n",
       "    <tr style=\"text-align: right;\">\n",
       "      <th></th>\n",
       "      <th>index</th>\n",
       "      <th>id</th>\n",
       "      <th>name</th>\n",
       "      <th>city</th>\n",
       "      <th>country</th>\n",
       "      <th>code</th>\n",
       "      <th>icao</th>\n",
       "      <th>latitude</th>\n",
       "      <th>longitude</th>\n",
       "      <th>altitude</th>\n",
       "      <th>offset</th>\n",
       "      <th>dst</th>\n",
       "      <th>timezone</th>\n",
       "    </tr>\n",
       "  </thead>\n",
       "  <tbody>\n",
       "    <tr>\n",
       "      <th>0</th>\n",
       "      <td>0</td>\n",
       "      <td>1</td>\n",
       "      <td>Goroka</td>\n",
       "      <td>Goroka</td>\n",
       "      <td>Papua New Guinea</td>\n",
       "      <td>GKA</td>\n",
       "      <td>AYGA</td>\n",
       "      <td>-6.081689</td>\n",
       "      <td>145.391881</td>\n",
       "      <td>5282</td>\n",
       "      <td>10</td>\n",
       "      <td>U</td>\n",
       "      <td>Pacific/Port_Moresby</td>\n",
       "    </tr>\n",
       "    <tr>\n",
       "      <th>1</th>\n",
       "      <td>1</td>\n",
       "      <td>2</td>\n",
       "      <td>Madang</td>\n",
       "      <td>Madang</td>\n",
       "      <td>Papua New Guinea</td>\n",
       "      <td>MAG</td>\n",
       "      <td>AYMD</td>\n",
       "      <td>-5.207083</td>\n",
       "      <td>145.7887</td>\n",
       "      <td>20</td>\n",
       "      <td>10</td>\n",
       "      <td>U</td>\n",
       "      <td>Pacific/Port_Moresby</td>\n",
       "    </tr>\n",
       "    <tr>\n",
       "      <th>2</th>\n",
       "      <td>2</td>\n",
       "      <td>3</td>\n",
       "      <td>Mount Hagen</td>\n",
       "      <td>Mount Hagen</td>\n",
       "      <td>Papua New Guinea</td>\n",
       "      <td>HGU</td>\n",
       "      <td>AYMH</td>\n",
       "      <td>-5.826789</td>\n",
       "      <td>144.295861</td>\n",
       "      <td>5388</td>\n",
       "      <td>10</td>\n",
       "      <td>U</td>\n",
       "      <td>Pacific/Port_Moresby</td>\n",
       "    </tr>\n",
       "    <tr>\n",
       "      <th>3</th>\n",
       "      <td>3</td>\n",
       "      <td>4</td>\n",
       "      <td>Nadzab</td>\n",
       "      <td>Nadzab</td>\n",
       "      <td>Papua New Guinea</td>\n",
       "      <td>LAE</td>\n",
       "      <td>AYNZ</td>\n",
       "      <td>-6.569828</td>\n",
       "      <td>146.726242</td>\n",
       "      <td>239</td>\n",
       "      <td>10</td>\n",
       "      <td>U</td>\n",
       "      <td>Pacific/Port_Moresby</td>\n",
       "    </tr>\n",
       "    <tr>\n",
       "      <th>4</th>\n",
       "      <td>4</td>\n",
       "      <td>5</td>\n",
       "      <td>Port Moresby Jacksons Intl</td>\n",
       "      <td>Port Moresby</td>\n",
       "      <td>Papua New Guinea</td>\n",
       "      <td>POM</td>\n",
       "      <td>AYPY</td>\n",
       "      <td>-9.443383</td>\n",
       "      <td>147.22005</td>\n",
       "      <td>146</td>\n",
       "      <td>10</td>\n",
       "      <td>U</td>\n",
       "      <td>Pacific/Port_Moresby</td>\n",
       "    </tr>\n",
       "  </tbody>\n",
       "</table>\n",
       "</div>"
      ],
      "text/plain": [
       "   index id                        name          city           country code  \\\n",
       "0      0  1                      Goroka        Goroka  Papua New Guinea  GKA   \n",
       "1      1  2                      Madang        Madang  Papua New Guinea  MAG   \n",
       "2      2  3                 Mount Hagen   Mount Hagen  Papua New Guinea  HGU   \n",
       "3      3  4                      Nadzab        Nadzab  Papua New Guinea  LAE   \n",
       "4      4  5  Port Moresby Jacksons Intl  Port Moresby  Papua New Guinea  POM   \n",
       "\n",
       "   icao   latitude   longitude altitude offset dst              timezone  \n",
       "0  AYGA  -6.081689  145.391881     5282     10   U  Pacific/Port_Moresby  \n",
       "1  AYMD  -5.207083    145.7887       20     10   U  Pacific/Port_Moresby  \n",
       "2  AYMH  -5.826789  144.295861     5388     10   U  Pacific/Port_Moresby  \n",
       "3  AYNZ  -6.569828  146.726242      239     10   U  Pacific/Port_Moresby  \n",
       "4  AYPY  -9.443383   147.22005      146     10   U  Pacific/Port_Moresby  "
      ]
     },
     "execution_count": 34,
     "metadata": {},
     "output_type": "execute_result"
    }
   ],
   "source": [
    "#pandas .query and .eval \n",
    "\n",
    "# Reopen the database connection\n",
    "conn = sqlite3.connect('data/flights.db')\n",
    "airports=pd.read_sql('''\n",
    "SELECT *\n",
    "FROM airports\n",
    "''', conn) \n",
    "\n",
    "airports.head()"
   ]
  },
  {
   "cell_type": "code",
   "execution_count": 35,
   "metadata": {},
   "outputs": [
    {
     "data": {
      "text/html": [
       "<div>\n",
       "<style scoped>\n",
       "    .dataframe tbody tr th:only-of-type {\n",
       "        vertical-align: middle;\n",
       "    }\n",
       "\n",
       "    .dataframe tbody tr th {\n",
       "        vertical-align: top;\n",
       "    }\n",
       "\n",
       "    .dataframe thead th {\n",
       "        text-align: right;\n",
       "    }\n",
       "</style>\n",
       "<table border=\"1\" class=\"dataframe\">\n",
       "  <thead>\n",
       "    <tr style=\"text-align: right;\">\n",
       "      <th></th>\n",
       "      <th>index</th>\n",
       "      <th>id</th>\n",
       "      <th>name</th>\n",
       "      <th>city</th>\n",
       "      <th>country</th>\n",
       "      <th>code</th>\n",
       "      <th>icao</th>\n",
       "      <th>latitude</th>\n",
       "      <th>longitude</th>\n",
       "      <th>altitude</th>\n",
       "      <th>offset</th>\n",
       "      <th>dst</th>\n",
       "      <th>timezone</th>\n",
       "    </tr>\n",
       "  </thead>\n",
       "  <tbody>\n",
       "    <tr>\n",
       "      <th>0</th>\n",
       "      <td>0</td>\n",
       "      <td>1</td>\n",
       "      <td>Goroka</td>\n",
       "      <td>Goroka</td>\n",
       "      <td>Papua New Guinea</td>\n",
       "      <td>GKA</td>\n",
       "      <td>AYGA</td>\n",
       "      <td>-6.081689</td>\n",
       "      <td>145.391881</td>\n",
       "      <td>5282</td>\n",
       "      <td>10</td>\n",
       "      <td>U</td>\n",
       "      <td>Pacific/Port_Moresby</td>\n",
       "    </tr>\n",
       "  </tbody>\n",
       "</table>\n",
       "</div>"
      ],
      "text/plain": [
       "   index id    name    city           country code  icao   latitude  \\\n",
       "0      0  1  Goroka  Goroka  Papua New Guinea  GKA  AYGA  -6.081689   \n",
       "\n",
       "    longitude altitude offset dst              timezone  \n",
       "0  145.391881     5282     10   U  Pacific/Port_Moresby  "
      ]
     },
     "execution_count": 35,
     "metadata": {},
     "output_type": "execute_result"
    }
   ],
   "source": [
    "airports.query('name == \"Goroka\"')"
   ]
  },
  {
   "cell_type": "code",
   "execution_count": 36,
   "metadata": {},
   "outputs": [
    {
     "data": {
      "text/html": [
       "<div>\n",
       "<style scoped>\n",
       "    .dataframe tbody tr th:only-of-type {\n",
       "        vertical-align: middle;\n",
       "    }\n",
       "\n",
       "    .dataframe tbody tr th {\n",
       "        vertical-align: top;\n",
       "    }\n",
       "\n",
       "    .dataframe thead th {\n",
       "        text-align: right;\n",
       "    }\n",
       "</style>\n",
       "<table border=\"1\" class=\"dataframe\">\n",
       "  <thead>\n",
       "    <tr style=\"text-align: right;\">\n",
       "      <th></th>\n",
       "      <th>index</th>\n",
       "      <th>id</th>\n",
       "      <th>name</th>\n",
       "      <th>city</th>\n",
       "      <th>country</th>\n",
       "      <th>code</th>\n",
       "      <th>icao</th>\n",
       "      <th>latitude</th>\n",
       "      <th>longitude</th>\n",
       "      <th>altitude</th>\n",
       "      <th>offset</th>\n",
       "      <th>dst</th>\n",
       "      <th>timezone</th>\n",
       "    </tr>\n",
       "  </thead>\n",
       "  <tbody>\n",
       "    <tr>\n",
       "      <th>0</th>\n",
       "      <td>0</td>\n",
       "      <td>1</td>\n",
       "      <td>Goroka</td>\n",
       "      <td>Goroka</td>\n",
       "      <td>Papua New Guinea</td>\n",
       "      <td>GKA</td>\n",
       "      <td>AYGA</td>\n",
       "      <td>-6.081689</td>\n",
       "      <td>145.391881</td>\n",
       "      <td>5282</td>\n",
       "      <td>10</td>\n",
       "      <td>U</td>\n",
       "      <td>Pacific/Port_Moresby</td>\n",
       "    </tr>\n",
       "  </tbody>\n",
       "</table>\n",
       "</div>"
      ],
      "text/plain": [
       "   index id    name    city           country code  icao   latitude  \\\n",
       "0      0  1  Goroka  Goroka  Papua New Guinea  GKA  AYGA  -6.081689   \n",
       "\n",
       "    longitude altitude offset dst              timezone  \n",
       "0  145.391881     5282     10   U  Pacific/Port_Moresby  "
      ]
     },
     "execution_count": 36,
     "metadata": {},
     "output_type": "execute_result"
    }
   ],
   "source": [
    "airports.loc[airports['name'] == 'Goroka']"
   ]
  },
  {
   "cell_type": "code",
   "execution_count": 37,
   "metadata": {},
   "outputs": [
    {
     "name": "stdout",
     "output_type": "stream",
     "text": [
      "<class 'pandas.core.frame.DataFrame'>\n",
      "Index: 100 entries, 5689 to 4450\n",
      "Data columns (total 13 columns):\n",
      " #   Column     Non-Null Count  Dtype \n",
      "---  ------     --------------  ----- \n",
      " 0   index      100 non-null    int64 \n",
      " 1   id         100 non-null    object\n",
      " 2   name       100 non-null    object\n",
      " 3   city       100 non-null    object\n",
      " 4   country    100 non-null    object\n",
      " 5   code       69 non-null     object\n",
      " 6   icao       99 non-null     object\n",
      " 7   latitude   100 non-null    object\n",
      " 8   longitude  100 non-null    object\n",
      " 9   altitude   100 non-null    object\n",
      " 10  offset     100 non-null    object\n",
      " 11  dst        100 non-null    object\n",
      " 12  timezone   100 non-null    object\n",
      "dtypes: int64(1), object(12)\n",
      "memory usage: 10.9+ KB\n"
     ]
    }
   ],
   "source": [
    "samp = airports.sample(100)\n",
    "samp.info()"
   ]
  },
  {
   "cell_type": "code",
   "execution_count": 39,
   "metadata": {},
   "outputs": [],
   "source": [
    "samp['latitude'] = samp['latitude'].astype(float)\n",
    "samp['longitude'] = samp['longitude'].astype(float)"
   ]
  },
  {
   "cell_type": "code",
   "execution_count": 41,
   "metadata": {},
   "outputs": [
    {
     "data": {
      "text/html": [
       "<div>\n",
       "<style scoped>\n",
       "    .dataframe tbody tr th:only-of-type {\n",
       "        vertical-align: middle;\n",
       "    }\n",
       "\n",
       "    .dataframe tbody tr th {\n",
       "        vertical-align: top;\n",
       "    }\n",
       "\n",
       "    .dataframe thead th {\n",
       "        text-align: right;\n",
       "    }\n",
       "</style>\n",
       "<table border=\"1\" class=\"dataframe\">\n",
       "  <thead>\n",
       "    <tr style=\"text-align: right;\">\n",
       "      <th></th>\n",
       "      <th>index</th>\n",
       "      <th>id</th>\n",
       "      <th>name</th>\n",
       "      <th>city</th>\n",
       "      <th>country</th>\n",
       "      <th>code</th>\n",
       "      <th>icao</th>\n",
       "      <th>latitude</th>\n",
       "      <th>longitude</th>\n",
       "      <th>altitude</th>\n",
       "      <th>offset</th>\n",
       "      <th>dst</th>\n",
       "      <th>timezone</th>\n",
       "      <th>combined</th>\n",
       "    </tr>\n",
       "  </thead>\n",
       "  <tbody>\n",
       "    <tr>\n",
       "      <th>5689</th>\n",
       "      <td>5689</td>\n",
       "      <td>7114</td>\n",
       "      <td>Venetie Airport</td>\n",
       "      <td>Venetie</td>\n",
       "      <td>United States</td>\n",
       "      <td>VEE</td>\n",
       "      <td>PAVE</td>\n",
       "      <td>67.008611</td>\n",
       "      <td>-146.366389</td>\n",
       "      <td>574</td>\n",
       "      <td>-9</td>\n",
       "      <td>A</td>\n",
       "      <td>America/Anchorage</td>\n",
       "      <td>-79.357778</td>\n",
       "    </tr>\n",
       "    <tr>\n",
       "      <th>5404</th>\n",
       "      <td>5404</td>\n",
       "      <td>6925</td>\n",
       "      <td>Ust-Ilimsk</td>\n",
       "      <td>Ust-Ilimsk</td>\n",
       "      <td>Russia</td>\n",
       "      <td>None</td>\n",
       "      <td>\\N</td>\n",
       "      <td>58.116667</td>\n",
       "      <td>102.466667</td>\n",
       "      <td>1244</td>\n",
       "      <td>9</td>\n",
       "      <td>N</td>\n",
       "      <td>Asia/Irkutsk</td>\n",
       "      <td>160.583334</td>\n",
       "    </tr>\n",
       "    <tr>\n",
       "      <th>3057</th>\n",
       "      <td>3057</td>\n",
       "      <td>3140</td>\n",
       "      <td>Dundigul</td>\n",
       "      <td>Dundigul</td>\n",
       "      <td>India</td>\n",
       "      <td>None</td>\n",
       "      <td>VODG</td>\n",
       "      <td>17.627178</td>\n",
       "      <td>78.403361</td>\n",
       "      <td>2013</td>\n",
       "      <td>5.5</td>\n",
       "      <td>N</td>\n",
       "      <td>Asia/Calcutta</td>\n",
       "      <td>96.030539</td>\n",
       "    </tr>\n",
       "    <tr>\n",
       "      <th>2884</th>\n",
       "      <td>2884</td>\n",
       "      <td>2963</td>\n",
       "      <td>Shpakovskoye</td>\n",
       "      <td>Stavropol</td>\n",
       "      <td>Russia</td>\n",
       "      <td>STW</td>\n",
       "      <td>URMT</td>\n",
       "      <td>45.109165</td>\n",
       "      <td>42.112778</td>\n",
       "      <td>1486</td>\n",
       "      <td>4</td>\n",
       "      <td>N</td>\n",
       "      <td>Europe/Moscow</td>\n",
       "      <td>87.221943</td>\n",
       "    </tr>\n",
       "    <tr>\n",
       "      <th>4894</th>\n",
       "      <td>4894</td>\n",
       "      <td>5427</td>\n",
       "      <td>Kerema Airport</td>\n",
       "      <td>Kerema</td>\n",
       "      <td>Papua New Guinea</td>\n",
       "      <td>KMA</td>\n",
       "      <td>AYKM</td>\n",
       "      <td>-7.963610</td>\n",
       "      <td>145.771000</td>\n",
       "      <td>10</td>\n",
       "      <td>10</td>\n",
       "      <td>U</td>\n",
       "      <td>Pacific/Port_Moresby</td>\n",
       "      <td>137.807390</td>\n",
       "    </tr>\n",
       "  </tbody>\n",
       "</table>\n",
       "</div>"
      ],
      "text/plain": [
       "      index    id             name        city           country  code  icao  \\\n",
       "5689   5689  7114  Venetie Airport     Venetie     United States   VEE  PAVE   \n",
       "5404   5404  6925       Ust-Ilimsk  Ust-Ilimsk            Russia  None    \\N   \n",
       "3057   3057  3140         Dundigul    Dundigul             India  None  VODG   \n",
       "2884   2884  2963     Shpakovskoye   Stavropol            Russia   STW  URMT   \n",
       "4894   4894  5427   Kerema Airport      Kerema  Papua New Guinea   KMA  AYKM   \n",
       "\n",
       "       latitude   longitude altitude offset dst              timezone  \\\n",
       "5689  67.008611 -146.366389      574     -9   A     America/Anchorage   \n",
       "5404  58.116667  102.466667     1244      9   N          Asia/Irkutsk   \n",
       "3057  17.627178   78.403361     2013    5.5   N         Asia/Calcutta   \n",
       "2884  45.109165   42.112778     1486      4   N         Europe/Moscow   \n",
       "4894  -7.963610  145.771000       10     10   U  Pacific/Port_Moresby   \n",
       "\n",
       "        combined  \n",
       "5689  -79.357778  \n",
       "5404  160.583334  \n",
       "3057   96.030539  \n",
       "2884   87.221943  \n",
       "4894  137.807390  "
      ]
     },
     "execution_count": 41,
     "metadata": {},
     "output_type": "execute_result"
    }
   ],
   "source": [
    "samp.eval('combined = latitude + longitude', inplace=True)\n",
    "samp.head()\n"
   ]
  },
  {
   "cell_type": "code",
   "execution_count": 42,
   "metadata": {},
   "outputs": [
    {
     "data": {
      "text/html": [
       "<div>\n",
       "<style scoped>\n",
       "    .dataframe tbody tr th:only-of-type {\n",
       "        vertical-align: middle;\n",
       "    }\n",
       "\n",
       "    .dataframe tbody tr th {\n",
       "        vertical-align: top;\n",
       "    }\n",
       "\n",
       "    .dataframe thead th {\n",
       "        text-align: right;\n",
       "    }\n",
       "</style>\n",
       "<table border=\"1\" class=\"dataframe\">\n",
       "  <thead>\n",
       "    <tr style=\"text-align: right;\">\n",
       "      <th></th>\n",
       "      <th>index</th>\n",
       "      <th>id</th>\n",
       "      <th>name</th>\n",
       "      <th>city</th>\n",
       "      <th>country</th>\n",
       "      <th>code</th>\n",
       "      <th>icao</th>\n",
       "      <th>latitude</th>\n",
       "      <th>longitude</th>\n",
       "      <th>altitude</th>\n",
       "      <th>offset</th>\n",
       "      <th>dst</th>\n",
       "      <th>timezone</th>\n",
       "      <th>combined</th>\n",
       "    </tr>\n",
       "  </thead>\n",
       "  <tbody>\n",
       "    <tr>\n",
       "      <th>5689</th>\n",
       "      <td>5689</td>\n",
       "      <td>7114</td>\n",
       "      <td>Venetie Airport</td>\n",
       "      <td>Venetie</td>\n",
       "      <td>United States</td>\n",
       "      <td>VEE</td>\n",
       "      <td>PAVE</td>\n",
       "      <td>67.008611</td>\n",
       "      <td>-146.366389</td>\n",
       "      <td>574</td>\n",
       "      <td>-9</td>\n",
       "      <td>A</td>\n",
       "      <td>America/Anchorage</td>\n",
       "      <td>-79.357778</td>\n",
       "    </tr>\n",
       "    <tr>\n",
       "      <th>5404</th>\n",
       "      <td>5404</td>\n",
       "      <td>6925</td>\n",
       "      <td>Ust-Ilimsk</td>\n",
       "      <td>Ust-Ilimsk</td>\n",
       "      <td>Russia</td>\n",
       "      <td>None</td>\n",
       "      <td>\\N</td>\n",
       "      <td>58.116667</td>\n",
       "      <td>102.466667</td>\n",
       "      <td>1244</td>\n",
       "      <td>9</td>\n",
       "      <td>N</td>\n",
       "      <td>Asia/Irkutsk</td>\n",
       "      <td>160.583334</td>\n",
       "    </tr>\n",
       "    <tr>\n",
       "      <th>3057</th>\n",
       "      <td>3057</td>\n",
       "      <td>3140</td>\n",
       "      <td>Dundigul</td>\n",
       "      <td>Dundigul</td>\n",
       "      <td>India</td>\n",
       "      <td>None</td>\n",
       "      <td>VODG</td>\n",
       "      <td>17.627178</td>\n",
       "      <td>78.403361</td>\n",
       "      <td>2013</td>\n",
       "      <td>5.5</td>\n",
       "      <td>N</td>\n",
       "      <td>Asia/Calcutta</td>\n",
       "      <td>96.030539</td>\n",
       "    </tr>\n",
       "    <tr>\n",
       "      <th>2884</th>\n",
       "      <td>2884</td>\n",
       "      <td>2963</td>\n",
       "      <td>Shpakovskoye</td>\n",
       "      <td>Stavropol</td>\n",
       "      <td>Russia</td>\n",
       "      <td>STW</td>\n",
       "      <td>URMT</td>\n",
       "      <td>45.109165</td>\n",
       "      <td>42.112778</td>\n",
       "      <td>1486</td>\n",
       "      <td>4</td>\n",
       "      <td>N</td>\n",
       "      <td>Europe/Moscow</td>\n",
       "      <td>87.221943</td>\n",
       "    </tr>\n",
       "    <tr>\n",
       "      <th>4894</th>\n",
       "      <td>4894</td>\n",
       "      <td>5427</td>\n",
       "      <td>Kerema Airport</td>\n",
       "      <td>Kerema</td>\n",
       "      <td>Papua New Guinea</td>\n",
       "      <td>KMA</td>\n",
       "      <td>AYKM</td>\n",
       "      <td>-7.963610</td>\n",
       "      <td>145.771000</td>\n",
       "      <td>10</td>\n",
       "      <td>10</td>\n",
       "      <td>U</td>\n",
       "      <td>Pacific/Port_Moresby</td>\n",
       "      <td>137.807390</td>\n",
       "    </tr>\n",
       "    <tr>\n",
       "      <th>...</th>\n",
       "      <td>...</td>\n",
       "      <td>...</td>\n",
       "      <td>...</td>\n",
       "      <td>...</td>\n",
       "      <td>...</td>\n",
       "      <td>...</td>\n",
       "      <td>...</td>\n",
       "      <td>...</td>\n",
       "      <td>...</td>\n",
       "      <td>...</td>\n",
       "      <td>...</td>\n",
       "      <td>...</td>\n",
       "      <td>...</td>\n",
       "      <td>...</td>\n",
       "    </tr>\n",
       "    <tr>\n",
       "      <th>2571</th>\n",
       "      <td>2571</td>\n",
       "      <td>2641</td>\n",
       "      <td>Chacalluta</td>\n",
       "      <td>Arica</td>\n",
       "      <td>Chile</td>\n",
       "      <td>ARI</td>\n",
       "      <td>SCAR</td>\n",
       "      <td>-18.348531</td>\n",
       "      <td>-70.338742</td>\n",
       "      <td>167</td>\n",
       "      <td>-4</td>\n",
       "      <td>S</td>\n",
       "      <td>America/Santiago</td>\n",
       "      <td>-88.687273</td>\n",
       "    </tr>\n",
       "    <tr>\n",
       "      <th>192</th>\n",
       "      <td>192</td>\n",
       "      <td>194</td>\n",
       "      <td>Downsview</td>\n",
       "      <td>Toronto</td>\n",
       "      <td>Canada</td>\n",
       "      <td>YZD</td>\n",
       "      <td>CYZD</td>\n",
       "      <td>43.742500</td>\n",
       "      <td>-79.465556</td>\n",
       "      <td>652</td>\n",
       "      <td>-5</td>\n",
       "      <td>A</td>\n",
       "      <td>America/Toronto</td>\n",
       "      <td>-35.723056</td>\n",
       "    </tr>\n",
       "    <tr>\n",
       "      <th>1986</th>\n",
       "      <td>1986</td>\n",
       "      <td>2027</td>\n",
       "      <td>Oamaru</td>\n",
       "      <td>Oamaru</td>\n",
       "      <td>New Zealand</td>\n",
       "      <td>OAM</td>\n",
       "      <td>NZOU</td>\n",
       "      <td>-44.970000</td>\n",
       "      <td>171.081667</td>\n",
       "      <td>99</td>\n",
       "      <td>12</td>\n",
       "      <td>Z</td>\n",
       "      <td>Pacific/Auckland</td>\n",
       "      <td>126.111667</td>\n",
       "    </tr>\n",
       "    <tr>\n",
       "      <th>920</th>\n",
       "      <td>920</td>\n",
       "      <td>936</td>\n",
       "      <td>Ampampamena</td>\n",
       "      <td>Ampampamena</td>\n",
       "      <td>Madagascar</td>\n",
       "      <td>None</td>\n",
       "      <td>FMNZ</td>\n",
       "      <td>-13.484814</td>\n",
       "      <td>48.632739</td>\n",
       "      <td>49</td>\n",
       "      <td>3</td>\n",
       "      <td>U</td>\n",
       "      <td>Indian/Antananarivo</td>\n",
       "      <td>35.147925</td>\n",
       "    </tr>\n",
       "    <tr>\n",
       "      <th>4450</th>\n",
       "      <td>4450</td>\n",
       "      <td>5872</td>\n",
       "      <td>Ngau Airport</td>\n",
       "      <td>Ngau</td>\n",
       "      <td>Fiji</td>\n",
       "      <td>NGI</td>\n",
       "      <td>NFNG</td>\n",
       "      <td>-18.115600</td>\n",
       "      <td>179.340000</td>\n",
       "      <td>50</td>\n",
       "      <td>12</td>\n",
       "      <td>U</td>\n",
       "      <td>Pacific/Fiji</td>\n",
       "      <td>161.224400</td>\n",
       "    </tr>\n",
       "  </tbody>\n",
       "</table>\n",
       "<p>100 rows × 14 columns</p>\n",
       "</div>"
      ],
      "text/plain": [
       "      index    id             name         city           country  code  icao  \\\n",
       "5689   5689  7114  Venetie Airport      Venetie     United States   VEE  PAVE   \n",
       "5404   5404  6925       Ust-Ilimsk   Ust-Ilimsk            Russia  None    \\N   \n",
       "3057   3057  3140         Dundigul     Dundigul             India  None  VODG   \n",
       "2884   2884  2963     Shpakovskoye    Stavropol            Russia   STW  URMT   \n",
       "4894   4894  5427   Kerema Airport       Kerema  Papua New Guinea   KMA  AYKM   \n",
       "...     ...   ...              ...          ...               ...   ...   ...   \n",
       "2571   2571  2641       Chacalluta        Arica             Chile   ARI  SCAR   \n",
       "192     192   194        Downsview      Toronto            Canada   YZD  CYZD   \n",
       "1986   1986  2027           Oamaru       Oamaru       New Zealand   OAM  NZOU   \n",
       "920     920   936      Ampampamena  Ampampamena        Madagascar  None  FMNZ   \n",
       "4450   4450  5872     Ngau Airport         Ngau              Fiji   NGI  NFNG   \n",
       "\n",
       "       latitude   longitude altitude offset dst              timezone  \\\n",
       "5689  67.008611 -146.366389      574     -9   A     America/Anchorage   \n",
       "5404  58.116667  102.466667     1244      9   N          Asia/Irkutsk   \n",
       "3057  17.627178   78.403361     2013    5.5   N         Asia/Calcutta   \n",
       "2884  45.109165   42.112778     1486      4   N         Europe/Moscow   \n",
       "4894  -7.963610  145.771000       10     10   U  Pacific/Port_Moresby   \n",
       "...         ...         ...      ...    ...  ..                   ...   \n",
       "2571 -18.348531  -70.338742      167     -4   S      America/Santiago   \n",
       "192   43.742500  -79.465556      652     -5   A       America/Toronto   \n",
       "1986 -44.970000  171.081667       99     12   Z      Pacific/Auckland   \n",
       "920  -13.484814   48.632739       49      3   U   Indian/Antananarivo   \n",
       "4450 -18.115600  179.340000       50     12   U          Pacific/Fiji   \n",
       "\n",
       "        combined  \n",
       "5689  -79.357778  \n",
       "5404  160.583334  \n",
       "3057   96.030539  \n",
       "2884   87.221943  \n",
       "4894  137.807390  \n",
       "...          ...  \n",
       "2571  -88.687273  \n",
       "192   -35.723056  \n",
       "1986  126.111667  \n",
       "920    35.147925  \n",
       "4450  161.224400  \n",
       "\n",
       "[100 rows x 14 columns]"
      ]
     },
     "execution_count": 42,
     "metadata": {},
     "output_type": "execute_result"
    }
   ],
   "source": [
    "df_comb=samp.eval('combined=latitude + longitude')\n",
    "df_comb"
   ]
  },
  {
   "cell_type": "code",
   "execution_count": 32,
   "metadata": {},
   "outputs": [],
   "source": [
    "conn.close()\n"
   ]
  },
  {
   "cell_type": "markdown",
   "metadata": {
    "heading_collapsed": true,
    "hidden": true
   },
   "source": [
    "## Extra Resources: SQL Versions"
   ]
  },
  {
   "cell_type": "markdown",
   "metadata": {
    "hidden": true
   },
   "source": [
    "[What Is a SQL Dialect, and Which one Should You Learn?](https://learnsql.com/blog/what-sql-dialect-to-learn/)\n",
    "\n",
    "[SQLite vs MySQL vs PostgreSQL](https://www.digitalocean.com/community/tutorials/sqlite-vs-mysql-vs-postgresql-a-comparison-of-relational-database-management-systems)\n",
    "\n",
    "[SQL Dialect Reference](https://en.wikibooks.org/wiki/SQL_Dialects_Reference)"
   ]
  },
  {
   "cell_type": "markdown",
   "metadata": {
    "heading_collapsed": true
   },
   "source": [
    "# Web Databases: data.world"
   ]
  },
  {
   "cell_type": "markdown",
   "metadata": {
    "hidden": true
   },
   "source": [
    "For the rest of this lesson, we'll be exploring databases in [data.world](https://data.world/), a web database that we can query using SQL in our browser. For reference, you can see the instructions for creating a new project here: [Getting Started Working with Data at data.world](https://docs.data.world/en/64499-94893-Work-with-data--Projects.html)"
   ]
  },
  {
   "cell_type": "markdown",
   "metadata": {
    "heading_collapsed": true,
    "hidden": true
   },
   "source": [
    "## Step 1: Create a data.world account"
   ]
  },
  {
   "cell_type": "markdown",
   "metadata": {
    "hidden": true
   },
   "source": [
    "You will need to enter and verify your email address."
   ]
  },
  {
   "cell_type": "markdown",
   "metadata": {
    "heading_collapsed": true,
    "hidden": true
   },
   "source": [
    "## Step 2: Create a project using this [Austin AirBnB](https://data.world/jonloyens/inside-airbnb-austin) dataset"
   ]
  },
  {
   "cell_type": "markdown",
   "metadata": {
    "hidden": true
   },
   "source": [
    "Navigate to [this page](https://data.world/jonloyens/inside-airbnb-austin) and use the button at the top right of the page to create a new project using the data.\n",
    "\n",
    "![](images/data_world_austin_airbnb_new_proj.png)"
   ]
  },
  {
   "cell_type": "markdown",
   "metadata": {
    "heading_collapsed": true,
    "hidden": true
   },
   "source": [
    "## Step 3: Create a SQL query"
   ]
  },
  {
   "cell_type": "markdown",
   "metadata": {
    "hidden": true
   },
   "source": [
    "In your project, use the \"+ Add\" button to add a SQL query.\n",
    "\n",
    "![](images/data_world_add_sql_query.png)"
   ]
  },
  {
   "cell_type": "markdown",
   "metadata": {
    "heading_collapsed": true,
    "hidden": true
   },
   "source": [
    "## Step 4: Run a simple SQL query"
   ]
  },
  {
   "cell_type": "markdown",
   "metadata": {
    "hidden": true
   },
   "source": [
    "Try entering \"SELECT * FROM listings\" and clicking the \"Run Query\" button in the top right."
   ]
  },
  {
   "cell_type": "markdown",
   "metadata": {
    "heading_collapsed": true,
    "hidden": true
   },
   "source": [
    "## Step 5: Practice using SQL to explore the data"
   ]
  },
  {
   "cell_type": "markdown",
   "metadata": {
    "hidden": true
   },
   "source": [
    "Below are some exercises to practice your SQL skills and help explore the data. You will need to explore the table schemas to complete these exercises. \n",
    "\n",
    "You may find it helpful to click on the corresponding .csv files to inspect the data, or look at the columns in each table in the right sidebar."
   ]
  },
  {
   "cell_type": "markdown",
   "metadata": {
    "heading_collapsed": true,
    "hidden": true
   },
   "source": [
    "### Exercise 1: Create a table showing the number of listings in each neighborhood"
   ]
  },
  {
   "cell_type": "markdown",
   "metadata": {
    "hidden": true
   },
   "source": [
    "<details>\n",
    "    <summary><b><u>Click Here for Answer Code</u></b></summary>\n",
    "    \n",
    "```sql\n",
    "    SELECT neighbourhood, COUNT(*)\n",
    "    FROM listings\n",
    "    GROUP BY neighbourhood\n",
    "```   \n",
    "</details>"
   ]
  },
  {
   "cell_type": "markdown",
   "metadata": {
    "heading_collapsed": true,
    "hidden": true
   },
   "source": [
    "### Exercise 2: Create a table showing the 20 listings with the most reviews"
   ]
  },
  {
   "cell_type": "markdown",
   "metadata": {
    "hidden": true
   },
   "source": [
    "<details>\n",
    "    <summary><b><u>Click Here for Answer Code</u></b></summary>\n",
    "\n",
    "```sql\n",
    "    SELECT *\n",
    "    FROM listings\n",
    "    ORDER BY number_of_reviews DESC\n",
    "    LIMIT 20\n",
    "```\n",
    "</details>"
   ]
  },
  {
   "cell_type": "markdown",
   "metadata": {
    "heading_collapsed": true,
    "hidden": true
   },
   "source": [
    "### Exercise 3: Create a table showing all of the reviews for listings that are \"Bed & Breakfast\" property types."
   ]
  },
  {
   "cell_type": "markdown",
   "metadata": {
    "hidden": true
   },
   "source": [
    "<details>\n",
    "    <summary><b><u>Click Here for Answer Code</u></b></summary>\n",
    "\n",
    "```sql    \n",
    "    SELECT *\n",
    "    FROM reviews\n",
    "    INNER JOIN listings\n",
    "        ON listings.id = reviews.listing_id\n",
    "    WHERE listings.property_type = \"Bed & Breakfast\"\n",
    "```\n",
    "</details>"
   ]
  },
  {
   "cell_type": "markdown",
   "metadata": {
    "heading_collapsed": true,
    "hidden": true
   },
   "source": [
    "### Exercise 4: Run your own query using a subquery or CTE."
   ]
  },
  {
   "cell_type": "markdown",
   "metadata": {
    "hidden": true
   },
   "source": [
    "Note that the syntax and functionality for subqueries and CTEs in data.world are more limited than SQLite, so try creating simple ones."
   ]
  }
 ],
 "metadata": {
  "kernelspec": {
   "display_name": "Python (Cohort_Env)",
   "language": "python",
   "name": "cohort_env"
  },
  "language_info": {
   "codemirror_mode": {
    "name": "ipython",
    "version": 3
   },
   "file_extension": ".py",
   "mimetype": "text/x-python",
   "name": "python",
   "nbconvert_exporter": "python",
   "pygments_lexer": "ipython3",
   "version": "3.8.19"
  },
  "toc": {
   "base_numbering": 1,
   "nav_menu": {},
   "number_sections": true,
   "sideBar": true,
   "skip_h1_title": false,
   "title_cell": "Table of Contents",
   "title_sidebar": "TOC",
   "toc_cell": true,
   "toc_position": {
    "height": "calc(100% - 180px)",
    "left": "10px",
    "top": "150px",
    "width": "336px"
   },
   "toc_section_display": true,
   "toc_window_display": true
  }
 },
 "nbformat": 4,
 "nbformat_minor": 2
}
