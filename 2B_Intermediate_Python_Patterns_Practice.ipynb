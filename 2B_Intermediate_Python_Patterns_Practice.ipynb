{
  "nbformat": 4,
  "nbformat_minor": 0,
  "metadata": {
    "colab": {
      "provenance": [],
      "include_colab_link": true
    },
    "kernelspec": {
      "name": "python3",
      "display_name": "Python 3"
    },
    "language_info": {
      "name": "python"
    }
  },
  "cells": [
    {
      "cell_type": "markdown",
      "metadata": {
        "id": "view-in-github",
        "colab_type": "text"
      },
      "source": [
        "<a href=\"https://colab.research.google.com/github/Jeesoo-Jhun/DS-NTL-091624/blob/main/2B_Intermediate_Python_Patterns_Practice.ipynb\" target=\"_parent\"><img src=\"https://colab.research.google.com/assets/colab-badge.svg\" alt=\"Open In Colab\"/></a>"
      ]
    },
    {
      "cell_type": "markdown",
      "source": [
        "---\n",
        "---\n",
        "---"
      ],
      "metadata": {
        "id": "_uKTxzE06md3"
      }
    },
    {
      "cell_type": "markdown",
      "source": [
        "# 📝 **Practicing with Intermediate Python Patterns** 🐍"
      ],
      "metadata": {
        "id": "NLkfFNQU6dNb"
      }
    },
    {
      "cell_type": "markdown",
      "source": [
        "Test your working knowledge of these _intermediate Python patterns_ with the following exercises!"
      ],
      "metadata": {
        "id": "a7Sr1_ax6zFJ"
      }
    },
    {
      "cell_type": "markdown",
      "source": [
        "---\n",
        "---"
      ],
      "metadata": {
        "id": "x_mZH4OF6nyu"
      }
    },
    {
      "cell_type": "markdown",
      "source": [
        "## 📍 **<big>OBJECTIVE #1:</big> _Implement the Fibonacci Algorithm_** 🧮"
      ],
      "metadata": {
        "id": "0xrroFlNXg0u"
      }
    },
    {
      "cell_type": "markdown",
      "source": [
        "---"
      ],
      "metadata": {
        "id": "UucNjlKQX5kN"
      }
    },
    {
      "cell_type": "markdown",
      "source": [
        "### 🎈 **<big>CHALLENGE 1.1:</big> _Iterators & Generators_**"
      ],
      "metadata": {
        "id": "RlhxVssv62o-"
      }
    },
    {
      "cell_type": "markdown",
      "source": [
        "A classic data structures problem on interviews revolves around the **Fibonacci sequence**, given how flexible of a problem it is and how many distinctive approaches one can choose in terms of prototyping a programmatic implementation for generating the Nth number in the sequence.\n",
        "\n",
        "The simplest and most straightforward approach to this problem leverages the concept of _recursion_, which means that the function invokes itself with different values in order to \"work down\" from a given integer in the sequence to the first and second values in the sequence before adding all relevant values back up.\n",
        "\n",
        "The corresponding implementation appears as follows:"
      ],
      "metadata": {
        "id": "5PjdXcmY7AB-"
      }
    },
    {
      "cell_type": "code",
      "execution_count": null,
      "metadata": {
        "id": "h2TXQCXr6ElL"
      },
      "outputs": [],
      "source": [
        "def recursive_fibonacci(n):\n",
        "    if n in (0, 1):\n",
        "        return n\n",
        "    else:\n",
        "        return recursive_fibonacci(n - 1) + recursive_fibonacci(n - 2)"
      ]
    },
    {
      "cell_type": "code",
      "source": [
        "for i in range(10):\n",
        "    print(recursive_fibonacci(i))"
      ],
      "metadata": {
        "id": "UmCzl0XH7CXH"
      },
      "execution_count": null,
      "outputs": []
    },
    {
      "cell_type": "markdown",
      "source": [
        "One of the most notorious issues with this approach is how computationally expensive it is due to its naïve approach of repeatedly calculating values that may have already been calculated previously in the callstack.\n",
        "\n",
        "As such, most devices show an observably significant latency cost when approaching sequence position values greater than 30.\n",
        "\n",
        "You can test this yourself:"
      ],
      "metadata": {
        "id": "nf5mqWVf7HLJ"
      }
    },
    {
      "cell_type": "code",
      "source": [
        "recursive_fibonacci(30)"
      ],
      "metadata": {
        "id": "-hlgZGdr7E4Z"
      },
      "execution_count": null,
      "outputs": []
    },
    {
      "cell_type": "code",
      "source": [
        "recursive_fibonacci(35)"
      ],
      "metadata": {
        "id": "ZCatTU-q3DhR"
      },
      "execution_count": null,
      "outputs": []
    },
    {
      "cell_type": "markdown",
      "source": [
        "Multiple alternative approaches exist that leverage more clever and scalable data structures that can handle repeat calculations or otherwise work around issues of the recursive callstack.\n",
        "\n",
        "One such approach can leverage **generators** to calculate each subsequent value in the Fibonacci sequence exactly when needed by working _up_ instead of down.\n",
        "\n",
        "A pseudocode approach looks like this:\n",
        "\n",
        "```\n",
        "1: function to generate fibonacci sequence\n",
        "2:     set pair of starter variable values (A & B) to 0 & 1, respectively\n",
        "3:     perform iteration while expression is true...\n",
        "4:         set pair of starter variables (A & B) to value of B and sum of A & B, respectively\n",
        "5:         use generator syntax to yield current value of A\n",
        "```\n",
        "\n",
        "Implement this pseudocode given what you've learned about generators to construct a Fibonacci sequence evaluator that can obtain values above `n = 30` in an observably insignificant amount of time.\n",
        "\n",
        "**HINT**: _The paired variable multiple assignment on Line 4 is tricky – it's advised to perform the multiple assignment operation on one line, if possible._"
      ],
      "metadata": {
        "id": "x6Wiz1tR7LNw"
      }
    },
    {
      "cell_type": "markdown",
      "source": [
        "---"
      ],
      "metadata": {
        "id": "gWIykhFH7TaN"
      }
    },
    {
      "cell_type": "markdown",
      "source": [
        "Use the following boilerplate to script your Fibonacci sequence generator function.\n",
        "\n",
        "Feel free to test it using the testing code given below."
      ],
      "metadata": {
        "id": "jjeFfJbk7RYQ"
      }
    },
    {
      "cell_type": "code",
      "source": [
        "# TODO: Write your custom Fibonacci sequence generator function here!"
      ],
      "metadata": {
        "id": "DyjgyJod7JO6"
      },
      "execution_count": null,
      "outputs": []
    },
    {
      "cell_type": "code",
      "source": [
        "# NOTE: Call your custom Fibonacci sequence generator function here!\n",
        "fibonacci_generator = \"???\"\n",
        "\n",
        "n, value = 35, 0\n",
        "for _ in range(n):\n",
        "    value = next(fibonacci_generator)\n",
        "\n",
        "value"
      ],
      "metadata": {
        "id": "ZAhDP_xp7N4c"
      },
      "execution_count": null,
      "outputs": []
    },
    {
      "cell_type": "markdown",
      "source": [
        "---\n",
        "---"
      ],
      "metadata": {
        "id": "f0BBsEdQ7Urz"
      }
    },
    {
      "cell_type": "markdown",
      "source": [
        "## 📍 **<big>OBJECTIVE #2:</big> _\"The Daily Bugle\"_** 🗞️"
      ],
      "metadata": {
        "id": "2kKg3kj2YF_A"
      }
    },
    {
      "cell_type": "markdown",
      "source": [
        "Let's imagine you've been hired by _The Daily Bugle_, the titular news agency reporting on the famous (or infamous, depending on who you're talking to) superhero and vigilante known as Spider-Man."
      ],
      "metadata": {
        "id": "Vg8NqYs3SHeU"
      }
    },
    {
      "cell_type": "markdown",
      "source": [
        "---"
      ],
      "metadata": {
        "id": "UkLg-WhEYVp9"
      }
    },
    {
      "cell_type": "markdown",
      "source": [
        "### 🎈 **<big>CHALLENGE 2.1:</big> _Handling User Input_**"
      ],
      "metadata": {
        "id": "YvvmIwQ-7iPR"
      }
    },
    {
      "cell_type": "markdown",
      "source": [
        "J. Jonah Jameson wants you to programmatically write a clickbait piece on the infamous wall-crawler!\n",
        "\n",
        "As you ponder this assignment and the morality of your new job, you remember from your Python seminar(s) that you can effectively do this using some user input handling scripts (with the help of `input()`) and some basic context management scripts for file manipulation (using `with`, `open()`, and `__file__.write()`).\n",
        "\n",
        "Fortunately, you've already written some preliminary prompts for each of the required segments – you just have to complete the script so you can quickly code it up!\n",
        "\n",
        "---\n",
        "\n",
        "Complete the following script such that you're able to enter in the following discretized pieces of information via user input:\n",
        "- The **author's name**. (A.K.A. your name!)\n",
        "- The **title** of the article.\n",
        "- The **subtitle** of the article.\n",
        "- A **small paragraph** summarizing your article... we can always get ChatGPT to write the rest. 😉\n",
        "\n",
        "Once you've done that, complete the remainder of the script by creating a context handler that opens a new text file called **`article.txt`** and writes the contents of all four saved pieces of information to the file.\n",
        "\n",
        "Feel free to use the following prompts for your four pieces of data to save via user input:\n",
        "- **`saved_authors_name`**: _Write in your own name, you silly goose!_\n",
        "- **`saved_article_title`**: `Three cheers for Spidey!`\n",
        "- **`saved_article_subtitle`**: `Our city in awe of the web-slinging wonder.`\n",
        "- **`saved_article_summary`**: `NYC has its fair share of problems, but we owe a lot to the playful antics and impactful heroism that our resident wall-crawler showcases each and every day. Spider-Man is a testament to how anyone with a good heart, a quick wit, an indestructible supply of spandex, and an uncanny likeness to insects can serve the city and its people so well. While others here at The Daily Bugle may have their own reservations, I think I speak for most the city when I say that we love the Spider-Man no matter who he is! On that note, if anyone has any good photos of Spider-Man that we can showcase, please get in touch. Our resident photographer Peter Parker was recently fired and - wow - did he get some good photos of our hero. Dear reader, if you ever see Spider-Man in the city, let him know that he's welcome at The Daily Bugle anytime! P.S. Python rocks!`"
      ],
      "metadata": {
        "id": "bRVmhMToRF2z"
      }
    },
    {
      "cell_type": "code",
      "source": [
        "# TODO: Complete the user input handling script below that\n",
        "#       saves the author's name for later.\n",
        "saved_authors_name = \"???\"\n",
        "\n",
        "print(f\"\\nGreat to meet you, {saved_authors_name}!\")\n",
        "\n",
        "# TODO: Complete the user input handling script below that\n",
        "#       saves the article's title for later.\n",
        "saved_article_title = \"???\"\n",
        "\n",
        "# TODO: Complete the user input handling script below that\n",
        "#       saves the article's subtitle for later.\n",
        "saved_article_subtitle = \"???\"\n",
        "\n",
        "# TODO: Complete the user input handling script below that\n",
        "#       saves the article's summary paragraph for later.\n",
        "saved_article_summary = \"???\"\n",
        "\n",
        "print(f\"\\nGreat job! Let's go ahead and save this to a new file called `article.txt`.\")\n",
        "\n",
        "# TODO: Write a context handling script to open a new file\n",
        "#       called `article.txt` and write the contents of\n",
        "#       your previous saved article information to it.\n",
        "# NOTE: To make subsequent tasks easier, be sure to save\n",
        "#       each of the four key pieces of written information\n",
        "#       on new lines of your newly opened file.\n",
        "pass"
      ],
      "metadata": {
        "id": "dvNnoLQPAzZQ"
      },
      "execution_count": null,
      "outputs": []
    },
    {
      "cell_type": "markdown",
      "source": [
        "If all is well, you should have a new file called **`article.txt`** with your name as well as the title, the subtitle, and the summary of your article contents written to it!"
      ],
      "metadata": {
        "id": "U4LMPV5WAuHc"
      }
    },
    {
      "cell_type": "markdown",
      "source": [
        "---\n",
        "---"
      ],
      "metadata": {
        "id": "deqBGbxL7wLE"
      }
    },
    {
      "cell_type": "markdown",
      "source": [
        "### 🎈 **<big>CHALLENGE 2.2:</big> _Context Management & File Manipulation_**"
      ],
      "metadata": {
        "id": "WGE6EMzn7iNI"
      }
    },
    {
      "cell_type": "markdown",
      "source": [
        "As it turns out, J. Jonah Jameson recently read your article and was... less than pleased about it. However, even he couldn't deny that it was one of the most popular articles in recent history and sent a ton of good publicity towards _The Daily Bugle_.\n",
        "\n",
        "That being said, he wants to find out just how much ink you wasted praising the \"masked menace\" in your last editorial piece.\n",
        "\n",
        "First off, he wants to get a word count for the article's title, subtitle, and summary contents.\n",
        "\n",
        "---\n",
        "\n",
        "Complete the following script by creating another context manager (using `with` and `open` for file manipulation): in this case, you won't be writing to a file, but reading from it.\n",
        "\n",
        "Once you've accessed the file, you'll need to obtain the following pieces of information:\n",
        "- The **word count** of the title.\n",
        "- The **word count** of the subtitle.\n",
        "- The **word count** of the article summary."
      ],
      "metadata": {
        "id": "_PezIjJMQ6_i"
      }
    },
    {
      "cell_type": "code",
      "source": [
        "# TODO: Write a context management script to open a preexisting file\n",
        "#       called `article.txt` and read the contents line-by-line from it.\n",
        "#       From there, use string processing to isolate the word counts for\n",
        "#       the title, the subtitle, and the article summary paragraph.\n",
        "pass"
      ],
      "metadata": {
        "id": "aerUzcizECJZ"
      },
      "execution_count": null,
      "outputs": []
    },
    {
      "cell_type": "markdown",
      "source": [
        "---\n",
        "---"
      ],
      "metadata": {
        "id": "7XVMJXAY7x8N"
      }
    },
    {
      "cell_type": "markdown",
      "source": [
        "### 🎈 **<big>CHALLENGE 2.3:</big> _Lambda Functions_**"
      ],
      "metadata": {
        "id": "tc7ObrXA7iKx"
      }
    },
    {
      "cell_type": "markdown",
      "source": [
        "J. Jonah Jameson is still not-too-happy with your praise of the volatile vigilante.\n",
        "\n",
        "Now, he wants to know specifically how many times you mention the infamous Spider-Man in your article.\n",
        "\n",
        "Moreover, he's grown suspicious of your editorial exaggerations and wants you to flex your programming skills a little more... he's specifically requested you to make use of lambda functions and context managers such that you can open any article and instantly create a dictionary of all unique words and their corresponding number of occurrences across the specific article.\n",
        "\n",
        "Why he's specifically requested that... we'll never know.\n",
        "\n",
        "---\n",
        "\n",
        "Complete the following script by creating yet another context manager (using `with` and `open` for file manipulation): in this case, you'll also be reading from the file.\n",
        "\n",
        "Once you've accessed the file, you'll need to write a lambda function that looks (or maps) over each word in your article (doesn't need to account for your name, title, or subtitle) and saves each unique word-in-your-article as well as its total occurrences/frequency in the article to a new dictionary (called `token_occurrences` in the code below).\n",
        "\n",
        "J. Jonah Jameson is being very strict with his requirements... as such, you are _not permitted_ to use external dependencies (such as `collections.Counter`), nor can you iteratively create a dictionary. You **must** use a `lambda` in your code.\n",
        "\n",
        "Once you've created your dictionary of word frequencies across your article, you're asked to retrieve the specific word frequency amount for the word `\"Spider-Man\"`.\n",
        "\n",
        "**NOTE**: If you used the prompt given above, you should observe that the word `\"Spider-Man\"` has occurred _four_ (`4`) times in the article."
      ],
      "metadata": {
        "id": "sBuKU3s7Tpe9"
      }
    },
    {
      "cell_type": "code",
      "source": [
        "# TODO: Write a context management script to open a preexisting file\n",
        "#       called `article.txt` and read the contents line-by-line from it.\n",
        "#       From there, use string processing to isolate the article contents\n",
        "#       (you can ignore the author's name, title, and subtitle) and write\n",
        "#       a lambda function that constructs a dictionary where each key is\n",
        "#       every unique word in the article and each value is the number of\n",
        "#       times that that specific word occurs in the article.\n",
        "pass"
      ],
      "metadata": {
        "id": "wusMuZ2cIqjq"
      },
      "execution_count": null,
      "outputs": []
    },
    {
      "cell_type": "markdown",
      "source": [
        "Excellent work!\n",
        "\n",
        "However, despite your sincerest programming efforts, our illustrious editorial chief J. Jonah Jameson is still very displeased with your adoration for the amazing arachnid cosplayer.\n",
        "\n",
        "As such, you have been immediately fired from _The Daily Bugle_.\n",
        "\n",
        "Looks like you'll need to find somewhere else to apply your creative programming skills!\n",
        "\n",
        "Luckily, you recently heard of an opening at a pretty prestigious establishment... it seems that just the other day, you received a waterlogged employment contract from somebody who lives in a pineapple under the sea."
      ],
      "metadata": {
        "id": "LyImZez-JH0u"
      }
    },
    {
      "cell_type": "markdown",
      "source": [
        "---\n",
        "---"
      ],
      "metadata": {
        "id": "qy371xVk7ynS"
      }
    },
    {
      "cell_type": "markdown",
      "source": [
        "## 📍 **<big>OBJECTIVE #3:</big> _\"The Krusty Krab\"_** 🦀"
      ],
      "metadata": {
        "id": "xEiwQ_SCYbO5"
      }
    },
    {
      "cell_type": "markdown",
      "source": [
        "Welcome to the Krusty Krab!\n",
        "\n",
        "No, this isn't Patrick... but this is your first day on the job and you want to make sure you do well enough for Mr. Krabs (your boss) to keep you on!\n",
        "\n",
        "Maybe one day you'll even be employee of the month!"
      ],
      "metadata": {
        "id": "STw8R8QAR3n5"
      }
    },
    {
      "cell_type": "markdown",
      "source": [
        "---"
      ],
      "metadata": {
        "id": "Ghivvsd8YlFq"
      }
    },
    {
      "cell_type": "markdown",
      "source": [
        "### 🎈 **<big>CHALLENGE 3.1:</big> _Subclassing and Superclassing_**"
      ],
      "metadata": {
        "id": "8iByyOzC7iIY"
      }
    },
    {
      "cell_type": "markdown",
      "source": [
        "Mr. Krabs is a tough boss, given how often he has to both serve some of the best food that Bikini Bottom has ever seen.\n",
        "\n",
        "Not only that, but he's constantly paranoid of his main competition: the Chum Bucket and the nefarious Plankton... after all, they're always after the Krabby Patty secret formula!\n",
        "\n",
        "Mr. Krabs has tasked you with redesigning the entire backend interface for how the Krusty Krab monitors its menu, staff, and customers.\n",
        "\n",
        "But Mr. Krabs is no fool... he knows that Plankton is shrewd and will probably try and steal the Krabby Patty secret formula any day now.\n",
        "\n",
        "As such, he wants you to create a mockup interface for the Chum Bucket too - that way, he can analyze how much more money he makes and whether or not he can defend against Plankton's attempts to steal from his restaurant.\n",
        "\n",
        "---\n",
        "\n",
        "Mr. Krabs has advised you to create a sophisticated object-oriented architecture that can handle how both the Krusty Krab and the Chum Bucket handle current ownership, employee counts, and corresponding menu items.\n",
        "\n",
        "While many of these data points are generalized for any restaurant in Bikini Bottom, some measurements are unique for each specific restaurant.\n",
        "\n",
        "Therefore, you decide to create a superclass-subclass-oriented hierarchy to streamline the process.\n",
        "\n",
        "Your superclasses are as follows:\n",
        "- One superclass is a `BikiniBottomRestaurant`, which has an `owner`, a `num_employees`, and a `menu`.\n",
        "    - Only the first two attributes are passed into the object as instantiable arguments; the `menu` is only created internally.\n",
        "        - `self.owner` is the name (`string`) of the restaurant's owner.\n",
        "        - `self.num_employees` is the current number of employees (`int`) that the restaurant has on staff.\n",
        "        - `self.menu` is an array (`list`) of current food items (`BikiniBottomFoodItem`s).\n",
        "    - Additionally, the restaurant object has a method called `self.add_dish_to_menu()` that adds a new food item (`BikiniBottomFoodItem`) to the current restaurant's menu (`self.menu`).\n",
        "\n",
        "- Another superclass is a `BikiniBottomFoodItem`, which has a `name`, a measure of `calories`, and a `price`.\n",
        "    - All attributes are passed into the object as instantiable arguments.\n",
        "        - `self.name` is the orderable name (`string`) of the corresponding dish.\n",
        "        - `self.calories` is the number of calories (`int`) of the corresponding dish.\n",
        "        - `self.price` is the current price (`float`) in dollars of the corresponding dish."
      ],
      "metadata": {
        "id": "JeXQ-G8SStg8"
      }
    },
    {
      "cell_type": "code",
      "source": [
        "# TODO: Complete the following object-oriented architecture\n",
        "#       to match the given configurations for a restaurant.\n",
        "class BikiniBottomRestaurant:\n",
        "    def __init__(self, owner=None, num_employees=0):\n",
        "        pass\n",
        "\n",
        "    def add_dish_to_menu(self, dish):\n",
        "        pass\n",
        "\n",
        "\n",
        "# TODO: Complete the following object-oriented architecture\n",
        "#       to match the given configurations for a food item.\n",
        "class BikiniBottomFoodItem:\n",
        "    def __init__(self, name, calories=0, price=0):\n",
        "        pass"
      ],
      "metadata": {
        "id": "nIm9ILWEVNs9"
      },
      "execution_count": null,
      "outputs": []
    },
    {
      "cell_type": "markdown",
      "source": [
        "From there, Mr. Krabs wants you to create a variety of subclasses that inherit from these superclasses and define their own new data.\n",
        "\n",
        "Your subclasses are as follows:\n",
        "- One subclass is the `KrustyKrab` that inherits from `BikiniBottomRestaurant`; it has an `owner`, a `num_employees`, and a measurement called `is_the_secret_formula_safe`.\n",
        "    - All attributes are passed into the object as instantiable arguments.\n",
        "    - The first two attributes (`owner`, `num_employees`) are then passed into the superclass's initializer so that explicit inheritance can occur.\n",
        "        - `self.owner` is the name (`string`) of the Krusty Krab's owner.\n",
        "        - `self.num_employees` is the current number of employees (`int`) that the Krusty Krab has on staff.\n",
        "        - `self.is_the_secret_formula_safe` is a true/false value (`bool`) that tracks whether or not the Krabby Patty secret formula is currently safe and secure.\n",
        "- Another subclass is the `ChumBucket` that inherits from `BikiniBottomRestaurant`; it has an `owner` and a `num_employees`.\n",
        "    - All attributes are passed into the object as instantiable arguments.\n",
        "    - All attributes (`owner`, `num_employees`) are then passed into the superclass's initializer so that explicit inheritance can occur.\n",
        "        - `self.owner` is the name (`string`) of the Chum Bucket's owner.\n",
        "        - `self.num_employees` is the current number of employees (`int`) that the Chum Bucket has on staff.\n",
        "    - Additionally, the Chum Bucket object has a method called `self.steal_the_krabby_patty_secret_formula()` that attempts to alter the value of `KrustyKrab.is_the_secret_formula_safe`.\n",
        "        - For the sake of testing, this function has been pre-written for you."
      ],
      "metadata": {
        "id": "_OVyb3d3WlkY"
      }
    },
    {
      "cell_type": "code",
      "source": [
        "# TODO: Complete the following object-oriented architecture\n",
        "#       to match the given configurations for the Krusty Krab.\n",
        "class KrustyKrab(object):\n",
        "    def __init__(self, owner, num_employees, is_the_secret_formula_safe=True):\n",
        "        pass\n",
        "\n",
        "# TODO: Complete the following object-oriented architecture\n",
        "#       to match the given configurations for the Chum Bucket.\n",
        "class ChumBucket(object):\n",
        "    def __init__(self, owner, num_employees):\n",
        "        pass\n",
        "\n",
        "    def steal_the_krabby_patty_secret_formula(self, krusty_krab):\n",
        "        if krusty_krab.is_the_secret_formula_safe is True:\n",
        "            krusty_krab.is_the_secret_formula_safe = False\n",
        "            return print(\"Take that, Eugene! I've stolen your Krabby Patty secret formula!!!\")\n",
        "        else:\n",
        "            return print(\"Curses! Someone already took the secret formula!!\")"
      ],
      "metadata": {
        "id": "v9oRIWCvX8BV"
      },
      "execution_count": null,
      "outputs": []
    },
    {
      "cell_type": "markdown",
      "source": [
        "That's not all of our subclasses! We still have to account for our food items that'll go on our restaurant menus.\n",
        "\n",
        "Thankfully, those are much simpler.\n",
        "\n",
        "Your remaining subclasses are as follows:\n",
        "\n",
        "- Five subclasses called `KrabbyPatty`, `KelpFries`, `SeafoamSoda`, `Chumsticks`, and `Chumbalaya` that each inherit from `BikiniBottomFoodItem`; they each have a `name`, a number of `calories`, and a `price`.\n",
        "    - All attributes are passed into each object as instantiable arguments.\n",
        "    - All attributes (`name`, `calories`, `price`) are then passed into the superclass's initializer so that explicit inheritnace can occur.\n",
        "        - `self.name` is the orderable name (`string`) of the corresponding restaurant dish.\n",
        "        - `self.calories` is the number of calories (`int`) of the corresponding restaurant dish.\n",
        "        - `self.price` is the current price (`float`) in dollars of the corresponding restaurant dish."
      ],
      "metadata": {
        "id": "EbFGhpH8YZrn"
      }
    },
    {
      "cell_type": "code",
      "source": [
        "# TODO: Complete the following object-oriented architecture\n",
        "#       to match the given configurations for a Krabby Patty.\n",
        "class KrabbyPatty(object):\n",
        "    def __init__(self, name, calories, price):\n",
        "        pass\n",
        "\n",
        "# TODO: Complete the following object-oriented architecture\n",
        "#       to match the given configurations for Kelp Fries.\n",
        "class KelpFries(object):\n",
        "    def __init__(self, name, calories, price):\n",
        "        pass\n",
        "\n",
        "# TODO: Complete the following object-oriented architecture\n",
        "#       to match the given configurations for some Seafoam Soda.\n",
        "class SeafoamSoda(object):\n",
        "    def __init__(self, name, calories, price):\n",
        "        pass\n",
        "\n",
        "# TODO: Complete the following object-oriented architecture\n",
        "#       to match the given configurations for some Chumsticks.\n",
        "class Chumsticks(object):\n",
        "    def __init__(self, name, calories, price):\n",
        "        pass\n",
        "\n",
        "# TODO: Complete the following object-oriented architecture\n",
        "#       to match the given configurations for some Chumbalaya.\n",
        "class Chumbalaya(object):\n",
        "    def __init__(self, name, calories, price):\n",
        "        pass"
      ],
      "metadata": {
        "id": "AEm7k5qEY9Y5"
      },
      "execution_count": null,
      "outputs": []
    },
    {
      "cell_type": "markdown",
      "source": [
        "Eugene is a tough taskmaster! He wants to make sure that your scripting is up to Krusty Krab standards!\n",
        "\n",
        "As such, he'll need to make sure that before you get paid, your code actually passes his tests.\n",
        "\n",
        "Before moving on to the next challenge, test the integrity of your scripts so far by ensuring that no errors occur in the following cells."
      ],
      "metadata": {
        "id": "5xRB3Kt4ZUmW"
      }
    },
    {
      "cell_type": "code",
      "source": [
        "# Define instances of the Krusty Krab and the Chum Bucket.\n",
        "krusty_krab = KrustyKrab(owner=\"Mr. Krabs\",\n",
        "                         num_employees=3)\n",
        "chum_bucket = ChumBucket(owner=\"Plankton\",\n",
        "                         num_employees=2)\n",
        "\n",
        "# Add relevant dishes to both restaurants' menus.\n",
        "krusty_krab.add_dish_to_menu(KrabbyPatty(name=\"Krabby Patty\",\n",
        "                                         calories=680,\n",
        "                                         price=6.99))\n",
        "krusty_krab.add_dish_to_menu(KelpFries(name=\"Side of Kelp Fries\",\n",
        "                                       calories=330,\n",
        "                                       price=3.99))\n",
        "krusty_krab.add_dish_to_menu(SeafoamSoda(name=\"Large Seaform Soda\",\n",
        "                                         calories=240,\n",
        "                                         price=1.99))\n",
        "\n",
        "chum_bucket.add_dish_to_menu(Chumsticks(name=\"Bucket of Chumsticks\",\n",
        "                                        calories=640,\n",
        "                                        price=4.99))\n",
        "chum_bucket.add_dish_to_menu(Chumbalaya(name=\"Bowl of Chumbalaya\",\n",
        "                                        calories=1370,\n",
        "                                        price=10.99))"
      ],
      "metadata": {
        "id": "tlgiFOrJZiaq"
      },
      "execution_count": null,
      "outputs": []
    },
    {
      "cell_type": "code",
      "source": [
        "# Check the status of the Krusty Krab's Krabby Patty secret formula.\n",
        "# It should be safe and sound.\n",
        "assert krusty_krab.is_the_secret_formula_safe == True\n",
        "\n",
        "# Have Plankton steal the secret formula for the Chum Bucket!\n",
        "# NOTE: This should print some flavor text.\n",
        "chum_bucket.steal_the_krabby_patty_secret_formula(krusty_krab)\n",
        "\n",
        "# Check the status of the Krusty Krab's Krabby Patty secret formula.\n",
        "# It should be stolen now by Plankton!\n",
        "assert krusty_krab.is_the_secret_formula_safe == False\n",
        "\n",
        "# If Plankton tries to steal the secret formula again, nothing should happen.\n",
        "# After all, he already has it!\n",
        "# NOTE: This should print some more flavor text.\n",
        "chum_bucket.steal_the_krabby_patty_secret_formula(krusty_krab)\n",
        "\n",
        "# Thankfully, Mr. Krabs can recover the secret formula at will.\n",
        "krusty_krab.is_the_secret_formula_safe = True\n",
        "\n",
        "# Check the status of the Krusty Krab's Krabby Patty secret formula.\n",
        "# It should be safe and sound.\n",
        "assert krusty_krab.is_the_secret_formula_safe == True"
      ],
      "metadata": {
        "id": "pmTfzCoAZnDA"
      },
      "execution_count": null,
      "outputs": []
    },
    {
      "cell_type": "markdown",
      "source": [
        "---\n",
        "---"
      ],
      "metadata": {
        "id": "1P9dksCc7zcN"
      }
    },
    {
      "cell_type": "markdown",
      "source": [
        "# **THIS SECTION IS UNDER DEVELOPMENT.**\n",
        "\n",
        "## _You do not need to complete anything beyond this point._"
      ],
      "metadata": {
        "id": "qI7lva1Xp_9C"
      }
    },
    {
      "cell_type": "markdown",
      "source": [
        "### 🎈 **<big>CHALLENGE 3.2:</big> _Dunder (Magic) Methods_**"
      ],
      "metadata": {
        "id": "Fd8amo7E7iDs"
      }
    },
    {
      "cell_type": "markdown",
      "source": [
        "Mr. Krabs is pretty impressed with your work so far!\n",
        "\n",
        "But Plankton is a stubborn competitor... simply protecting against his attempts to steal the Krabby Patty secret formula isn't enough to ensure that he's losing.\n",
        "\n",
        "Mr. Krabs also wants to be sure that his business is doing well! So we gotta make sure that we can track how much money both restaurants are bringing in from customer orders!\n",
        "\n",
        "---\n",
        "\n"
      ],
      "metadata": {
        "id": "Fsr0NjxLSux4"
      }
    },
    {
      "cell_type": "markdown",
      "source": [
        "---\n",
        "---"
      ],
      "metadata": {
        "id": "C2fIKM0Z70Rz"
      }
    },
    {
      "cell_type": "markdown",
      "source": [
        "### 🎈 **<big>CHALLENGE 3.3:</big> _Properties & Validation_**"
      ],
      "metadata": {
        "id": "LAa_i6Hp7h8l"
      }
    },
    {
      "cell_type": "markdown",
      "source": [
        "The Krusty Krab, Part 3.\n",
        "\n",
        "> Validate several of the attributes previously created for the Krusty Krab's dishes from **Challenge 3.2**."
      ],
      "metadata": {
        "id": "FM-2BSY_Sv6e"
      }
    },
    {
      "cell_type": "markdown",
      "source": [
        "---\n",
        "---"
      ],
      "metadata": {
        "id": "3LcPemQA70zN"
      }
    },
    {
      "cell_type": "markdown",
      "source": [
        "## 📍 **<big>OBJECTIVE #4:</big> _Improve a Mini-Project_** 👑"
      ],
      "metadata": {
        "id": "2G-x1usgYm5t"
      }
    },
    {
      "cell_type": "markdown",
      "source": [
        "---"
      ],
      "metadata": {
        "id": "We3XY2pGY2rF"
      }
    },
    {
      "cell_type": "markdown",
      "source": [
        "### 🎈 **<big>CHALLENGE 4.1:</big> _Test-Driven Development_**"
      ],
      "metadata": {
        "id": "F0IfEcOC7r12"
      }
    },
    {
      "cell_type": "markdown",
      "source": [
        "This final challenge is a little... interesting.\n",
        "\n",
        "Each of the previous exercises contain a small suite of testing code that has been previously curated to allow you to immediately assess if your code is working as intended.\n",
        "\n",
        "However, none of them are particularly impressive when it comes to true test-driven development.\n",
        "\n",
        "Moreover, you may have noticed that six of the seven previous exercises revolved around two Python mini-projects: **\"The Daily Bugle\"** and **\"The Krusty Krab\"**.\n",
        "\n",
        "Your objective is simple: **revise _at least one (1) of the two previous challenge mini-projects' testing suites_ by using various `assert` statements to ensure that your custom scripts, functions, and objects are working as intended.**\n",
        "\n",
        "You'll notice that this challenge, unlike previous ones, is particularly ambiguous... that is because testing is largely up to the creatively analytical interpretation of the developer.\n",
        "\n",
        "Your goal is to be as exhaustive and verbose as possible to ensure that your derived scripts, functions, and objects are not only doing exactly what they're supposed to be doing, but aren't comprising any nasty side effects or misappropriated behavior.\n",
        "\n",
        "Think of it this way... how robust and reliable can you make your code such that another developer can't easily break it through a nasty variable input or sneaky function invocation?\n",
        "\n",
        "By the end of this challenge, you should see that either **The Daily Bugle** or **The Krusty Krab** now have a series of testing functions and scripts written to verify the reliability and robustness of their three interdependently functioning custom scripts that you wrote previously."
      ],
      "metadata": {
        "id": "JTP6eo8j96BJ"
      }
    },
    {
      "cell_type": "markdown",
      "source": [
        "---\n",
        "---"
      ],
      "metadata": {
        "id": "vfW3Rpi072rf"
      }
    },
    {
      "cell_type": "markdown",
      "source": [
        "Well done! 🌟"
      ],
      "metadata": {
        "id": "Oc5mZK9O73Ik"
      }
    },
    {
      "cell_type": "markdown",
      "source": [
        "---\n",
        "---\n",
        "---"
      ],
      "metadata": {
        "id": "JjWHr-A87uKL"
      }
    }
  ]
}